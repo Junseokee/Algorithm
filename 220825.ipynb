{
  "nbformat": 4,
  "nbformat_minor": 0,
  "metadata": {
    "colab": {
      "name": "220825.ipynb",
      "provenance": [],
      "collapsed_sections": [],
      "authorship_tag": "ABX9TyMNkeTyoouik0l3mx67o60Y",
      "include_colab_link": true
    },
    "kernelspec": {
      "name": "python3",
      "display_name": "Python 3"
    },
    "language_info": {
      "name": "python"
    }
  },
  "cells": [
    {
      "cell_type": "markdown",
      "metadata": {
        "id": "view-in-github",
        "colab_type": "text"
      },
      "source": [
        "<a href=\"https://colab.research.google.com/github/Junseokee/Algorithm/blob/main/220825.ipynb\" target=\"_parent\"><img src=\"https://colab.research.google.com/assets/colab-badge.svg\" alt=\"Open In Colab\"/></a>"
      ]
    },
    {
      "cell_type": "markdown",
      "source": [
        "## 2869 달팽이는 올라가고싶다\n",
        "\n",
        "문제\n",
        "땅 위에 달팽이가 있다. 이 달팽이는 높이가 V미터인 나무 막대를 올라갈 것이다.\n",
        "\n",
        "달팽이는 낮에 A미터 올라갈 수 있다. 하지만, 밤에 잠을 자는 동안 B미터 미끄러진다. 또, 정상에 올라간 후에는 미끄러지지 않는다.\n",
        "\n",
        "달팽이가 나무 막대를 모두 올라가려면, 며칠이 걸리는지 구하는 프로그램을 작성하시오.\n",
        "\n",
        "입력\n",
        "첫째 줄에 세 정수 A, B, V가 공백으로 구분되어서 주어진다. (1 ≤ B < A ≤ V ≤ 1,000,000,000)\n",
        "\n",
        "출력\n",
        "첫째 줄에 달팽이가 나무 막대를 모두 올라가는데 며칠이 걸리는지 출력한다."
      ],
      "metadata": {
        "id": "SqwS5SzA6jNs"
      }
    },
    {
      "cell_type": "code",
      "source": [
        "A, B, C = map(int,input().split(\" \"))"
      ],
      "metadata": {
        "colab": {
          "base_uri": "https://localhost:8080/"
        },
        "id": "EPwsXxHs6tV9",
        "outputId": "d575188e-9f6e-4ae1-cdaa-d277db4e8d73"
      },
      "execution_count": null,
      "outputs": [
        {
          "name": "stdout",
          "output_type": "stream",
          "text": [
            "100 99 1000000000\n"
          ]
        }
      ]
    },
    {
      "cell_type": "code",
      "source": [
        "day = 0\n",
        "while C >0:\n",
        "  day = day + 1\n",
        "  C = C-A\n",
        "  if C <=0:\n",
        "    break\n",
        "  else:\n",
        "    C = C + B\n",
        "print(day)"
      ],
      "metadata": {
        "colab": {
          "base_uri": "https://localhost:8080/"
        },
        "id": "TKMCfB-N62uc",
        "outputId": "ff4a72f0-b5f0-4ab9-d66a-9211812d8fc2"
      },
      "execution_count": null,
      "outputs": [
        {
          "output_type": "stream",
          "name": "stdout",
          "text": [
            "999999901\n"
          ]
        }
      ]
    },
    {
      "cell_type": "code",
      "source": [
        "A, B, C = map(int,input().split(\" \"))\n",
        "k = (C-B)/(A-B)\n",
        "print(int(k) if k== int(k) else int(k)+1)"
      ],
      "metadata": {
        "colab": {
          "base_uri": "https://localhost:8080/"
        },
        "id": "jZXyd80f68-O",
        "outputId": "b07960c3-8643-4470-fd6f-48d536b7ea28"
      },
      "execution_count": null,
      "outputs": [
        {
          "output_type": "stream",
          "name": "stdout",
          "text": [
            "100 99 1000000000\n",
            "999999901\n"
          ]
        }
      ]
    },
    {
      "cell_type": "markdown",
      "source": [
        "## 2775 부녀회장이 될테야\n",
        "문제\n",
        "평소 반상회에 참석하는 것을 좋아하는 주희는 이번 기회에 부녀회장이 되고 싶어 각 층의 사람들을 불러 모아 반상회를 주최하려고 한다.\n",
        "\n",
        "이 아파트에 거주를 하려면 조건이 있는데, “a층의 b호에 살려면 자신의 아래(a-1)층의 1호부터 b호까지 사람들의 수의 합만큼 사람들을 데려와 살아야 한다” 는 계약 조항을 꼭 지키고 들어와야 한다.\n",
        "\n",
        "아파트에 비어있는 집은 없고 모든 거주민들이 이 계약 조건을 지키고 왔다고 가정했을 때, 주어지는 양의 정수 k와 n에 대해 k층에 n호에는 몇 명이 살고 있는지 출력하라. 단, 아파트에는 0층부터 있고 각층에는 1호부터 있으며, 0층의 i호에는 i명이 산다.\n",
        "\n",
        "입력\n",
        "첫 번째 줄에 Test case의 수 T가 주어진다. 그리고 각각의 케이스마다 입력으로 첫 번째 줄에 정수 k, 두 번째 줄에 정수 n이 주어진다\n",
        "\n",
        "출력\n",
        "각각의 Test case에 대해서 해당 집에 거주민 수를 출력하라."
      ],
      "metadata": {
        "id": "kdeLCT1z7rwQ"
      }
    },
    {
      "cell_type": "code",
      "source": [
        "T = int(input())\n",
        "lst = []\n",
        "for i in range(T):\n",
        "  k = int(input())\n",
        "  n = int(input())\n",
        "  lst.append((k,n))\n"
      ],
      "metadata": {
        "id": "SFbBdkFKH6-W",
        "colab": {
          "base_uri": "https://localhost:8080/"
        },
        "outputId": "006562c8-1e85-4aef-c956-9c272fb89a64"
      },
      "execution_count": 2,
      "outputs": [
        {
          "name": "stdout",
          "output_type": "stream",
          "text": [
            "2\n",
            "1\n",
            "3\n",
            "2\n",
            "3\n"
          ]
        }
      ]
    },
    {
      "cell_type": "markdown",
      "source": [
        "0층 1 + 2 + 3 + 4 + 5   \n",
        "1층 1 + 3 + 6 + 10 + 15    \n",
        "2층 1 + 4 + 10 + 20 + 35    \n",
        "3층 1 + 5 + 15 + 35 + 55    \n",
        "\n",
        "N01 = 1    \n",
        "N02 = n+2    \n",
        "N03 = (n)+3   "
      ],
      "metadata": {
        "id": "06WRfR20JbfD"
      }
    },
    {
      "cell_type": "markdown",
      "source": [
        "\n",
        "1 + 2 + 3\n",
        "103호 = 6명\n",
        "1+3+6 = 10\n",
        "203호 = 10명"
      ],
      "metadata": {
        "id": "aWoksNWPLdae"
      }
    },
    {
      "cell_type": "code",
      "source": [
        "+ 1 + 1 + 1+ 1+1\n",
        "+ 2+ 3 + 4 + 5 \n",
        "+ 3 +6 + 4 + 5\n",
        "+ 4 + 10 + 20 + 35"
      ],
      "metadata": {
        "id": "5qQ9dUB3JHIA"
      },
      "execution_count": null,
      "outputs": []
    },
    {
      "cell_type": "code",
      "source": [
        "for i in range(n):\n",
        "  s = (k+1)\n",
        "  for j in range()\n",
        "    lst[i][j]\n",
        "    s += s"
      ],
      "metadata": {
        "id": "PsFC_2JiJvBM"
      },
      "execution_count": null,
      "outputs": []
    }
  ]
}