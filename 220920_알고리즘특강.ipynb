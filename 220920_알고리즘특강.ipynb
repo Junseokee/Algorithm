{
  "nbformat": 4,
  "nbformat_minor": 0,
  "metadata": {
    "colab": {
      "provenance": [],
      "collapsed_sections": [],
      "authorship_tag": "ABX9TyMIe4cQgNt/XbZAUj+pcjHP",
      "include_colab_link": true
    },
    "kernelspec": {
      "name": "python3",
      "display_name": "Python 3"
    },
    "language_info": {
      "name": "python"
    }
  },
  "cells": [
    {
      "cell_type": "markdown",
      "metadata": {
        "id": "view-in-github",
        "colab_type": "text"
      },
      "source": [
        "<a href=\"https://colab.research.google.com/github/Junseokee/Algorithm/blob/main/220920_%EC%95%8C%EA%B3%A0%EB%A6%AC%EC%A6%98%ED%8A%B9%EA%B0%95.ipynb\" target=\"_parent\"><img src=\"https://colab.research.google.com/assets/colab-badge.svg\" alt=\"Open In Colab\"/></a>"
      ]
    },
    {
      "cell_type": "code",
      "execution_count": null,
      "metadata": {
        "id": "SVBGQtIpOWuM"
      },
      "outputs": [],
      "source": [
        "# 선택정렬\n",
        "int a[6] = {6,3,1,2,0,5};\n",
        "int i,j key;\n",
        "for(i=1; i<6; i++)\n",
        "{\n",
        "    j = i -1;\n",
        "}\n",
        "key = a[i];\n",
        "while(a[j]<key)\n",
        "{\n",
        "    a[j+1] = a[j];\n",
        " j = j-1;\n",
        " if(j<0)break;\n",
        "}\n",
        "  a[j+1] = key;\n",
        "  }\n",
        "  print('%d\\n',a[4]);"
      ]
    },
    {
      "cell_type": "code",
      "source": [
        "# 버블 정렬\n",
        "i = 0, \n",
        "const int n = 10;\n",
        "int a[n] = {16,12,17,48,89,21,97,59,30,16};\n",
        "int i, j, t, res =0;\n",
        "\n",
        "for(i=0; i <n; i++){\n",
        "    for(j= i+1; j<n; j++){\n",
        "    if(a[i]>a[j]){\n",
        "        t=a[i];\n",
        "        a[i]=a[j]\n",
        "        a[j]=t;\n",
        "        }\n",
        "    }\n",
        "}\n",
        "print('%d\\n',a[2])\n"
      ],
      "metadata": {
        "id": "tK5eLaTjg6Kt"
      },
      "execution_count": null,
      "outputs": []
    },
    {
      "cell_type": "markdown",
      "source": [
        "### stack(LIFO)\n",
        "파이썬 리스트 등에 사용됨 ex) push, pop\n",
        "장점 : 데이터 보장이 가능 (처음 들어간데이터가 유지)\n",
        "\n",
        "### queue(FIFO)\n",
        "---------------------------------\n",
        "### Heap Sort : 2진 트리구조 O(N*log N)을 보장하는 구조\n",
        "\t   메모리 활용면에서도 좋음\n"
      ],
      "metadata": {
        "id": "WMqdcwYjhA5V"
      }
    },
    {
      "cell_type": "code",
      "source": [
        "a = [4,2,5,6,9,3,6,8,1]\n",
        "for i in a:\n",
        "  print(a[i*2],a[i*2+1])"
      ],
      "metadata": {
        "colab": {
          "base_uri": "https://localhost:8080/",
          "height": 209
        },
        "id": "e4smuQTChCq4",
        "outputId": "f4cd33b2-5d8c-4e01-b19c-3346c46b8a41"
      },
      "execution_count": 1,
      "outputs": [
        {
          "output_type": "error",
          "ename": "IndexError",
          "evalue": "ignored",
          "traceback": [
            "\u001b[0;31m---------------------------------------------------------------------------\u001b[0m",
            "\u001b[0;31mIndexError\u001b[0m                                Traceback (most recent call last)",
            "\u001b[0;32m<ipython-input-1-7be1aae9183b>\u001b[0m in \u001b[0;36m<module>\u001b[0;34m\u001b[0m\n\u001b[1;32m      1\u001b[0m \u001b[0ma\u001b[0m \u001b[0;34m=\u001b[0m \u001b[0;34m[\u001b[0m\u001b[0;36m4\u001b[0m\u001b[0;34m,\u001b[0m\u001b[0;36m2\u001b[0m\u001b[0;34m,\u001b[0m\u001b[0;36m5\u001b[0m\u001b[0;34m,\u001b[0m\u001b[0;36m6\u001b[0m\u001b[0;34m,\u001b[0m\u001b[0;36m9\u001b[0m\u001b[0;34m,\u001b[0m\u001b[0;36m3\u001b[0m\u001b[0;34m,\u001b[0m\u001b[0;36m6\u001b[0m\u001b[0;34m,\u001b[0m\u001b[0;36m8\u001b[0m\u001b[0;34m,\u001b[0m\u001b[0;36m1\u001b[0m\u001b[0;34m]\u001b[0m\u001b[0;34m\u001b[0m\u001b[0;34m\u001b[0m\u001b[0m\n\u001b[1;32m      2\u001b[0m \u001b[0;32mfor\u001b[0m \u001b[0mi\u001b[0m \u001b[0;32min\u001b[0m \u001b[0ma\u001b[0m\u001b[0;34m:\u001b[0m\u001b[0;34m\u001b[0m\u001b[0;34m\u001b[0m\u001b[0m\n\u001b[0;32m----> 3\u001b[0;31m   \u001b[0mprint\u001b[0m\u001b[0;34m(\u001b[0m\u001b[0ma\u001b[0m\u001b[0;34m[\u001b[0m\u001b[0mi\u001b[0m\u001b[0;34m*\u001b[0m\u001b[0;36m2\u001b[0m\u001b[0;34m]\u001b[0m\u001b[0;34m,\u001b[0m\u001b[0ma\u001b[0m\u001b[0;34m[\u001b[0m\u001b[0mi\u001b[0m\u001b[0;34m*\u001b[0m\u001b[0;36m2\u001b[0m\u001b[0;34m+\u001b[0m\u001b[0;36m1\u001b[0m\u001b[0;34m]\u001b[0m\u001b[0;34m)\u001b[0m\u001b[0;34m\u001b[0m\u001b[0;34m\u001b[0m\u001b[0m\n\u001b[0m",
            "\u001b[0;31mIndexError\u001b[0m: list index out of range"
          ]
        }
      ]
    },
    {
      "cell_type": "code",
      "source": [
        "a = [1,2,3,4,5,6,7,8,9]\n",
        "for i in range(len(a)):\n",
        "  x = i*2+1\n",
        "  y = i*2+2\n",
        "  if len(a)>=x:\n",
        "    if a[x]>a[i]:\n",
        "      t = a[x]\n",
        "      a[x] = a[i]\n",
        "      a[i] = t\n",
        "  if len(a)>=y:\n",
        "    print(y)\n",
        "  "
      ],
      "metadata": {
        "colab": {
          "base_uri": "https://localhost:8080/"
        },
        "id": "WkfRLskkkgdy",
        "outputId": "92e4e436-7edd-480b-edb4-74653871d2f9"
      },
      "execution_count": 5,
      "outputs": [
        {
          "output_type": "stream",
          "name": "stdout",
          "text": [
            "1\n",
            "2\n",
            "3\n",
            "4\n",
            "5\n",
            "6\n",
            "7\n",
            "8\n",
            "9\n"
          ]
        }
      ]
    },
    {
      "cell_type": "markdown",
      "source": [
        "## 방탈출하기\n"
      ],
      "metadata": {
        "id": "qYFb6YzAk5PZ"
      }
    },
    {
      "cell_type": "code",
      "source": [
        "N = int(input())\n",
        "N_num= list(map(int,input().split(\" \")))\n",
        "M = int(input())\n",
        "M_num= list(map(int,input().split(\" \")))"
      ],
      "metadata": {
        "colab": {
          "base_uri": "https://localhost:8080/"
        },
        "id": "l2SuRw2LnnYV",
        "outputId": "2080e399-123f-4382-ce30-a04dee9df33f"
      },
      "execution_count": 16,
      "outputs": [
        {
          "name": "stdout",
          "output_type": "stream",
          "text": [
            "6\n",
            "5 -7 6 9 0 -3\n",
            "3\n",
            "9 -9 6\n"
          ]
        }
      ]
    },
    {
      "cell_type": "code",
      "source": [
        "for i in M_num:\n",
        "  a = int(i in N_num)\n",
        "  print(a)"
      ],
      "metadata": {
        "colab": {
          "base_uri": "https://localhost:8080/"
        },
        "id": "ztFnmTt9n7Gz",
        "outputId": "2c50e1b8-5ab8-4bb7-bea7-ff0e7dcaf452"
      },
      "execution_count": 20,
      "outputs": [
        {
          "output_type": "stream",
          "name": "stdout",
          "text": [
            "1\n",
            "0\n",
            "1\n"
          ]
        }
      ]
    },
    {
      "cell_type": "code",
      "source": [
        "[num"
      ],
      "metadata": {
        "colab": {
          "base_uri": "https://localhost:8080/"
        },
        "id": "KKr9lMvXoQ42",
        "outputId": "d16de908-4871-4d18-b356-940ecc9f088e"
      },
      "execution_count": 15,
      "outputs": [
        {
          "output_type": "execute_result",
          "data": {
            "text/plain": [
              "[5, 5, 5, 5]"
            ]
          },
          "metadata": {},
          "execution_count": 15
        }
      ]
    },
    {
      "cell_type": "code",
      "source": [],
      "metadata": {
        "id": "gCi4x1QBoacr"
      },
      "execution_count": null,
      "outputs": []
    }
  ]
}