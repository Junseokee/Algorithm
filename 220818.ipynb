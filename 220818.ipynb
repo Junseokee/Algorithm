{
  "nbformat": 4,
  "nbformat_minor": 0,
  "metadata": {
    "colab": {
      "name": "220818.ipynb",
      "provenance": [],
      "collapsed_sections": [],
      "authorship_tag": "ABX9TyNsc/drnrox1HGo8GIp11L7",
      "include_colab_link": true
    },
    "kernelspec": {
      "name": "python3",
      "display_name": "Python 3"
    },
    "language_info": {
      "name": "python"
    }
  },
  "cells": [
    {
      "cell_type": "markdown",
      "metadata": {
        "id": "view-in-github",
        "colab_type": "text"
      },
      "source": [
        "<a href=\"https://colab.research.google.com/github/Junseokee/Algorithm/blob/main/220818.ipynb\" target=\"_parent\"><img src=\"https://colab.research.google.com/assets/colab-badge.svg\" alt=\"Open In Colab\"/></a>"
      ]
    },
    {
      "cell_type": "markdown",
      "source": [
        "## 1157 단어공부\n",
        "문제\n",
        "알파벳 대소문자로 된 단어가 주어지면, 이 단어에서 가장 많이 사용된 알파벳이 무엇인지 알아내는 프로그램을 작성하시오. 단, 대문자와 소문자를 구분하지 않는다.\n",
        "\n",
        "입력\n",
        "첫째 줄에 알파벳 대소문자로 이루어진 단어가 주어진다. 주어지는 단어의 길이는 1,000,000을 넘지 않는다.\n",
        "\n",
        "출력\n",
        "첫째 줄에 이 단어에서 가장 많이 사용된 알파벳을 대문자로 출력한다. 단, 가장 많이 사용된 알파벳이 여러 개 존재하는 경우에는 ?를 출력한다."
      ],
      "metadata": {
        "id": "qREDx7Zvn1gJ"
      }
    },
    {
      "cell_type": "code",
      "source": [
        "word = input().upper()\n",
        "a= []\n",
        "b= []\n",
        "for i in range(len(word)):\n",
        "  t = word[i]\n",
        "  a.append(t)\n",
        "for i in a:\n",
        "  b.append(a.count(i))\n",
        "for i in b:\n",
        "\n",
        "    \n",
        "    \n",
        "    \n",
        "if count == 1:\n",
        "  print(a[c])\n",
        "else:\n",
        "  print('?')\n"
      ],
      "metadata": {
        "id": "KZ8Kus8bpAOc",
        "colab": {
          "base_uri": "https://localhost:8080/"
        },
        "outputId": "32e8b380-fcd9-4fa8-8d89-82d7a654ded8"
      },
      "execution_count": 60,
      "outputs": [
        {
          "output_type": "stream",
          "name": "stdout",
          "text": [
            "zza\n",
            "?\n"
          ]
        }
      ]
    },
    {
      "cell_type": "code",
      "source": [
        "c = 4\n",
        "print(word,count)"
      ],
      "metadata": {
        "colab": {
          "base_uri": "https://localhost:8080/"
        },
        "id": "eUhj0QljpBCw",
        "outputId": "0b1b50b8-1093-44fa-dd62-92c52a509ed2"
      },
      "execution_count": 61,
      "outputs": [
        {
          "output_type": "execute_result",
          "data": {
            "text/plain": [
              "[2, 2, 1]"
            ]
          },
          "metadata": {},
          "execution_count": 61
        }
      ]
    },
    {
      "cell_type": "code",
      "source": [
        "word = input().upper()\n",
        "lst = list(set(word))\n",
        "\n",
        "cnt = []\n",
        "for i in lst:\n",
        "  count = word.count\n",
        "  cnt.append(count(i))\n",
        "\n",
        "if cnt.count(max(cnt)) > 1:\n",
        "  print(\"?\")\n",
        "else:\n",
        "  print(lst[(cnt.index(max(cnt)))])"
      ],
      "metadata": {
        "colab": {
          "base_uri": "https://localhost:8080/"
        },
        "id": "1kKgQZ-rpBFz",
        "outputId": "7573387f-ddfa-4d16-ba0b-326b7b1b2864"
      },
      "execution_count": 67,
      "outputs": [
        {
          "output_type": "stream",
          "name": "stdout",
          "text": [
            "ZZa\n",
            "Z\n"
          ]
        }
      ]
    },
    {
      "cell_type": "markdown",
      "source": [
        "## 1152 단어의 개수\n",
        "문제\n",
        "영어 대소문자와 공백으로 이루어진 문자열이 주어진다. 이 문자열에는 몇 개의 단어가 있을까? 이를 구하는 프로그램을 작성하시오. 단, 한 단어가 여러 번 등장하면 등장한 횟수만큼 모두 세어야 한다.\n",
        "\n",
        "입력\n",
        "첫 줄에 영어 대소문자와 공백으로 이루어진 문자열이 주어진다. 이 문자열의 길이는 1,000,000을 넘지 않는다. 단어는 공백 한 개로 구분되며, 공백이 연속해서 나오는 경우는 없다. 또한 문자열은 공백으로 시작하거나 끝날 수 있다.\n",
        "\n",
        "출력\n",
        "첫째 줄에 단어의 개수를 출력한다."
      ],
      "metadata": {
        "id": "XEZ8YVKNpBI1"
      }
    },
    {
      "cell_type": "code",
      "source": [
        "word = input()\n",
        "lst = word.split(\" \")\n",
        "print(len(lst))"
      ],
      "metadata": {
        "colab": {
          "base_uri": "https://localhost:8080/"
        },
        "id": "jt2bVuiepBL7",
        "outputId": "beae70b9-c5c1-473e-d172-e5a2085da303"
      },
      "execution_count": 71,
      "outputs": [
        {
          "output_type": "stream",
          "name": "stdout",
          "text": [
            " The first character is a blank\n",
            "1\n"
          ]
        }
      ]
    },
    {
      "cell_type": "code",
      "source": [
        "len(input().split())\n",
        "print(len(a))"
      ],
      "metadata": {
        "colab": {
          "base_uri": "https://localhost:8080/"
        },
        "id": "WlRybXSPpBOa",
        "outputId": "60e276f7-0fb0-4bba-ba93-67f2d3302505"
      },
      "execution_count": 79,
      "outputs": [
        {
          "output_type": "stream",
          "name": "stdout",
          "text": [
            " The first character is a blank\n",
            "6\n"
          ]
        }
      ]
    },
    {
      "cell_type": "code",
      "source": [
        "word"
      ],
      "metadata": {
        "colab": {
          "base_uri": "https://localhost:8080/",
          "height": 35
        },
        "id": "3XAUGMtmpBRc",
        "outputId": "e311099b-39ef-453f-8ff3-74d95b0e60b8"
      },
      "execution_count": 73,
      "outputs": [
        {
          "output_type": "execute_result",
          "data": {
            "text/plain": [
              "' The first character is a blank'"
            ],
            "application/vnd.google.colaboratory.intrinsic+json": {
              "type": "string"
            }
          },
          "metadata": {},
          "execution_count": 73
        }
      ]
    },
    {
      "cell_type": "code",
      "source": [
        "print(len(input().split()))"
      ],
      "metadata": {
        "id": "Ge3prQo8pBUw"
      },
      "execution_count": null,
      "outputs": []
    },
    {
      "cell_type": "markdown",
      "source": [
        "## 2908 상수\n",
        "문제\n",
        "상근이의 동생 상수는 수학을 정말 못한다. 상수는 숫자를 읽는데 문제가 있다. 이렇게 수학을 못하는 상수를 위해서 상근이는 수의 크기를 비교하는 문제를 내주었다. 상근이는 세 자리 수 두 개를 칠판에 써주었다. 그 다음에 크기가 큰 수를 말해보라고 했다.\n",
        "\n",
        "상수는 수를 다른 사람과 다르게 거꾸로 읽는다. 예를 들어, 734와 893을 칠판에 적었다면, 상수는 이 수를 437과 398로 읽는다. 따라서, 상수는 두 수중 큰 수인 437을 큰 수라고 말할 것이다.\n",
        "\n",
        "두 수가 주어졌을 때, 상수의 대답을 출력하는 프로그램을 작성하시오.\n",
        "\n",
        "입력\n",
        "첫째 줄에 상근이가 칠판에 적은 두 수 A와 B가 주어진다. 두 수는 같지 않은 세 자리 수이며, 0이 포함되어 있지 않다.\n",
        "\n",
        "출력\n",
        "첫째 줄에 상수의 대답을 출력한다."
      ],
      "metadata": {
        "id": "FeYa1YzXpBX0"
      }
    },
    {
      "cell_type": "code",
      "source": [
        "a, b = input().split(\" \")\n"
      ],
      "metadata": {
        "colab": {
          "base_uri": "https://localhost:8080/"
        },
        "id": "TMJystcBpBas",
        "outputId": "35322e28-699f-4967-cac0-b3ddc38637c1"
      },
      "execution_count": 82,
      "outputs": [
        {
          "name": "stdout",
          "output_type": "stream",
          "text": [
            "734 893\n"
          ]
        }
      ]
    },
    {
      "cell_type": "code",
      "source": [
        "a, b = input().split(\" \")\n",
        "a_lst = [a[2],a[1],a[0]]\n",
        "sg_a = \"\".join(map(str,a_lst))\n",
        "b_lst = [b[2],b[1],b[0]]\n",
        "sg_b = \"\".join(map(str,b_lst))\n",
        "\n",
        "print(max(sg_a,sg_b))"
      ],
      "metadata": {
        "colab": {
          "base_uri": "https://localhost:8080/"
        },
        "id": "q1N6EPd95KZ1",
        "outputId": "cc62cc7c-5a15-4d42-df6e-d92ea4ecddcd"
      },
      "execution_count": 93,
      "outputs": [
        {
          "output_type": "stream",
          "name": "stdout",
          "text": [
            "221 231\n",
            "132\n"
          ]
        }
      ]
    },
    {
      "cell_type": "code",
      "source": [
        "a,b = input().split()\n",
        "print(max(\"\".join(reversed(a)),\"\".join(reversed(b))))"
      ],
      "metadata": {
        "colab": {
          "base_uri": "https://localhost:8080/"
        },
        "id": "NToHua4Z5NG_",
        "outputId": "0fabaf97-0776-494a-9eda-f7253c45d8be"
      },
      "execution_count": 94,
      "outputs": [
        {
          "output_type": "stream",
          "name": "stdout",
          "text": [
            "221 231\n",
            "132\n"
          ]
        }
      ]
    },
    {
      "cell_type": "code",
      "source": [
        "\"\".join(reversed(a))"
      ],
      "metadata": {
        "id": "ySFsf1gz7tci",
        "colab": {
          "base_uri": "https://localhost:8080/",
          "height": 35
        },
        "outputId": "ddd4d964-8536-43ba-a2e8-c8787c393ebc"
      },
      "execution_count": 96,
      "outputs": [
        {
          "output_type": "execute_result",
          "data": {
            "text/plain": [
              "'122'"
            ],
            "application/vnd.google.colaboratory.intrinsic+json": {
              "type": "string"
            }
          },
          "metadata": {},
          "execution_count": 96
        }
      ]
    },
    {
      "cell_type": "markdown",
      "source": [
        "## 5622 다이얼\n",
        "문제\n",
        "상근이의 할머니는 아래 그림과 같이 오래된 다이얼 전화기를 사용한다.\n",
        "\n",
        "\n",
        "\n",
        "전화를 걸고 싶은 번호가 있다면, 숫자를 하나를 누른 다음에 금속 핀이 있는 곳 까지 시계방향으로 돌려야 한다. 숫자를 하나 누르면 다이얼이 처음 위치로 돌아가고, 다음 숫자를 누르려면 다이얼을 처음 위치에서 다시 돌려야 한다.\n",
        "\n",
        "숫자 1을 걸려면 총 2초가 필요하다. 1보다 큰 수를 거는데 걸리는 시간은 이보다 더 걸리며, 한 칸 옆에 있는 숫자를 걸기 위해선 1초씩 더 걸린다.\n",
        "\n",
        "상근이의 할머니는 전화 번호를 각 숫자에 해당하는 문자로 외운다. 즉, 어떤 단어를 걸 때, 각 알파벳에 해당하는 숫자를 걸면 된다. 예를 들어, UNUCIC는 868242와 같다.\n",
        "\n",
        "할머니가 외운 단어가 주어졌을 때, 이 전화를 걸기 위해서 필요한 최소 시간을 구하는 프로그램을 작성하시오.\n",
        "\n",
        "입력\n",
        "첫째 줄에 알파벳 대문자로 이루어진 단어가 주어진다. 단어의 길이는 2보다 크거나 같고, 15보다 작거나 같다.\n",
        "\n",
        "출력\n",
        "첫째 줄에 다이얼을 걸기 위해서 필요한 최소 시간을 출력한다."
      ],
      "metadata": {
        "id": "jTA_taEG-SnS"
      }
    },
    {
      "cell_type": "code",
      "source": [
        "tell = input().upper()\n",
        "num = {1:['A','B','C'],\n",
        "       2:['D','E','F'],\n",
        "       3:['D','E','F'],\n",
        "       4:['G','H','I'],\n",
        "       5:['J','K','L'],\n",
        "       6:['M','N','O'],\n",
        "       7:['P','Q','R','S'],\n",
        "       8:['T','U','V'],\n",
        "       9:['W','X','Y','Z']}"
      ],
      "metadata": {
        "colab": {
          "base_uri": "https://localhost:8080/"
        },
        "id": "NCMco3Hv-Stt",
        "outputId": "5c0ce009-f9ea-4ce9-9f6f-e2b56dc12b11"
      },
      "execution_count": 117,
      "outputs": [
        {
          "name": "stdout",
          "output_type": "stream",
          "text": [
            "mancity\n"
          ]
        }
      ]
    },
    {
      "cell_type": "code",
      "source": [
        "tell = input().upper()\n",
        "num = {2:['A','B','C'],\n",
        "       3:['D','E','F'],\n",
        "       4:['G','H','I'],\n",
        "       5:['J','K','L'],\n",
        "       6:['M','N','O'],\n",
        "       7:['P','Q','R','S'],\n",
        "       8:['T','U','V'],\n",
        "       9:['W','X','Y','Z']}\n",
        "sum = 0\n",
        "for key, value in num.items():\n",
        "  for i in tell:\n",
        "    if i in value:\n",
        "      sum = sum + (key+1)\n",
        "print(sum)"
      ],
      "metadata": {
        "colab": {
          "base_uri": "https://localhost:8080/"
        },
        "id": "1Qle42voF9xI",
        "outputId": "3cdb1b25-3c28-4061-8a04-c59bb855c677"
      },
      "execution_count": 133,
      "outputs": [
        {
          "output_type": "stream",
          "name": "stdout",
          "text": [
            "UNUCIC\n",
            "36\n"
          ]
        }
      ]
    },
    {
      "cell_type": "code",
      "source": [
        "tell"
      ],
      "metadata": {
        "colab": {
          "base_uri": "https://localhost:8080/",
          "height": 35
        },
        "id": "EP2uinDwBIw8",
        "outputId": "a5ad5a96-5554-4945-f17b-e00338f41df5"
      },
      "execution_count": 122,
      "outputs": [
        {
          "output_type": "execute_result",
          "data": {
            "text/plain": [
              "'MANCITY'"
            ],
            "application/vnd.google.colaboratory.intrinsic+json": {
              "type": "string"
            }
          },
          "metadata": {},
          "execution_count": 122
        }
      ]
    },
    {
      "cell_type": "code",
      "source": [
        ""
      ],
      "metadata": {
        "id": "VzzHJ9la-SzA"
      },
      "execution_count": null,
      "outputs": []
    },
    {
      "cell_type": "code",
      "source": [
        ""
      ],
      "metadata": {
        "id": "Blq1rKuM-S4v"
      },
      "execution_count": null,
      "outputs": []
    },
    {
      "cell_type": "code",
      "source": [
        ""
      ],
      "metadata": {
        "id": "XmewnRgm-S-O"
      },
      "execution_count": null,
      "outputs": []
    },
    {
      "cell_type": "code",
      "source": [
        ""
      ],
      "metadata": {
        "id": "3mUYCgN6-TDO"
      },
      "execution_count": null,
      "outputs": []
    },
    {
      "cell_type": "code",
      "source": [
        ""
      ],
      "metadata": {
        "id": "uEkVmdY--TIj"
      },
      "execution_count": null,
      "outputs": []
    },
    {
      "cell_type": "code",
      "source": [
        ""
      ],
      "metadata": {
        "id": "GOHRXySy-TNm"
      },
      "execution_count": null,
      "outputs": []
    },
    {
      "cell_type": "code",
      "source": [
        ""
      ],
      "metadata": {
        "id": "scaPaGN4-TS1"
      },
      "execution_count": null,
      "outputs": []
    },
    {
      "cell_type": "code",
      "source": [
        ""
      ],
      "metadata": {
        "id": "QbmQNxQ7-TXd"
      },
      "execution_count": null,
      "outputs": []
    },
    {
      "cell_type": "code",
      "source": [
        ""
      ],
      "metadata": {
        "id": "Rkcm-aNv-Tb2"
      },
      "execution_count": null,
      "outputs": []
    },
    {
      "cell_type": "code",
      "source": [
        ""
      ],
      "metadata": {
        "id": "dc6PFv1D-Tfz"
      },
      "execution_count": null,
      "outputs": []
    },
    {
      "cell_type": "code",
      "source": [
        ""
      ],
      "metadata": {
        "id": "nrjAsu__-TjG"
      },
      "execution_count": null,
      "outputs": []
    },
    {
      "cell_type": "code",
      "source": [
        ""
      ],
      "metadata": {
        "id": "V3N6Qg3V-TmE"
      },
      "execution_count": null,
      "outputs": []
    },
    {
      "cell_type": "code",
      "source": [
        ""
      ],
      "metadata": {
        "id": "zJWd5po0-Tpp"
      },
      "execution_count": null,
      "outputs": []
    }
  ]
}