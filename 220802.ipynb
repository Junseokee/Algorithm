{
 "cells": [
  {
   "cell_type": "markdown",
   "id": "c8161f3c",
   "metadata": {},
   "source": [
    "### map 함수"
   ]
  },
  {
   "cell_type": "code",
   "execution_count": 4,
   "id": "df627ed9",
   "metadata": {},
   "outputs": [
    {
     "name": "stdout",
     "output_type": "stream",
     "text": [
      "map(int,리스트): [1, 2, 3, 4, 5]\n"
     ]
    }
   ],
   "source": [
    "import math\n",
    "result1 = list(map(int,[1.1,2.2,3.3,4.4,5.5]))\n",
    "print(f'map(int,리스트): {result1}')"
   ]
  },
  {
   "cell_type": "code",
   "execution_count": 5,
   "id": "56cc2158",
   "metadata": {},
   "outputs": [],
   "source": [
    "# 함수와 이용\n",
    "def func_pow(x):\n",
    "    return pow(x, 5) # x의 5 제곱을 반환"
   ]
  },
  {
   "cell_type": "code",
   "execution_count": 9,
   "id": "0d680963",
   "metadata": {},
   "outputs": [
    {
     "name": "stdout",
     "output_type": "stream",
     "text": [
      "map(func_pow, 리스트): [1, 32, 243, 1024, 3125]\n"
     ]
    }
   ],
   "source": [
    "# 리스트 이용 1\n",
    "result2 = list(map(func_pow, [1,2,3,4,5]))\n",
    "print(f'map(func_pow, 리스트): {result2}')"
   ]
  },
  {
   "cell_type": "code",
   "execution_count": 12,
   "id": "aaf27c99",
   "metadata": {},
   "outputs": [
    {
     "name": "stdout",
     "output_type": "stream",
     "text": [
      "map(round, 리스트) : [1, 2, 3, 4, 6, 7]\n"
     ]
    }
   ],
   "source": [
    "# 리스트 이용 2\n",
    "result3 = list(map(round, [1.1, 2.2, 3.3, 4.4, 5.5, 6.6]))\n",
    "print(f'map(round, 리스트) : {result3}')"
   ]
  },
  {
   "cell_type": "code",
   "execution_count": 13,
   "id": "21975180",
   "metadata": {},
   "outputs": [
    {
     "name": "stdout",
     "output_type": "stream",
     "text": [
      "[10, 8, 6, 4, 2]\n"
     ]
    }
   ],
   "source": [
    "# 람다 함수 이용\n",
    "r = list(map(lambda x: x*2, [5,4,3,2,1]))\n",
    "print(r)"
   ]
  },
  {
   "cell_type": "markdown",
   "id": "de9df1c2",
   "metadata": {},
   "source": [
    "### 백준 연습"
   ]
  },
  {
   "cell_type": "markdown",
   "id": "043da36e",
   "metadata": {},
   "source": [
    "## 두수 비교"
   ]
  },
  {
   "cell_type": "code",
   "execution_count": 28,
   "id": "a5b27749",
   "metadata": {},
   "outputs": [
    {
     "name": "stdout",
     "output_type": "stream",
     "text": [
      "20 10\n",
      ">\n"
     ]
    }
   ],
   "source": [
    "# 1330\n",
    "a,b = map(int, input().split(\" \"))\n",
    "\n",
    "if a>b:\n",
    "    print(\">\")\n",
    "elif a<b:\n",
    "    print(\"<\")\n",
    "else:\n",
    "    print(\"==\")"
   ]
  },
  {
   "cell_type": "markdown",
   "id": "5949aaf2",
   "metadata": {},
   "source": [
    "## 시험성적"
   ]
  },
  {
   "cell_type": "code",
   "execution_count": 29,
   "id": "efa2617d",
   "metadata": {},
   "outputs": [
    {
     "name": "stdout",
     "output_type": "stream",
     "text": [
      "90\n",
      "A\n"
     ]
    }
   ],
   "source": [
    "#9498\n",
    "a = int(input())\n",
    "\n",
    "if a > 89:\n",
    "    print(\"A\")\n",
    "elif a > 79:\n",
    "    print(\"B\")\n",
    "elif a > 69:\n",
    "    print(\"C\")\n",
    "elif a > 59:\n",
    "    print('D')\n",
    "else:\n",
    "    print('F')"
   ]
  },
  {
   "cell_type": "markdown",
   "id": "df8e933f",
   "metadata": {},
   "source": [
    "## 윤년\n",
    "연도가 주어졌을 때, 윤년이면 1, 아니면 0을 출력하는 프로그램을 작성하시오.\n",
    "\n",
    "윤년은 연도가 4의 배수이면서, 100의 배수가 아닐 때 또는 400의 배수일 때이다.\n",
    "\n",
    "예를 들어, 2012년은 4의 배수이면서 100의 배수가 아니라서 윤년이다. 1900년은 100의 배수이고 400의 배수는 아니기 때문에 윤년이 아니다. 하지만, 2000년은 400의 배수이기 때문에 윤년이다.\n",
    "\n",
    "입력\n",
    "첫째 줄에 연도가 주어진다. 연도는 1보다 크거나 같고, 4000보다 작거나 같은 자연수이다.\n",
    "\n",
    "출력\n",
    "첫째 줄에 윤년이면 1, 아니면 0을 출력한다."
   ]
  },
  {
   "cell_type": "code",
   "execution_count": 45,
   "id": "389689fe",
   "metadata": {
    "scrolled": false
   },
   "outputs": [
    {
     "name": "stdout",
     "output_type": "stream",
     "text": [
      "1000\n",
      "X\n"
     ]
    }
   ],
   "source": [
    "# 2753\n",
    "year = int(input())\n",
    "if year % 4 == 0:\n",
    "    if year % 100 == 0:\n",
    "        if year % 400 ==0:\n",
    "            print(\"1\")\n",
    "        else:\n",
    "            print(\"0\")\n",
    "    else:\n",
    "        print('1')\n",
    "else:\n",
    "    print('0')\n"
   ]
  },
  {
   "cell_type": "code",
   "execution_count": 41,
   "id": "f339bcd5",
   "metadata": {},
   "outputs": [
    {
     "name": "stdout",
     "output_type": "stream",
     "text": [
      "\n"
     ]
    }
   ],
   "source": [
    "x = 1100\n",
    "if x % 4 == 0:\n",
    "    if x % 100 == 0:\n",
    "        if x % 400 ==0:\n",
    "            print(\"윤년\")\n",
    "        else:\n",
    "            print(\"\")\n",
    "    else:\n",
    "        print('윤년')"
   ]
  },
  {
   "cell_type": "markdown",
   "id": "9d2ae482",
   "metadata": {},
   "source": [
    "## 사분면 구하기\n",
    "흔한 수학 문제 중 하나는 주어진 점이 어느 사분면에 속하는지 알아내는 것이다. 사분면은 아래 그림처럼 1부터 4까지 번호를 갖는다. \"Quadrant n\"은 \"제n사분면\"이라는 뜻이다.\n",
    "\n",
    "\n",
    "\n",
    "예를 들어, 좌표가 (12, 5)인 점 A는 x좌표와 y좌표가 모두 양수이므로 제1사분면에 속한다. 점 B는 x좌표가 음수이고 y좌표가 양수이므로 제2사분면에 속한다.\n",
    "\n",
    "점의 좌표를 입력받아 그 점이 어느 사분면에 속하는지 알아내는 프로그램을 작성하시오. 단, x좌표와 y좌표는 모두 양수나 음수라고 가정한다.\n",
    "\n",
    "입력\n",
    "첫 줄에는 정수 x가 주어진다. (−1000 ≤ x ≤ 1000; x ≠ 0) 다음 줄에는 정수 y가 주어진다. (−1000 ≤ y ≤ 1000; y ≠ 0)\n",
    "\n",
    "출력\n",
    "점 (x, y)의 사분면 번호(1, 2, 3, 4 중 하나)를 출력한다."
   ]
  },
  {
   "cell_type": "code",
   "execution_count": 50,
   "id": "a33918ea",
   "metadata": {},
   "outputs": [
    {
     "name": "stdout",
     "output_type": "stream",
     "text": [
      "100\n",
      "100\n",
      "1\n"
     ]
    }
   ],
   "source": [
    "# 145681\n",
    "x,y = map(int, (input(),input()))\n",
    "\n",
    "if x > 0:\n",
    "    if y > 0:\n",
    "        print(\"1\")\n",
    "    elif y<0:\n",
    "        print('4')\n",
    "elif x < 0:\n",
    "    if y > 0:\n",
    "        print(\"2\")\n",
    "    elif y<0:\n",
    "        print('3')    \n",
    "    "
   ]
  },
  {
   "cell_type": "markdown",
   "id": "c96efc32",
   "metadata": {},
   "source": [
    "## 알람시계\n",
    "상근이는 매일 아침 알람을 듣고 일어난다. 알람을 듣고 바로 일어나면 다행이겠지만, 항상 조금만 더 자려는 마음 때문에 매일 학교를 지각하고 있다.\n",
    "\n",
    "상근이는 모든 방법을 동원해보았지만, 조금만 더 자려는 마음은 그 어떤 것도 없앨 수가 없었다.\n",
    "\n",
    "이런 상근이를 불쌍하게 보던, 창영이는 자신이 사용하는 방법을 추천해 주었다.\n",
    "\n",
    "바로 \"45분 일찍 알람 설정하기\"이다.\n",
    "\n",
    "이 방법은 단순하다. 원래 설정되어 있는 알람을 45분 앞서는 시간으로 바꾸는 것이다. 어차피 알람 소리를 들으면, 알람을 끄고 조금 더 잘 것이기 때문이다. 이 방법을 사용하면, 매일 아침 더 잤다는 기분을 느낄 수 있고, 학교도 지각하지 않게 된다.\n",
    "\n",
    "현재 상근이가 설정한 알람 시각이 주어졌을 때, 창영이의 방법을 사용한다면, 이를 언제로 고쳐야 하는지 구하는 프로그램을 작성하시오.\n",
    "\n",
    "입력\n",
    "첫째 줄에 두 정수 H와 M이 주어진다. (0 ≤ H ≤ 23, 0 ≤ M ≤ 59) 그리고 이것은 현재 상근이가 설정한 놓은 알람 시간 H시 M분을 의미한다.\n",
    "\n",
    "입력 시간은 24시간 표현을 사용한다. 24시간 표현에서 하루의 시작은 0:0(자정)이고, 끝은 23:59(다음날 자정 1분 전)이다. 시간을 나타낼 때, 불필요한 0은 사용하지 않는다.\n",
    "\n",
    "출력\n",
    "첫째 줄에 상근이가 창영이의 방법을 사용할 때, 설정해야 하는 알람 시간을 출력한다. (입력과 같은 형태로 출력하면 된다.)"
   ]
  },
  {
   "cell_type": "code",
   "execution_count": 79,
   "id": "008089ec",
   "metadata": {},
   "outputs": [
    {
     "name": "stdout",
     "output_type": "stream",
     "text": [
      "20 20\n",
      "19 35\n"
     ]
    }
   ],
   "source": [
    "# 2884\n",
    "H,M = map(int,input().split(\" \"))\n",
    "if H&M >=0:\n",
    "    if H < 25 or M < 61:\n",
    "        if  M > 44:\n",
    "            print(H,(M-45))\n",
    "        elif M < 45:\n",
    "            if H ==0:\n",
    "                print((H+23),(M+60-45))\n",
    "            else:\n",
    "                print((H-1),(M+60-45))"
   ]
  },
  {
   "cell_type": "code",
   "execution_count": 75,
   "id": "dea061d0",
   "metadata": {},
   "outputs": [
    {
     "data": {
      "text/plain": [
       "True"
      ]
     },
     "execution_count": 75,
     "metadata": {},
     "output_type": "execute_result"
    }
   ],
   "source": [
    "H = 24\n",
    "M = 20\n",
    "\n",
    "H < 25 or M < 61"
   ]
  },
  {
   "cell_type": "markdown",
   "id": "80f59d30",
   "metadata": {},
   "source": [
    "## 오븐 시계\n",
    "KOI 전자에서는 건강에 좋고 맛있는 훈제오리구이 요리를 간편하게 만드는 인공지능 오븐을 개발하려고 한다. 인공지능 오븐을 사용하는 방법은 적당한 양의 오리 훈제 재료를 인공지능 오븐에 넣으면 된다. 그러면 인공지능 오븐은 오븐구이가 끝나는 시간을 분 단위로 자동적으로 계산한다. \n",
    "\n",
    "또한, KOI 전자의 인공지능 오븐 앞면에는 사용자에게 훈제오리구이 요리가 끝나는 시각을 알려 주는 디지털 시계가 있다. \n",
    "\n",
    "훈제오리구이를 시작하는 시각과 오븐구이를 하는 데 필요한 시간이 분단위로 주어졌을 때, 오븐구이가 끝나는 시각을 계산하는 프로그램을 작성하시오.\n",
    "\n",
    "입력\n",
    "첫째 줄에는 현재 시각이 나온다. 현재 시각은 시 A (0 ≤ A ≤ 23) 와 분 B (0 ≤ B ≤ 59)가 정수로 빈칸을 사이에 두고 순서대로 주어진다. 두 번째 줄에는 요리하는 데 필요한 시간 C (0 ≤ C ≤ 1,000)가 분 단위로 주어진다. \n",
    "\n",
    "출력\n",
    "첫째 줄에 종료되는 시각의 시와 분을 공백을 사이에 두고 출력한다. (단, 시는 0부터 23까지의 정수, 분은 0부터 59까지의 정수이다. 디지털 시계는 23시 59분에서 1분이 지나면 0시 0분이 된다.)"
   ]
  },
  {
   "cell_type": "code",
   "execution_count": 107,
   "id": "4d02537b",
   "metadata": {},
   "outputs": [
    {
     "name": "stdout",
     "output_type": "stream",
     "text": [
      "20 50\n",
      "10\n",
      "20 60\n"
     ]
    }
   ],
   "source": [
    "# 2525\n",
    "H,M = map(int,input().split(\" \"))\n",
    "C = int(input())\n",
    "if H&M&C >=0:\n",
    "    if H < 25 or M < 61:\n",
    "        if M+C < 61:\n",
    "            print(H,(M+C))\n",
    "        elif M+C > 59:\n",
    "                H = (M+C)//60 + H\n",
    "                M|= (M+C)%60\n",
    "                if M+C == 60:\n",
    "                    print(H+1,M-60)\n",
    "                    if H >=24:\n",
    "                        print((H-24),M)\n",
    "                    else:\n",
    "                        print(H,M)"
   ]
  },
  {
   "cell_type": "code",
   "execution_count": 112,
   "id": "3f411359",
   "metadata": {},
   "outputs": [
    {
     "name": "stdout",
     "output_type": "stream",
     "text": [
      "1\n",
      "60\n",
      "0\n"
     ]
    }
   ],
   "source": [
    "H = 22\n",
    "M = 59\n",
    "C = 1\n",
    "\n",
    "print((M+C)//60)\n",
    "print(M+C % 60)\n",
    "if (M+C) % 60 == 0:\n",
    "    M = 0\n",
    "    print(M)"
   ]
  },
  {
   "cell_type": "code",
   "execution_count": 124,
   "id": "0fdda749",
   "metadata": {},
   "outputs": [
    {
     "name": "stdout",
     "output_type": "stream",
     "text": [
      "12 50\n",
      "10\n",
      "13 0\n"
     ]
    }
   ],
   "source": [
    "# 2525\n",
    "H,M = map(int,input().split(\" \"))\n",
    "C = int(input())\n",
    "if H&M&C >=0:\n",
    "    if H < 25 or M < 61:\n",
    "        if M+C > 59:\n",
    "            H = (M+C)//60 + H\n",
    "            M= (M+C)%60\n",
    "            if H >=24 or M == 60:\n",
    "                if H >= 24:\n",
    "                    if M == 60:\n",
    "                        M=0\n",
    "                        print(H-23,M)\n",
    "                    print((H-24),M)\n",
    "                elif M == 60:\n",
    "                    M = 0\n",
    "                    print(H+1,M)\n",
    "            else:\n",
    "                print(H,M)\n",
    "        elif M+C < 61:\n",
    "            print(H,(M+C))"
   ]
  },
  {
   "cell_type": "code",
   "execution_count": 122,
   "id": "851bd240",
   "metadata": {},
   "outputs": [
    {
     "data": {
      "text/plain": [
       "0"
      ]
     },
     "execution_count": 122,
     "metadata": {},
     "output_type": "execute_result"
    }
   ],
   "source": [
    "60%60"
   ]
  },
  {
   "cell_type": "code",
   "execution_count": null,
   "id": "00442541",
   "metadata": {},
   "outputs": [],
   "source": []
  },
  {
   "cell_type": "code",
   "execution_count": null,
   "id": "dd0342b9",
   "metadata": {},
   "outputs": [],
   "source": []
  }
 ],
 "metadata": {
  "kernelspec": {
   "display_name": "Python 3 (ipykernel)",
   "language": "python",
   "name": "python3"
  },
  "language_info": {
   "codemirror_mode": {
    "name": "ipython",
    "version": 3
   },
   "file_extension": ".py",
   "mimetype": "text/x-python",
   "name": "python",
   "nbconvert_exporter": "python",
   "pygments_lexer": "ipython3",
   "version": "3.9.12"
  }
 },
 "nbformat": 4,
 "nbformat_minor": 5
}
