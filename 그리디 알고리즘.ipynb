{
 "cells": [
  {
   "cell_type": "markdown",
   "id": "dbd9e28c",
   "metadata": {},
   "source": [
    "## 그리디 알고리즘(탐욕법)\n",
    "- 현재 상황에서 지금 당장 좋은 것만 고르는 방법\n",
    "- 일반적인 그리디 알고리즘은 문제를 풀기 위한 최소한의 아이디어를 떠올릴 수 있는 능력 요구\n",
    "- 그리디 해법은 정당성 분석이 중요.\n",
    "    - 단순히 가장 좋아 보이는 것을 반복적으로 선택해도 최적의 해를 구할 수 있는지 검토.\n",
    "    - 일반적인 상황에서는 최적의 해를 보장할 수 없을때가 많다.\n",
    "    - 하지만 코딩 테스트에서의 대부분의 그리디 문제는 탐욕법으로 얻은 해가 최적의 해가 되는 상황에서 이를 추론할 수 있어야 풀리도록 출제\n",
    "    "
   ]
  },
  {
   "cell_type": "code",
   "execution_count": null,
   "id": "ae5c583d",
   "metadata": {},
   "outputs": [],
   "source": [
    "# 예시 거스름돈 \n",
    "n = 1260\n",
    "count = 0\n",
    "\n",
    "# 큰 단위의 화폐부터 확인\n",
    "array = [500,100,50,10]\n",
    "\n",
    "for coin in array:\n",
    "    count += n // coin # 해당 화폐로 거슬러 줄 수 있는 동전의 개수 세기\n",
    "    n %= coin\n",
    "print(count)"
   ]
  },
  {
   "cell_type": "markdown",
   "id": "dc183155",
   "metadata": {},
   "source": [
    "- 화폐의 종류가 K라고 할때 소스코드는의 시간복잡도는 O(K)\n",
    "- 이 알고리즘의 시간 복잡도는 거슬러줘야하는 금액과는 무관하며, 동전의 총종류에만 영향을 받음"
   ]
  },
  {
   "cell_type": "code",
   "execution_count": 21,
   "id": "2e31d923",
   "metadata": {},
   "outputs": [
    {
     "name": "stdout",
     "output_type": "stream",
     "text": [
      "25 3\n"
     ]
    }
   ],
   "source": [
    "# 예시 1이 될때까지\n",
    "# 혼자 해보기\n",
    "N, K = map(int,input().split(\" \"))"
   ]
  },
  {
   "cell_type": "code",
   "execution_count": 22,
   "id": "121de44a",
   "metadata": {},
   "outputs": [
    {
     "name": "stdout",
     "output_type": "stream",
     "text": [
      "6\n"
     ]
    }
   ],
   "source": [
    "count = 0\n",
    "while N!=1:\n",
    "    if N%K == 0:\n",
    "        N = N/K\n",
    "    else: N = N-1\n",
    "    count +=1\n",
    "print(count)"
   ]
  },
  {
   "cell_type": "code",
   "execution_count": 35,
   "id": "f49f8602",
   "metadata": {},
   "outputs": [
    {
     "name": "stdout",
     "output_type": "stream",
     "text": [
      "26 3\n",
      "7\n"
     ]
    }
   ],
   "source": [
    "# 정답코드 시간복잡도가 log시간복잡도\n",
    "n, k = map(int, input().split())\n",
    "\n",
    "result = 0\n",
    "\n",
    "while True:\n",
    "    # N이 K로 나누어 떨어지는 수가 될때까지 빼기\n",
    "    target = (n//k) * k # n이 k로 나누어지지 않을때 가장 가까운 수를 입력\n",
    "    result += (n-target)\n",
    "    n = target\n",
    "    # N이 K보다 작을 때 (더 이상 나눌 수 없을때) 반복문 탈출\n",
    "    if n<k:\n",
    "        break\n",
    "    # k로 나누기\n",
    "    result += 1\n",
    "    n //= k\n",
    "    \n",
    "# 마지막으로 남은 수에 대하여 1씩 빼기\n",
    "result += (n-1)\n",
    "print(result)\n"
   ]
  },
  {
   "cell_type": "code",
   "execution_count": 33,
   "id": "b69e010c",
   "metadata": {},
   "outputs": [
    {
     "data": {
      "text/plain": [
       "24"
      ]
     },
     "execution_count": 33,
     "metadata": {},
     "output_type": "execute_result"
    }
   ],
   "source": [
    "n = 25\n",
    "k = 3\n",
    "target = (n//k) * k\n",
    "target"
   ]
  },
  {
   "cell_type": "markdown",
   "id": "ee4a0ea0",
   "metadata": {},
   "source": [
    "### 곱하기 혹은 더하기 문제\n",
    "- 각 자리가 숫자(0부터 9)로만 이루어진 문자열 S가 주어졌을 떄, 왼쪽부터 하나씩 모든 숫자를 확인하여 사이에 + 혹은 x 연산자를 넣어 결과적으로 만들어질 수 있는 가장 큰 수를 구하는 프로그램을 작성하세요 x와 +는 구분없이 순차적으로 실행\n",
    "- 예를 들어 02984라는 문자열로 만들 수 있는 가장 큰 수는 (((0+2) x 9) x 8) x 4) = 576입니다."
   ]
  },
  {
   "cell_type": "code",
   "execution_count": 60,
   "id": "eca4c5ad",
   "metadata": {},
   "outputs": [
    {
     "name": "stdout",
     "output_type": "stream",
     "text": [
      "567\n"
     ]
    }
   ],
   "source": [
    "# 혼자서 해보기\n",
    "s = input()"
   ]
  },
  {
   "cell_type": "code",
   "execution_count": 61,
   "id": "6400f36d",
   "metadata": {},
   "outputs": [],
   "source": [
    "slst = [int(i) for i in s]"
   ]
  },
  {
   "cell_type": "code",
   "execution_count": 65,
   "id": "e335d2fb",
   "metadata": {},
   "outputs": [
    {
     "name": "stdout",
     "output_type": "stream",
     "text": [
      "210\n"
     ]
    }
   ],
   "source": [
    "answer = 0\n",
    "for i in slst:\n",
    "    if answer*i <= 1:\n",
    "        answer += i\n",
    "    else:\n",
    "        answer = answer*i\n",
    "print(answer)"
   ]
  },
  {
   "cell_type": "code",
   "execution_count": 63,
   "id": "d73309ca",
   "metadata": {},
   "outputs": [
    {
     "data": {
      "text/plain": [
       "11"
      ]
     },
     "execution_count": 63,
     "metadata": {},
     "output_type": "execute_result"
    }
   ],
   "source": [
    "a = slst[0] + slst[1]\n",
    "a"
   ]
  },
  {
   "cell_type": "code",
   "execution_count": null,
   "id": "c9a17eaa",
   "metadata": {},
   "outputs": [],
   "source": [
    "# 답안 예시\n",
    "data = input()\n",
    "\n",
    "# 첫 번째 문자를 숫자로 변경하여 대입\n",
    "result = int(data[0])\n",
    "\n",
    "for i in range(1, len(data)):\n",
    "    # 두 수 중에서 하나라도 0 혹은 1인 경우, 곱하기 보다 더하기 수행\n",
    "    num = int(data[i])\n",
    "    if num <=1 or result <= 1:\n",
    "        result += num\n",
    "    else:\n",
    "        result *= num\n",
    "print(result)"
   ]
  },
  {
   "cell_type": "markdown",
   "id": "784ab477",
   "metadata": {},
   "source": [
    "### 예시 문제 모험가 길드\n",
    "\n",
    "- 한 마을에 모험가가 N명 있습니다. 모험가 길드에서는 N명의 모험가를 대상으로 공포도를 측정했는데, 공포도가 높은 모험가는 쉽게 공포를 느껴 위험상황에서 제대로 대처할 능력이 떨어집니다.\n",
    "- 모험가 길드장인 동빈이는 모험가 그룹을 안전하게 구성하고자 공포도가 X인 모험가는 반드시 X명 이상으로 구성한 모험가 그룹에 참여해야 여행을 떠날 수 있도록 규정했습니다.\n",
    "- 동빈이는 최대 몇 개의 모험가 그룹을 만들 수 있는지 궁금합니다. N명의 모험가에 대한 정보가 주어졌을떄, 여행을 떠날 수 있는 그룹 수의 최대값을 구하는 프로그램을 작성하세요\n",
    "\n",
    "- 예를 들어 N = 5이고 각 모험가의 공포도가 다음과 같다고 가정합시다.\n",
    "- 23122\n",
    "- 이 경우 그룹 1에 공포도가 1,2,3인 모험가를 한 명씩 넣고, 그룹 2에 공포도가 2인 남은 두 명을 넣게되면 총 2개의 그룹을 만들 수 있습니다.\n",
    "- 또한 몇 명의 모험가는 마을에 그대로 남아 있어도 되기 때문에, 모든 모험가를 특정한 그룹에 넣을 필요는 없습니다."
   ]
  },
  {
   "cell_type": "code",
   "execution_count": 66,
   "id": "2d48e637",
   "metadata": {},
   "outputs": [
    {
     "name": "stdout",
     "output_type": "stream",
     "text": [
      "5\n",
      "2 3 1 2 2\n"
     ]
    }
   ],
   "source": [
    "# 혼자서 해보기\n",
    "n = int(input())\n",
    "podo = list(map(int,input().split(\" \")))"
   ]
  },
  {
   "cell_type": "code",
   "execution_count": 70,
   "id": "af09d927",
   "metadata": {},
   "outputs": [
    {
     "data": {
      "text/plain": [
       "[3, 2, 2, 2, 1]"
      ]
     },
     "execution_count": 70,
     "metadata": {},
     "output_type": "execute_result"
    }
   ],
   "source": [
    "count = 0\n",
    "podo.sort()\n",
    "\n",
    "index = podo[0]"
   ]
  },
  {
   "cell_type": "markdown",
   "id": "7d407557",
   "metadata": {},
   "source": [
    "- 해결 방법\n",
    "- 오름차순으로 정렬 후 앞에서 부터 공포도를 하나씩 확인하며 현재 그룹에 포함된 모험가의 수가 현재 확인하고 있는 공포도 보다 크거나 같다면 이를 그룹으로 설정\n",
    "- 이러한 방법을 이용하면 공포도가 오름차순으로 정렬되어 있다는 점에서 항상  최소한의 모험가의 수만 포함하여 그룹을 결성하게 됩니다.\n"
   ]
  },
  {
   "cell_type": "code",
   "execution_count": null,
   "id": "286ec49a",
   "metadata": {},
   "outputs": [],
   "source": [
    "# 답안 예시\n",
    "n = int(input())\n",
    "data = list(map(int, input().split()))\n",
    "data.sort()\n",
    "\n",
    "result = 0 # 총 그룹의 수\n",
    "count = 0 # 현재 그룹에 포함된 모험가의 수\n",
    "\n",
    "for i in data: # 공포도를 낮은거부터 하나씩 확인하며\n",
    "    count += 1 # 현재 그룹에 해당 모험가를 포함시키기\n",
    "    if count >= i: # 현재 그룹에 포함된 모험가의 수가 현재의 공포도 이상이라면, 그룹 결성\n",
    "        result += 1 # 총 그룹의 수 증가시키기\n",
    "        count = 0 # 현재 그룹에 포함된 모험가의 수 초기화\n",
    "print(result) # 총 그룹의 수 출력"
   ]
  },
  {
   "cell_type": "code",
   "execution_count": null,
   "id": "a42796ba",
   "metadata": {},
   "outputs": [],
   "source": []
  }
 ],
 "metadata": {
  "kernelspec": {
   "display_name": "Python 3 (ipykernel)",
   "language": "python",
   "name": "python3"
  },
  "language_info": {
   "codemirror_mode": {
    "name": "ipython",
    "version": 3
   },
   "file_extension": ".py",
   "mimetype": "text/x-python",
   "name": "python",
   "nbconvert_exporter": "python",
   "pygments_lexer": "ipython3",
   "version": "3.9.12"
  }
 },
 "nbformat": 4,
 "nbformat_minor": 5
}
