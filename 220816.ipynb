{
  "nbformat": 4,
  "nbformat_minor": 0,
  "metadata": {
    "colab": {
      "name": "220816.ipynb",
      "provenance": [],
      "collapsed_sections": [],
      "authorship_tag": "ABX9TyOHs6inQJ4hza10VQwmRJko",
      "include_colab_link": true
    },
    "kernelspec": {
      "name": "python3",
      "display_name": "Python 3"
    },
    "language_info": {
      "name": "python"
    }
  },
  "cells": [
    {
      "cell_type": "markdown",
      "metadata": {
        "id": "view-in-github",
        "colab_type": "text"
      },
      "source": [
        "<a href=\"https://colab.research.google.com/github/Junseokee/Algorithm/blob/main/220816.ipynb\" target=\"_parent\"><img src=\"https://colab.research.google.com/assets/colab-badge.svg\" alt=\"Open In Colab\"/></a>"
      ]
    },
    {
      "cell_type": "markdown",
      "source": [
        "## 4344 평균은 넘겠지\n",
        "\n",
        "문제\n",
        "대학생 새내기들의 90%는 자신이 반에서 평균은 넘는다고 생각한다. 당신은 그들에게 슬픈 진실을 알려줘야 한다.\n",
        "\n",
        "입력\n",
        "첫째 줄에는 테스트 케이스의 개수 C가 주어진다.\n",
        "\n",
        "둘째 줄부터 각 테스트 케이스마다 학생의 수 N(1 ≤ N ≤ 1000, N은 정수)이 첫 수로 주어지고, 이어서 N명의 점수가 주어진다. 점수는 0보다 크거나 같고, 100보다 작거나 같은 정수이다.\n",
        "\n",
        "출력\n",
        "각 케이스마다 한 줄씩 평균을 넘는 학생들의 비율을 반올림하여 소수점 셋째 자리까지 출력한다."
      ],
      "metadata": {
        "id": "GNVkdoI2cBRv"
      }
    },
    {
      "cell_type": "code",
      "source": [
        "C = int(input())\n",
        "sum = 0\n",
        "count = 0 \n",
        "new = []\n",
        "for i in range(C):\n",
        "  N = list(map(int,input().split(\" \"))) \n",
        "  avg = N[1:]\n",
        "  ravg = 0\n",
        "  sum = 0\n",
        "  for j in avg:\n",
        "    sum = sum + int(j)\n",
        "    ravg = sum/int(N[0])\n",
        "    new = list(filter(lambda x: x>ravg, avg))\n",
        "  high = len(new)/int(N[0])\n",
        "  print('{0:0.3f}%'.format(high*100))"
      ],
      "metadata": {
        "colab": {
          "base_uri": "https://localhost:8080/"
        },
        "id": "B20sd0DMcJEs",
        "outputId": "4673a00a-7cb1-4f5e-d0f9-3d07458b21cb"
      },
      "execution_count": null,
      "outputs": [
        {
          "output_type": "stream",
          "name": "stdout",
          "text": [
            "3\n",
            "5 50 50 70 80 100\n",
            "40.000%\n",
            "7 100 95 90 80 70 60 50\n",
            "57.143%\n",
            "3 70 90 80\n",
            "33.333%\n"
          ]
        }
      ]
    },
    {
      "cell_type": "code",
      "source": [
        "print(sum,avg,ravg)\n"
      ],
      "metadata": {
        "colab": {
          "base_uri": "https://localhost:8080/"
        },
        "id": "gUDwsG-iclm1",
        "outputId": "8281d6f7-3371-408b-b281-bad0d0a02a03"
      },
      "execution_count": null,
      "outputs": [
        {
          "output_type": "stream",
          "name": "stdout",
          "text": [
            "1135 [70, 90, 80] 0 0\n"
          ]
        }
      ]
    },
    {
      "cell_type": "code",
      "source": [
        "new = list(filter(lambda x: x>ravg, avg))\n",
        "len(new)"
      ],
      "metadata": {
        "colab": {
          "base_uri": "https://localhost:8080/"
        },
        "id": "heI6ITyvotph",
        "outputId": "10f03be4-859c-44d9-e96f-fc926c0105e7"
      },
      "execution_count": null,
      "outputs": [
        {
          "output_type": "execute_result",
          "data": {
            "text/plain": [
              "2"
            ]
          },
          "metadata": {},
          "execution_count": 46
        }
      ]
    },
    {
      "cell_type": "code",
      "source": [
        "int(N[0])"
      ],
      "metadata": {
        "colab": {
          "base_uri": "https://localhost:8080/"
        },
        "id": "NjMoiDpXq8mw",
        "outputId": "119439f4-e6bd-4684-fa55-2dfdc1c84729"
      },
      "execution_count": null,
      "outputs": [
        {
          "output_type": "execute_result",
          "data": {
            "text/plain": [
              "3"
            ]
          },
          "metadata": {},
          "execution_count": 60
        }
      ]
    },
    {
      "cell_type": "markdown",
      "source": [
        "## 1065 한수\n",
        "문제\n",
        "어떤 양의 정수 X의 각 자리가 등차수열을 이룬다면, 그 수를 한수라고 한다. 등차수열은 연속된 두 개의 수의 차이가 일정한 수열을 말한다. N이 주어졌을 때, 1보다 크거나 같고, N보다 작거나 같은 한수의 개수를 출력하는 프로그램을 작성하시오. \n",
        "\n",
        "입력\n",
        "첫째 줄에 1,000보다 작거나 같은 자연수 N이 주어진다.\n",
        "\n",
        "출력\n",
        "첫째 줄에 1보다 크거나 같고, N보다 작거나 같은 한수의 개수를 출력한다.\n"
      ],
      "metadata": {
        "id": "l-FUaEHaucnK"
      }
    },
    {
      "cell_type": "code",
      "source": [
        "def hansu(n):\n",
        "  if n < 100:\n",
        "    hs = n\n",
        "  else:\n",
        "    hs = 99\n",
        "    for i in range(100, n+1):\n",
        "      lst = list(map(int,str(i)))\n",
        "\n",
        "      if lst[0] - lst[1] == lst[1] - lst[2]:\n",
        "        hs = hs + 1\n",
        "  return hs\n",
        "\n",
        "n = int(input())\n",
        "print(hansu(n))"
      ],
      "metadata": {
        "colab": {
          "base_uri": "https://localhost:8080/"
        },
        "id": "xw9qvrJcucqr",
        "outputId": "002621cf-2139-432e-9909-96bdced08870"
      },
      "execution_count": null,
      "outputs": [
        {
          "output_type": "stream",
          "name": "stdout",
          "text": [
            "210\n",
            "105\n"
          ]
        }
      ]
    },
    {
      "cell_type": "markdown",
      "source": [
        "## 11654 아스키코드"
      ],
      "metadata": {
        "id": "vEM_AN7xuctu"
      }
    },
    {
      "cell_type": "code",
      "source": [
        "chr = input()\n",
        "print(ord(chr))"
      ],
      "metadata": {
        "id": "tdVPvhfxucwc",
        "colab": {
          "base_uri": "https://localhost:8080/"
        },
        "outputId": "d34b2062-6352-4223-abe6-e54091e27b73"
      },
      "execution_count": 7,
      "outputs": [
        {
          "output_type": "stream",
          "name": "stdout",
          "text": [
            "a\n",
            "97\n"
          ]
        }
      ]
    },
    {
      "cell_type": "markdown",
      "source": [
        "## 11720 숫자의 합\n",
        "문제\n",
        "N개의 숫자가 공백 없이 쓰여있다. 이 숫자를 모두 합해서 출력하는 프로그램을 작성하시오.\n",
        "\n",
        "입력\n",
        "첫째 줄에 숫자의 개수 N (1 ≤ N ≤ 100)이 주어진다. 둘째 줄에 숫자 N개가 공백없이 주어진다.\n",
        "\n",
        "출력\n",
        "입력으로 주어진 숫자 N개의 합을 출력한다."
      ],
      "metadata": {
        "id": "f8wRnkziuczY"
      }
    },
    {
      "cell_type": "code",
      "source": [
        "n = int(input())\n",
        "lst = input()\n",
        "sum = 0\n",
        "sum_lst = []\n",
        "for i in range(len(lst)):\n",
        "  sum_lst = sum_lst + list(map(int,lst[i]))\n",
        "for j in range(n):\n",
        "  sum = sum + int(sum_lst[j])\n",
        "\n",
        "print(sum)"
      ],
      "metadata": {
        "id": "E1SJGgi9uc5K",
        "colab": {
          "base_uri": "https://localhost:8080/"
        },
        "outputId": "2e14c2f0-7838-4fa5-82af-caa12922274c"
      },
      "execution_count": 28,
      "outputs": [
        {
          "output_type": "stream",
          "name": "stdout",
          "text": [
            "11\n",
            "10987654321\n",
            "46\n"
          ]
        }
      ]
    },
    {
      "cell_type": "code",
      "source": [
        "sum = 0\n",
        "\n",
        "sum"
      ],
      "metadata": {
        "id": "knoZgfQluc8T",
        "colab": {
          "base_uri": "https://localhost:8080/"
        },
        "outputId": "7c849d64-e16a-4b73-fda1-2bbca4066ae4"
      },
      "execution_count": 27,
      "outputs": [
        {
          "output_type": "execute_result",
          "data": {
            "text/plain": [
              "15"
            ]
          },
          "metadata": {},
          "execution_count": 27
        }
      ]
    },
    {
      "cell_type": "code",
      "source": [
        ""
      ],
      "metadata": {
        "id": "rUouffv3uc_S"
      },
      "execution_count": null,
      "outputs": []
    },
    {
      "cell_type": "code",
      "source": [
        ""
      ],
      "metadata": {
        "id": "X2DisdbYudCW"
      },
      "execution_count": null,
      "outputs": []
    },
    {
      "cell_type": "code",
      "source": [
        ""
      ],
      "metadata": {
        "id": "nLtARY5AudFd"
      },
      "execution_count": null,
      "outputs": []
    },
    {
      "cell_type": "code",
      "source": [
        ""
      ],
      "metadata": {
        "id": "fu2PxGcDudH_"
      },
      "execution_count": null,
      "outputs": []
    },
    {
      "cell_type": "code",
      "source": [
        ""
      ],
      "metadata": {
        "id": "k_M6adc_udNx"
      },
      "execution_count": null,
      "outputs": []
    },
    {
      "cell_type": "code",
      "source": [
        ""
      ],
      "metadata": {
        "id": "oNDcSUQIudQ8"
      },
      "execution_count": null,
      "outputs": []
    }
  ]
}