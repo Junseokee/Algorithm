{
  "nbformat": 4,
  "nbformat_minor": 0,
  "metadata": {
    "colab": {
      "provenance": [],
      "authorship_tag": "ABX9TyOjF8LqrCK7aBpZCDhnmp19",
      "include_colab_link": true
    },
    "kernelspec": {
      "name": "python3",
      "display_name": "Python 3"
    },
    "language_info": {
      "name": "python"
    }
  },
  "cells": [
    {
      "cell_type": "markdown",
      "metadata": {
        "id": "view-in-github",
        "colab_type": "text"
      },
      "source": [
        "<a href=\"https://colab.research.google.com/github/Junseokee/Algorithm/blob/main/220903.ipynb\" target=\"_parent\"><img src=\"https://colab.research.google.com/assets/colab-badge.svg\" alt=\"Open In Colab\"/></a>"
      ]
    },
    {
      "cell_type": "markdown",
      "source": [
        "## 2798 블랙잭\n",
        "문제\n",
        "카지노에서 제일 인기 있는 게임 블랙잭의 규칙은 상당히 쉽다. 카드의 합이 21을 넘지 않는 한도 내에서, 카드의 합을 최대한 크게 만드는 게임이다. 블랙잭은 카지노마다 다양한 규정이 있다.\n",
        "\n",
        "한국 최고의 블랙잭 고수 김정인은 새로운 블랙잭 규칙을 만들어 상근, 창영이와 게임하려고 한다.\n",
        "\n",
        "김정인 버전의 블랙잭에서 각 카드에는 양의 정수가 쓰여 있다. 그 다음, 딜러는 N장의 카드를 모두 숫자가 보이도록 바닥에 놓는다. 그런 후에 딜러는 숫자 M을 크게 외친다.\n",
        "\n",
        "이제 플레이어는 제한된 시간 안에 N장의 카드 중에서 3장의 카드를 골라야 한다. 블랙잭 변형 게임이기 때문에, 플레이어가 고른 카드의 합은 M을 넘지 않으면서 M과 최대한 가깝게 만들어야 한다.\n",
        "\n",
        "N장의 카드에 써져 있는 숫자가 주어졌을 때, M을 넘지 않으면서 M에 최대한 가까운 카드 3장의 합을 구해 출력하시오.\n",
        "\n",
        "입력\n",
        "첫째 줄에 카드의 개수 N(3 ≤ N ≤ 100)과 M(10 ≤ M ≤ 300,000)이 주어진다. 둘째 줄에는 카드에 쓰여 있는 수가 주어지며, 이 값은 100,000을 넘지 않는 양의 정수이다.\n",
        "\n",
        "합이 M을 넘지 않는 카드 3장을 찾을 수 있는 경우만 입력으로 주어진다.\n",
        "\n",
        "출력\n",
        "첫째 줄에 M을 넘지 않으면서 M에 최대한 가까운 카드 3장의 합을 출력한다."
      ],
      "metadata": {
        "id": "w5DH3N7sOLBZ"
      }
    },
    {
      "cell_type": "code",
      "source": [
        "N, M = map(int,input().split(\" \"))\n",
        "card = list(map(int,input().split(\" \")))"
      ],
      "metadata": {
        "colab": {
          "base_uri": "https://localhost:8080/"
        },
        "id": "eMifVoMHOXn-",
        "outputId": "0e149af8-d1c6-44cf-d126-ae17c801b355"
      },
      "execution_count": null,
      "outputs": [
        {
          "name": "stdout",
          "output_type": "stream",
          "text": [
            "10 500\n",
            "93 181 245 214 315 36 185 138 216 295\n"
          ]
        }
      ]
    },
    {
      "cell_type": "code",
      "source": [
        "N, M = map(int,input().split())\n",
        "card = list(map(int,input().split()))\n",
        "\n",
        "result_lst = []\n",
        "for i in card:\n",
        "  test = i\n",
        "  for j in card:\n",
        "    if j==i:\n",
        "        pass\n",
        "    else:\n",
        "      test2 = test +j\n",
        "    for k in card:\n",
        "      if j==k or k==i:\n",
        "        pass\n",
        "      else:\n",
        "        test3 = test2 + k\n",
        "        if test3 <= M:\n",
        "          result_lst.append(test3)\n",
        "result_lst.sort(reverse=True)\n",
        "result_lst[0]"
      ],
      "metadata": {
        "colab": {
          "base_uri": "https://localhost:8080/"
        },
        "id": "zbXahYXPOxAC",
        "outputId": "a3689133-9b96-4a03-bf6b-fed0615684a5"
      },
      "execution_count": null,
      "outputs": [
        {
          "name": "stdout",
          "output_type": "stream",
          "text": [
            "5 10\n",
            "1 2 3 4 5\n"
          ]
        },
        {
          "output_type": "execute_result",
          "data": {
            "text/plain": [
              "10"
            ]
          },
          "metadata": {},
          "execution_count": 68
        }
      ]
    },
    {
      "cell_type": "code",
      "source": [
        "N, M = map(int,input().split())\n",
        "card = list(map(int,input().split()))\n",
        "\n",
        "result_lst = []\n",
        "for i in card:\n",
        "  test = i\n",
        "  for j in card:\n",
        "    if j!=i:\n",
        "      test2 = test +j\n",
        "      for k in card:\n",
        "        if j!=k and i!=k:\n",
        "          test3 = test2 + k\n",
        "          if test3 <= M:\n",
        "            result_lst.append(test3)\n",
        "\n",
        "result = set(result_lst)\n",
        "result2 = list(result)\n",
        "max(result2)"
      ],
      "metadata": {
        "id": "ZYpLN-z-ZkEf",
        "colab": {
          "base_uri": "https://localhost:8080/"
        },
        "outputId": "d350baea-571a-47d3-c2cb-4d344d214f2a"
      },
      "execution_count": 8,
      "outputs": [
        {
          "name": "stdout",
          "output_type": "stream",
          "text": [
            "5 21\n",
            "5 6 7 8 9\n"
          ]
        },
        {
          "output_type": "execute_result",
          "data": {
            "text/plain": [
              "21"
            ]
          },
          "metadata": {},
          "execution_count": 8
        }
      ]
    },
    {
      "cell_type": "code",
      "source": [
        "N, M = map(int,input().split())\n",
        "card = list(map(int,input().split()))\n",
        "\n",
        "result_lst = []\n",
        "for i in card:\n",
        "  for j in card:\n",
        "    if j!=i:\n",
        "      for k in card:\n",
        "        if j!=k and i!=k:\n",
        "          test = i + j + k\n",
        "          if test <= M:\n",
        "            result_lst.append(test)\n",
        "result_lst.sort(reverse=True)\n",
        "print(result_lst[0])"
      ],
      "metadata": {
        "colab": {
          "base_uri": "https://localhost:8080/"
        },
        "id": "p90PrdzzO_y7",
        "outputId": "d628a169-eb1e-418c-de58-e814982c7239"
      },
      "execution_count": 14,
      "outputs": [
        {
          "output_type": "stream",
          "name": "stdout",
          "text": [
            "5 21\n",
            "5 6 7 8 9\n",
            "21\n"
          ]
        }
      ]
    },
    {
      "cell_type": "code",
      "source": [
        "result = set(result_lst)\n",
        "result2 = list(result)\n",
        "max(result2)"
      ],
      "metadata": {
        "id": "LT5awozGQeaW"
      },
      "execution_count": null,
      "outputs": []
    },
    {
      "cell_type": "code",
      "source": [
        "result_lst"
      ],
      "metadata": {
        "colab": {
          "base_uri": "https://localhost:8080/"
        },
        "id": "zq1XPvv0TRQk",
        "outputId": "13d6efe5-888c-4d9c-bc63-fb3f108bc733"
      },
      "execution_count": 13,
      "outputs": [
        {
          "output_type": "execute_result",
          "data": {
            "text/plain": [
              "[18,\n",
              " 19,\n",
              " 20,\n",
              " 18,\n",
              " 20,\n",
              " 21,\n",
              " 19,\n",
              " 20,\n",
              " 20,\n",
              " 21,\n",
              " 18,\n",
              " 19,\n",
              " 20,\n",
              " 18,\n",
              " 21,\n",
              " 19,\n",
              " 21,\n",
              " 20,\n",
              " 18,\n",
              " 20,\n",
              " 21,\n",
              " 18,\n",
              " 21,\n",
              " 20,\n",
              " 21,\n",
              " 21,\n",
              " 19,\n",
              " 20,\n",
              " 19,\n",
              " 21,\n",
              " 20,\n",
              " 21,\n",
              " 20,\n",
              " 21,\n",
              " 20,\n",
              " 21]"
            ]
          },
          "metadata": {},
          "execution_count": 13
        }
      ]
    },
    {
      "cell_type": "code",
      "source": [],
      "metadata": {
        "id": "ZPUnj6m6TUP7"
      },
      "execution_count": null,
      "outputs": []
    }
  ]
}