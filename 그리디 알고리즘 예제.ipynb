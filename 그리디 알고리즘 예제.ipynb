{
 "cells": [
  {
   "cell_type": "markdown",
   "id": "14e848bf",
   "metadata": {},
   "source": [
    "## 동전0 11047\n",
    "- 문제\n",
    "- 준규가 가지고 있는 동전은 총 N종류이고, 각각의 동전을 매우 많이 가지고 있다.\n",
    "\n",
    "- 동전을 적절히 사용해서 그 가치의 합을 K로 만들려고 한다. 이때 필요한 동전 개수의 최솟값을 구하는 프로그램을 작성하시오.\n",
    "\n",
    "- 입력\n",
    "- 첫째 줄에 N과 K가 주어진다. (1 ≤ N ≤ 10, 1 ≤ K ≤ 100,000,000)\n",
    "\n",
    "- 둘째 줄부터 N개의 줄에 동전의 가치 Ai가 오름차순으로 주어진다. (1 ≤ Ai ≤ 1,000,000, A1 = 1, i ≥ 2인 경우에 Ai는 Ai-1의 배수)\n",
    "\n",
    "- 출력\n",
    "- 첫째 줄에 K원을 만드는데 필요한 동전 개수의 최솟값을 출력한다."
   ]
  },
  {
   "cell_type": "markdown",
   "id": "98969969",
   "metadata": {},
   "source": [
    "#### 풀이 전략\n",
    "N과 K를 입력받고 동전의 단위를 내림차순으로 정렬 한뒤 동전으로 나눠지면 몫을 count하고 나머지를 다시 반복문에 넣는다"
   ]
  },
  {
   "cell_type": "code",
   "execution_count": 18,
   "id": "a4e5a1d6",
   "metadata": {},
   "outputs": [
    {
     "name": "stdout",
     "output_type": "stream",
     "text": [
      "10 4790\n",
      "1\n",
      "5\n",
      "10\n",
      "50\n",
      "100\n",
      "500\n",
      "1000\n",
      "5000\n",
      "10000\n",
      "50000\n"
     ]
    }
   ],
   "source": [
    "n,k = map(int,input().split(' '))\n",
    "coin = []\n",
    "a = int(input())\n",
    "coin.append(a)\n",
    "for i in range(n-1):\n",
    "    a = int(input())\n",
    "    if a%coin[-1] == 0:\n",
    "        coin.append(a)"
   ]
  },
  {
   "cell_type": "code",
   "execution_count": 19,
   "id": "ab15d9ce",
   "metadata": {},
   "outputs": [
    {
     "name": "stdout",
     "output_type": "stream",
     "text": [
      "12\n"
     ]
    }
   ],
   "source": [
    "coin.sort(reverse=True)\n",
    "count = 0\n",
    "for co in coin:\n",
    "    if k//co >= 1:\n",
    "        count += k//co\n",
    "        k = k%co\n",
    "print(count)"
   ]
  },
  {
   "cell_type": "code",
   "execution_count": 16,
   "id": "8ba08a95",
   "metadata": {},
   "outputs": [
    {
     "data": {
      "text/plain": [
       "0"
      ]
     },
     "execution_count": 16,
     "metadata": {},
     "output_type": "execute_result"
    }
   ],
   "source": [
    "4200//50000"
   ]
  },
  {
   "cell_type": "code",
   "execution_count": 21,
   "id": "5b2a82e4",
   "metadata": {},
   "outputs": [
    {
     "name": "stdout",
     "output_type": "stream",
     "text": [
      "10 4790\n",
      "1\n",
      "5\n",
      "10\n",
      "50\n",
      "100\n",
      "500\n",
      "1000\n",
      "5000\n",
      "10000\n",
      "50000\n",
      "12\n"
     ]
    }
   ],
   "source": [
    "n,k = map(int,input().split(' '))\n",
    "coin = []\n",
    "a = int(input())\n",
    "coin.append(a)\n",
    "for i in range(n-1):\n",
    "    a = int(input())\n",
    "    if a%coin[-1] == 0:\n",
    "        coin.append(a)\n",
    "        \n",
    "coin.sort(reverse=True)\n",
    "count = 0\n",
    "for co in coin:\n",
    "    if k//co >= 1:\n",
    "        count += k//co\n",
    "        k = k%co\n",
    "print(count)"
   ]
  },
  {
   "cell_type": "markdown",
   "id": "36e419cd",
   "metadata": {},
   "source": [
    "## 회의실 배정 1931\n",
    "- 문제\n",
    "- 한개의 회의실이 있는데 이를 사용하고자 하는 N개의 회의에 대하여 회의실 사용표를 만들려고 한다. 각 회의 I에 대해 시작시간과 끝나는 시간이 주어져 있고, 각 회의가 겹치지 않게 하면서 회의실을 사용할 수 있는 회의의 최대 개수를 찾아보자. 단, 회의는 한번 시작하면 중간에 중단될 수 없으며 한 회의가 끝나는 것과 동시에 다음 회의가 시작될 수 있다. 회의의 시작시간과 끝나는 시간이 같을 수도 있다. 이 경우에는 시작하자마자 끝나는 것으로 생각하면 된다.\n",
    "\n",
    "- 입력\n",
    "- 첫째 줄에 회의의 수 N(1 ≤ N ≤ 100,000)이 주어진다. 둘째 줄부터 N+1 줄까지 각 회의의 정보가 주어지는데 이것은 공백을 사이에 두고 회의의 시작시간과 끝나는 시간이 주어진다. 시작 시간과 끝나는 시간은 231-1보다 작거나 같은 자연수 또는 0이다.\n",
    "\n",
    "- 출력\n",
    "- 첫째 줄에 최대 사용할 수 있는 회의의 최대 개수를 출력한다."
   ]
  },
  {
   "cell_type": "markdown",
   "id": "d8d20970",
   "metadata": {},
   "source": [
    "#### 풀이 전략\n",
    "시간을 리스트로 입력 받은뒤 정렬 하여 조건문으로 해결 "
   ]
  },
  {
   "cell_type": "code",
   "execution_count": 24,
   "id": "a6cf75ff",
   "metadata": {
    "scrolled": true
   },
   "outputs": [
    {
     "name": "stdout",
     "output_type": "stream",
     "text": [
      "11\n",
      "1 4\n",
      "[[1, 4]]\n",
      "3 5\n",
      "[[1, 4], [3, 5]]\n",
      "0 6\n",
      "[[1, 4], [3, 5], [0, 6]]\n",
      "5 7\n",
      "[[1, 4], [3, 5], [0, 6], [5, 7]]\n",
      "3 8\n",
      "[[1, 4], [3, 5], [0, 6], [5, 7], [3, 8]]\n",
      "5 9\n",
      "[[1, 4], [3, 5], [0, 6], [5, 7], [3, 8], [5, 9]]\n",
      "6 10\n",
      "[[1, 4], [3, 5], [0, 6], [5, 7], [3, 8], [5, 9], [6, 10]]\n",
      "8 11\n",
      "[[1, 4], [3, 5], [0, 6], [5, 7], [3, 8], [5, 9], [6, 10], [8, 11]]\n",
      "8 12\n",
      "[[1, 4], [3, 5], [0, 6], [5, 7], [3, 8], [5, 9], [6, 10], [8, 11], [8, 12]]\n",
      "2 13\n",
      "[[1, 4], [3, 5], [0, 6], [5, 7], [3, 8], [5, 9], [6, 10], [8, 11], [8, 12], [2, 13]]\n",
      "12 14\n",
      "[[1, 4], [3, 5], [0, 6], [5, 7], [3, 8], [5, 9], [6, 10], [8, 11], [8, 12], [2, 13], [12, 14]]\n"
     ]
    }
   ],
   "source": [
    "n = int(input())\n",
    "ilst = []\n",
    "for i in range(n):\n",
    "    time = list(map(int,input().split(\" \")))\n",
    "    if time[0] <= Qtime[1]:\n",
    "        ilst.append(time)"
   ]
  },
  {
   "cell_type": "code",
   "execution_count": 38,
   "id": "59947cd3",
   "metadata": {},
   "outputs": [
    {
     "data": {
      "text/plain": [
       "[[1, 4],\n",
       " [3, 5],\n",
       " [0, 6],\n",
       " [5, 7],\n",
       " [3, 8],\n",
       " [5, 9],\n",
       " [6, 10],\n",
       " [8, 11],\n",
       " [8, 12],\n",
       " [2, 13],\n",
       " [12, 14]]"
      ]
     },
     "execution_count": 38,
     "metadata": {},
     "output_type": "execute_result"
    }
   ],
   "source": [
    "ilst = sorted(ilst, key=lambda x: x[1]-x[0])\n",
    "for i, j in ilst:"
   ]
  },
  {
   "cell_type": "code",
   "execution_count": 40,
   "id": "bb25da09",
   "metadata": {},
   "outputs": [
    {
     "name": "stdout",
     "output_type": "stream",
     "text": [
      "7\n",
      "11\n",
      "14\n",
      "4\n"
     ]
    }
   ],
   "source": [
    "ilst = sorted(ilst, key=lambda x: x[0])\n",
    "ilst = sorted(ilst, key=lambda x: x[1])    \n",
    "best = []\n",
    "cnt = 1\n",
    "end = ilst[0][1]\n",
    "for i in range(1,n):\n",
    "    if ilst[i][0] >= end:\n",
    "        cnt+=1\n",
    "        end = ilst[i][1]\n",
    "        print(end)\n",
    "print(cnt)"
   ]
  },
  {
   "cell_type": "code",
   "execution_count": 47,
   "id": "e7b2f1bf",
   "metadata": {},
   "outputs": [
    {
     "name": "stdout",
     "output_type": "stream",
     "text": [
      "11\n",
      "1 4\n",
      "3 5\n",
      "0 6\n",
      "5 7\n",
      "3 8\n",
      "5 9\n",
      "6 10\n",
      "8 11\n",
      "8 12\n",
      "2 13\n",
      "12 14\n",
      "7\n",
      "11\n",
      "14\n",
      "4\n"
     ]
    }
   ],
   "source": [
    "n = int(input())\n",
    "ilst = []\n",
    "for i in range(n):\n",
    "    time = list(map(int,input().split(\" \")))\n",
    "    if time[0] <= time[1]:\n",
    "        ilst.append(time)\n",
    "ilst = sorted(ilst, key=lambda x: x[0])\n",
    "ilst = sorted(ilst, key=lambda x: x[1])    \n",
    "best = []\n",
    "cnt = 1\n",
    "end = ilst[0][1]\n",
    "for i in range(1,n):\n",
    "    if ilst[i][0] >= end:\n",
    "        cnt+=1\n",
    "        end = ilst[i][1]\n",
    "print(cnt)"
   ]
  },
  {
   "cell_type": "markdown",
   "id": "32e200fc",
   "metadata": {},
   "source": [
    "## ATM 11399\n",
    "- 문제\n",
    "    -  인하은행에는 ATM이 1대밖에 없다. 지금 이 ATM앞에 N명의 사람들이 줄을 서있다. 사람은 1번부터 N번까지 번호가 매겨져 있으며, i번 사람이 돈을 인출하는데 걸리는 시간은 Pi분이다.\n",
    "\n",
    "    - 사람들이 줄을 서는 순서에 따라서, 돈을 인출하는데 필요한 시간의 합이 달라지게 된다. 예를 들어, 총 5명이 있고, P1 = 3, P2 = 1, P3 = 4, P4 = 3, P5 = 2 인 경우를 생각해보자. [1, 2, 3, 4, 5] 순서로 줄을 선다면, 1번 사람은 3분만에 돈을 뽑을 수 있다. 2번 사람은 1번 사람이 돈을 뽑을 때 까지 기다려야 하기 때문에, 3+1 = 4분이 걸리게 된다. 3번 사람은 1번, 2번 사람이 돈을 뽑을 때까지 기다려야 하기 때문에, 총 3+1+4 = 8분이 필요하게 된다. 4번 사람은 3+1+4+3 = 11분, 5번 사람은 3+1+4+3+2 = 13분이 걸리게 된다. 이 경우에 각 사람이 돈을 인출하는데 필요한 시간의 합은 3+4+8+11+13 = 39분이 된다.\n",
    "\n",
    "    - 줄을 [2, 5, 1, 4, 3] 순서로 줄을 서면, 2번 사람은 1분만에, 5번 사람은 1+2 = 3분, 1번 사람은 1+2+3 = 6분, 4번 사람은 1+2+3+3 = 9분, 3번 사람은 1+2+3+3+4 = 13분이 걸리게 된다. 각 사람이 돈을 인출하는데 필요한 시간의 합은 1+3+6+9+13 = 32분이다. 이 방법보다 더 필요한 시간의 합을 최소로 만들 수는 없다.\n",
    "\n",
    "    - 줄을 서 있는 사람의 수 N과 각 사람이 돈을 인출하는데 걸리는 시간 Pi가 주어졌을 때, 각 사람이 돈을 인출하는데 필요한 시간의 합의 최솟값을 구하는 프로그램을 작성하시오.\n",
    "\n",
    "- 입력\n",
    "    - 첫째 줄에 사람의 수 N(1 ≤ N ≤ 1,000)이 주어진다. 둘째 줄에는 각 사람이 돈을 인출하는데 걸리는 시간 Pi가 주어진다. (1 ≤ Pi ≤ 1,000)\n",
    "\n",
    "- 출력\n",
    "    - 첫째 줄에 각 사람이 돈을 인출하는데 필요한 시간의 합의 최솟값을 출력한다."
   ]
  },
  {
   "cell_type": "markdown",
   "id": "99409c4f",
   "metadata": {},
   "source": [
    "#### 풀이 전략\n",
    "시간별로 정렬 한 뒤 사람당 앞의 시간을 모두 더한 값 끼리 더한다"
   ]
  },
  {
   "cell_type": "code",
   "execution_count": 49,
   "id": "bb7247b8",
   "metadata": {},
   "outputs": [
    {
     "name": "stdout",
     "output_type": "stream",
     "text": [
      "5\n",
      "3 1 4 3 2\n"
     ]
    }
   ],
   "source": [
    "n = int(input())\n",
    "p = list(map(int,input().split(\" \")))"
   ]
  },
  {
   "cell_type": "code",
   "execution_count": 60,
   "id": "6acdd3a0",
   "metadata": {},
   "outputs": [
    {
     "data": {
      "text/plain": [
       "[1, 2, 3, 3, 4]"
      ]
     },
     "execution_count": 60,
     "metadata": {},
     "output_type": "execute_result"
    }
   ],
   "source": [
    "p = sorted(p)\n",
    "p"
   ]
  },
  {
   "cell_type": "code",
   "execution_count": 65,
   "id": "555fd579",
   "metadata": {},
   "outputs": [
    {
     "name": "stdout",
     "output_type": "stream",
     "text": [
      "5\n",
      "3 1 4 3 2\n",
      "32\n"
     ]
    }
   ],
   "source": [
    "n = int(input())\n",
    "p = list(map(int,input().split(\" \")))\n",
    "\n",
    "p = sorted(p)\n",
    "\n",
    "time = 0\n",
    "psum = 0\n",
    "\n",
    "for i in p:\n",
    "    psum = psum+i\n",
    "    time = time + psum\n",
    "print(time)"
   ]
  },
  {
   "cell_type": "markdown",
   "id": "e1870fca",
   "metadata": {},
   "source": [
    "## 잃어버린 괄호  1541\n",
    "- 문제\n",
    "    - 세준이는 양수와 +, -, 그리고 괄호를 가지고 식을 만들었다. 그리고 나서 세준이는 괄호를 모두 지웠다. 그리고 나서 세준이는 괄호를 적절히 쳐서 이 식의 값을 최소로 만들려고 한다. 괄호를 적절히 쳐서 이 식의 값을 최소로 만드는 프로그램을 작성하시오.\n",
    "\n",
    "- 입력\n",
    "    - 첫째 줄에 식이 주어진다. 식은 ‘0’~‘9’, ‘+’, 그리고 ‘-’만으로 이루어져 있고, 가장 처음과 마지막 문자는 숫자이다. 그리고 연속해서 두 개 이상의 연산자가 나타나지 않고, 5자리보다 많이 연속되는 숫자는 없다. 수는 0으로 시작할 수 있다. 입력으로 주어지는 식의 길이는 50보다 작거나 같다.\n",
    "\n",
    "- 출력\n",
    "    - 첫째 줄에 정답을 출력한다."
   ]
  },
  {
   "cell_type": "markdown",
   "id": "6a797ad5",
   "metadata": {},
   "source": [
    "#### 풀이 전략\n",
    "최소값을 만들기 위해서는 -를 기준으로 괄호를 치는게 유리함"
   ]
  },
  {
   "cell_type": "code",
   "execution_count": 39,
   "id": "3d7d7761",
   "metadata": {},
   "outputs": [
    {
     "name": "stdout",
     "output_type": "stream",
     "text": [
      "55-50+40\n"
     ]
    }
   ],
   "source": [
    "sik = input().split(\"-\")"
   ]
  },
  {
   "cell_type": "code",
   "execution_count": 42,
   "id": "d2dea9ad",
   "metadata": {
    "scrolled": true
   },
   "outputs": [
    {
     "name": "stdout",
     "output_type": "stream",
     "text": [
      "55-40+50\n",
      "-35\n"
     ]
    }
   ],
   "source": [
    "sik = input().split(\"-\")\n",
    "num = []\n",
    "\n",
    "for i in sik:\n",
    "    haphap = 0\n",
    "    hap = i.split('+')\n",
    "    for h in hap:\n",
    "        haphap += int(h)\n",
    "    num.append(haphap)\n",
    "n = num[0]\n",
    "\n",
    "for i in range(1,len(num)):\n",
    "    n -= num[i]\n",
    "print(n)"
   ]
  },
  {
   "cell_type": "code",
   "execution_count": 33,
   "id": "4bee546c",
   "metadata": {},
   "outputs": [],
   "source": [
    "a = sik[1].split('+')"
   ]
  },
  {
   "cell_type": "code",
   "execution_count": 28,
   "id": "b6e832dc",
   "metadata": {},
   "outputs": [
    {
     "name": "stdout",
     "output_type": "stream",
     "text": [
      "50\n",
      "90\n"
     ]
    }
   ],
   "source": [
    "sum = 0\n",
    "for i in a:\n",
    "    sum = sum+ int(i)\n",
    "    print(sum)"
   ]
  },
  {
   "cell_type": "markdown",
   "id": "536d7cd5",
   "metadata": {},
   "source": [
    "## 주유소 13305\n",
    "문제\n",
    "어떤 나라에 N개의 도시가 있다. 이 도시들은 일직선 도로 위에 있다. 편의상 일직선을 수평 방향으로 두자. 제일 왼쪽의 도시에서 제일 오른쪽의 도시로 자동차를 이용하여 이동하려고 한다. 인접한 두 도시 사이의 도로들은 서로 길이가 다를 수 있다. 도로 길이의 단위는 km를 사용한다.\n",
    "\n",
    "처음 출발할 때 자동차에는 기름이 없어서 주유소에서 기름을 넣고 출발하여야 한다. 기름통의 크기는 무제한이어서 얼마든지 많은 기름을 넣을 수 있다. 도로를 이용하여 이동할 때 1km마다 1리터의 기름을 사용한다. 각 도시에는 단 하나의 주유소가 있으며, 도시 마다 주유소의 리터당 가격은 다를 수 있다. 가격의 단위는 원을 사용한다.\n",
    "\n",
    "예를 들어, 이 나라에 다음 그림처럼 4개의 도시가 있다고 하자. 원 안에 있는 숫자는 그 도시에 있는 주유소의 리터당 가격이다. 도로 위에 있는 숫자는 도로의 길이를 표시한 것이다. \n",
    "\n",
    "\n",
    "\n",
    "제일 왼쪽 도시에서 6리터의 기름을 넣고, 더 이상의 주유 없이 제일 오른쪽 도시까지 이동하면 총 비용은 30원이다. 만약 제일 왼쪽 도시에서 2리터의 기름을 넣고(2×5 = 10원) 다음 번 도시까지 이동한 후 3리터의 기름을 넣고(3×2 = 6원) 다음 도시에서 1리터의 기름을 넣어(1×4 = 4원) 제일 오른쪽 도시로 이동하면, 총 비용은 20원이다. 또 다른 방법으로 제일 왼쪽 도시에서 2리터의 기름을 넣고(2×5 = 10원) 다음 번 도시까지 이동한 후 4리터의 기름을 넣고(4×2 = 8원) 제일 오른쪽 도시까지 이동하면, 총 비용은 18원이다.\n",
    "\n",
    "각 도시에 있는 주유소의 기름 가격과, 각 도시를 연결하는 도로의 길이를 입력으로 받아 제일 왼쪽 도시에서 제일 오른쪽 도시로 이동하는 최소의 비용을 계산하는 프로그램을 작성하시오.\n",
    "\n",
    "입력\n",
    "표준 입력으로 다음 정보가 주어진다. 첫 번째 줄에는 도시의 개수를 나타내는 정수 N(2 ≤ N ≤ 100,000)이 주어진다. 다음 줄에는 인접한 두 도시를 연결하는 도로의 길이가 제일 왼쪽 도로부터 N-1개의 자연수로 주어진다. 다음 줄에는 주유소의 리터당 가격이 제일 왼쪽 도시부터 순서대로 N개의 자연수로 주어진다. 제일 왼쪽 도시부터 제일 오른쪽 도시까지의 거리는 1이상 1,000,000,000 이하의 자연수이다. 리터당 가격은 1 이상 1,000,000,000 이하의 자연수이다. \n",
    "\n",
    "출력\n",
    "표준 출력으로 제일 왼쪽 도시에서 제일 오른쪽 도시로 가는 최소 비용을 출력한다. "
   ]
  },
  {
   "cell_type": "markdown",
   "id": "6431aaec",
   "metadata": {},
   "source": [
    "#### 풀이 전략\n",
    "주유소 기름가격별로 우선순위 지정 -> 뒷정류장보다 우선순위가 낮으면 다음정류장 만큼만, 높으면 다다음 정류장까지"
   ]
  },
  {
   "cell_type": "code",
   "execution_count": 83,
   "id": "e585eee1",
   "metadata": {},
   "outputs": [
    {
     "name": "stdout",
     "output_type": "stream",
     "text": [
      "4\n",
      "2 3 1\n",
      "5 2 4 1\n"
     ]
    }
   ],
   "source": [
    "n = int(input())\n",
    "road = list(map(int,input().split(\" \")))\n",
    "oil = list(map(int,input().split(\" \")))"
   ]
  },
  {
   "cell_type": "code",
   "execution_count": 86,
   "id": "703d2986",
   "metadata": {},
   "outputs": [
    {
     "name": "stdout",
     "output_type": "stream",
     "text": [
      "4\n",
      "2 3 1\n",
      "5 2 4 1\n",
      "2 4 2 21\n",
      "1 10 2 21\n",
      "1 16 2 22\n",
      "16\n"
     ]
    }
   ],
   "source": [
    "n = int(input())\n",
    "road = list(map(int,input().split(\" \")))\n",
    "oil = list(map(int,input().split(\" \")))\n",
    "\n",
    "start = oil[0]\n",
    "distance = road[0]\n",
    "cost = 0\n",
    "for i in oil[1:-1]:\n",
    "    for j in road:\n",
    "        if start <= i:\n",
    "            cost += start * (distance + j)\n",
    "            print('1',cost, distance,count)\n",
    "            road.pop(0)\n",
    "            continue\n",
    "        elif start > i:\n",
    "            start = i\n",
    "            distance = j\n",
    "            cost += start * distance\n",
    "            road.pop(0)\n",
    "            print('2',cost, distance,count)\n",
    "    count += 1\n",
    "print(cost)\n",
    "        \n",
    "        "
   ]
  },
  {
   "cell_type": "code",
   "execution_count": 64,
   "id": "36ebec44",
   "metadata": {},
   "outputs": [],
   "source": [
    "lst = [2,3,4,5,6]"
   ]
  },
  {
   "cell_type": "code",
   "execution_count": 91,
   "id": "1fabfd9c",
   "metadata": {},
   "outputs": [
    {
     "name": "stdout",
     "output_type": "stream",
     "text": [
      "4\n",
      "2 3 1\n",
      "5 2 4 1\n",
      "18\n"
     ]
    }
   ],
   "source": [
    "n = int(input())\n",
    "road = list(map(int,input().split(\" \")))\n",
    "oil = list(map(int,input().split(\" \")))\n",
    "cost = 0\n",
    "\n",
    "# 첫번째 주유소를 등록\n",
    "price = oil[0]\n",
    "\n",
    "# 도로의 갯수는 n-1\n",
    "for i in range(n-1):\n",
    "    # 0번째 주유소가 1번째 주유소보다 비쌀 경우\n",
    "    if price > oil[i]: \n",
    "        # i번째 주유소에서 구매하는게 나음\n",
    "        price = oil[i]\n",
    "    cost += price*road[i]\n",
    "print(cost)"
   ]
  },
  {
   "cell_type": "markdown",
   "id": "5a7a71de",
   "metadata": {},
   "source": [
    "도로의 갯수를 어떻게 구할까"
   ]
  }
 ],
 "metadata": {
  "kernelspec": {
   "display_name": "Python 3 (ipykernel)",
   "language": "python",
   "name": "python3"
  },
  "language_info": {
   "codemirror_mode": {
    "name": "ipython",
    "version": 3
   },
   "file_extension": ".py",
   "mimetype": "text/x-python",
   "name": "python",
   "nbconvert_exporter": "python",
   "pygments_lexer": "ipython3",
   "version": "3.9.12"
  }
 },
 "nbformat": 4,
 "nbformat_minor": 5
}
