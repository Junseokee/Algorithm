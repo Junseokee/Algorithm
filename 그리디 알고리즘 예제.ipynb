{
 "cells": [
  {
   "cell_type": "markdown",
   "id": "4feb81d9",
   "metadata": {},
   "source": [
    "## 동전0 11047\n",
    "- 문제\n",
    "- 준규가 가지고 있는 동전은 총 N종류이고, 각각의 동전을 매우 많이 가지고 있다.\n",
    "\n",
    "- 동전을 적절히 사용해서 그 가치의 합을 K로 만들려고 한다. 이때 필요한 동전 개수의 최솟값을 구하는 프로그램을 작성하시오.\n",
    "\n",
    "- 입력\n",
    "- 첫째 줄에 N과 K가 주어진다. (1 ≤ N ≤ 10, 1 ≤ K ≤ 100,000,000)\n",
    "\n",
    "- 둘째 줄부터 N개의 줄에 동전의 가치 Ai가 오름차순으로 주어진다. (1 ≤ Ai ≤ 1,000,000, A1 = 1, i ≥ 2인 경우에 Ai는 Ai-1의 배수)\n",
    "\n",
    "- 출력\n",
    "- 첫째 줄에 K원을 만드는데 필요한 동전 개수의 최솟값을 출력한다."
   ]
  },
  {
   "cell_type": "markdown",
   "id": "6165d760",
   "metadata": {},
   "source": [
    "#### 풀이 전략\n",
    "N과 K를 입력받고 동전의 단위를 내림차순으로 정렬 한뒤 동전으로 나눠지면 몫을 count하고 나머지를 다시 반복문에 넣는다"
   ]
  },
  {
   "cell_type": "code",
   "execution_count": 18,
   "id": "dd6c92ac",
   "metadata": {},
   "outputs": [
    {
     "name": "stdout",
     "output_type": "stream",
     "text": [
      "10 4790\n",
      "1\n",
      "5\n",
      "10\n",
      "50\n",
      "100\n",
      "500\n",
      "1000\n",
      "5000\n",
      "10000\n",
      "50000\n"
     ]
    }
   ],
   "source": [
    "n,k = map(int,input().split(' '))\n",
    "coin = []\n",
    "a = int(input())\n",
    "coin.append(a)\n",
    "for i in range(n-1):\n",
    "    a = int(input())\n",
    "    if a%coin[-1] == 0:\n",
    "        coin.append(a)"
   ]
  },
  {
   "cell_type": "code",
   "execution_count": 19,
   "id": "56da70cf",
   "metadata": {},
   "outputs": [
    {
     "name": "stdout",
     "output_type": "stream",
     "text": [
      "12\n"
     ]
    }
   ],
   "source": [
    "coin.sort(reverse=True)\n",
    "count = 0\n",
    "for co in coin:\n",
    "    if k//co >= 1:\n",
    "        count += k//co\n",
    "        k = k%co\n",
    "print(count)"
   ]
  },
  {
   "cell_type": "code",
   "execution_count": 16,
   "id": "e829d0f9",
   "metadata": {},
   "outputs": [
    {
     "data": {
      "text/plain": [
       "0"
      ]
     },
     "execution_count": 16,
     "metadata": {},
     "output_type": "execute_result"
    }
   ],
   "source": [
    "4200//50000"
   ]
  },
  {
   "cell_type": "code",
   "execution_count": 21,
   "id": "cc31654b",
   "metadata": {},
   "outputs": [
    {
     "name": "stdout",
     "output_type": "stream",
     "text": [
      "10 4790\n",
      "1\n",
      "5\n",
      "10\n",
      "50\n",
      "100\n",
      "500\n",
      "1000\n",
      "5000\n",
      "10000\n",
      "50000\n",
      "12\n"
     ]
    }
   ],
   "source": [
    "n,k = map(int,input().split(' '))\n",
    "coin = []\n",
    "a = int(input())\n",
    "coin.append(a)\n",
    "for i in range(n-1):\n",
    "    a = int(input())\n",
    "    if a%coin[-1] == 0:\n",
    "        coin.append(a)\n",
    "        \n",
    "coin.sort(reverse=True)\n",
    "count = 0\n",
    "for co in coin:\n",
    "    if k//co >= 1:\n",
    "        count += k//co\n",
    "        k = k%co\n",
    "print(count)"
   ]
  },
  {
   "cell_type": "markdown",
   "id": "e55ed389",
   "metadata": {},
   "source": [
    "## 회의실 배정 1931\n",
    "- 문제\n",
    "- 한개의 회의실이 있는데 이를 사용하고자 하는 N개의 회의에 대하여 회의실 사용표를 만들려고 한다. 각 회의 I에 대해 시작시간과 끝나는 시간이 주어져 있고, 각 회의가 겹치지 않게 하면서 회의실을 사용할 수 있는 회의의 최대 개수를 찾아보자. 단, 회의는 한번 시작하면 중간에 중단될 수 없으며 한 회의가 끝나는 것과 동시에 다음 회의가 시작될 수 있다. 회의의 시작시간과 끝나는 시간이 같을 수도 있다. 이 경우에는 시작하자마자 끝나는 것으로 생각하면 된다.\n",
    "\n",
    "- 입력\n",
    "- 첫째 줄에 회의의 수 N(1 ≤ N ≤ 100,000)이 주어진다. 둘째 줄부터 N+1 줄까지 각 회의의 정보가 주어지는데 이것은 공백을 사이에 두고 회의의 시작시간과 끝나는 시간이 주어진다. 시작 시간과 끝나는 시간은 231-1보다 작거나 같은 자연수 또는 0이다.\n",
    "\n",
    "- 출력\n",
    "- 첫째 줄에 최대 사용할 수 있는 회의의 최대 개수를 출력한다."
   ]
  },
  {
   "cell_type": "markdown",
   "id": "1a0e28f8",
   "metadata": {},
   "source": [
    "#### 풀이 전략\n",
    "시간을 리스트로 입력 받은뒤 정렬 하여 조건문으로 해결 "
   ]
  },
  {
   "cell_type": "code",
   "execution_count": 24,
   "id": "5811624b",
   "metadata": {
    "scrolled": true
   },
   "outputs": [
    {
     "name": "stdout",
     "output_type": "stream",
     "text": [
      "11\n",
      "1 4\n",
      "[[1, 4]]\n",
      "3 5\n",
      "[[1, 4], [3, 5]]\n",
      "0 6\n",
      "[[1, 4], [3, 5], [0, 6]]\n",
      "5 7\n",
      "[[1, 4], [3, 5], [0, 6], [5, 7]]\n",
      "3 8\n",
      "[[1, 4], [3, 5], [0, 6], [5, 7], [3, 8]]\n",
      "5 9\n",
      "[[1, 4], [3, 5], [0, 6], [5, 7], [3, 8], [5, 9]]\n",
      "6 10\n",
      "[[1, 4], [3, 5], [0, 6], [5, 7], [3, 8], [5, 9], [6, 10]]\n",
      "8 11\n",
      "[[1, 4], [3, 5], [0, 6], [5, 7], [3, 8], [5, 9], [6, 10], [8, 11]]\n",
      "8 12\n",
      "[[1, 4], [3, 5], [0, 6], [5, 7], [3, 8], [5, 9], [6, 10], [8, 11], [8, 12]]\n",
      "2 13\n",
      "[[1, 4], [3, 5], [0, 6], [5, 7], [3, 8], [5, 9], [6, 10], [8, 11], [8, 12], [2, 13]]\n",
      "12 14\n",
      "[[1, 4], [3, 5], [0, 6], [5, 7], [3, 8], [5, 9], [6, 10], [8, 11], [8, 12], [2, 13], [12, 14]]\n"
     ]
    }
   ],
   "source": [
    "n = int(input())\n",
    "ilst = []\n",
    "for i in range(n):\n",
    "    time = list(map(int,input().split(\" \")))\n",
    "    if time[0] <= Qtime[1]:\n",
    "        ilst.append(time)"
   ]
  },
  {
   "cell_type": "code",
   "execution_count": 38,
   "id": "8d1a640e",
   "metadata": {},
   "outputs": [
    {
     "data": {
      "text/plain": [
       "[[1, 4],\n",
       " [3, 5],\n",
       " [0, 6],\n",
       " [5, 7],\n",
       " [3, 8],\n",
       " [5, 9],\n",
       " [6, 10],\n",
       " [8, 11],\n",
       " [8, 12],\n",
       " [2, 13],\n",
       " [12, 14]]"
      ]
     },
     "execution_count": 38,
     "metadata": {},
     "output_type": "execute_result"
    }
   ],
   "source": [
    "ilst = sorted(ilst, key=lambda x: x[1]-x[0])\n",
    "for i, j in ilst:"
   ]
  },
  {
   "cell_type": "code",
   "execution_count": 40,
   "id": "908d0f60",
   "metadata": {},
   "outputs": [
    {
     "name": "stdout",
     "output_type": "stream",
     "text": [
      "7\n",
      "11\n",
      "14\n",
      "4\n"
     ]
    }
   ],
   "source": [
    "ilst = sorted(ilst, key=lambda x: x[0])\n",
    "ilst = sorted(ilst, key=lambda x: x[1])    \n",
    "best = []\n",
    "cnt = 1\n",
    "end = ilst[0][1]\n",
    "for i in range(1,n):\n",
    "    if ilst[i][0] >= end:\n",
    "        cnt+=1\n",
    "        end = ilst[i][1]\n",
    "        print(end)\n",
    "print(cnt)"
   ]
  },
  {
   "cell_type": "code",
   "execution_count": 47,
   "id": "890e201d",
   "metadata": {},
   "outputs": [
    {
     "name": "stdout",
     "output_type": "stream",
     "text": [
      "11\n",
      "1 4\n",
      "3 5\n",
      "0 6\n",
      "5 7\n",
      "3 8\n",
      "5 9\n",
      "6 10\n",
      "8 11\n",
      "8 12\n",
      "2 13\n",
      "12 14\n",
      "7\n",
      "11\n",
      "14\n",
      "4\n"
     ]
    }
   ],
   "source": [
    "n = int(input())\n",
    "ilst = []\n",
    "for i in range(n):\n",
    "    time = list(map(int,input().split(\" \")))\n",
    "    if time[0] <= time[1]:\n",
    "        ilst.append(time)\n",
    "ilst = sorted(ilst, key=lambda x: x[0])\n",
    "ilst = sorted(ilst, key=lambda x: x[1])    \n",
    "best = []\n",
    "cnt = 1\n",
    "end = ilst[0][1]\n",
    "for i in range(1,n):\n",
    "    if ilst[i][0] >= end:\n",
    "        cnt+=1\n",
    "        end = ilst[i][1]\n",
    "print(cnt)"
   ]
  },
  {
   "cell_type": "markdown",
   "id": "26a2d19c",
   "metadata": {},
   "source": [
    "## ATM 11399\n",
    "- 문제\n",
    "    -  인하은행에는 ATM이 1대밖에 없다. 지금 이 ATM앞에 N명의 사람들이 줄을 서있다. 사람은 1번부터 N번까지 번호가 매겨져 있으며, i번 사람이 돈을 인출하는데 걸리는 시간은 Pi분이다.\n",
    "\n",
    "    - 사람들이 줄을 서는 순서에 따라서, 돈을 인출하는데 필요한 시간의 합이 달라지게 된다. 예를 들어, 총 5명이 있고, P1 = 3, P2 = 1, P3 = 4, P4 = 3, P5 = 2 인 경우를 생각해보자. [1, 2, 3, 4, 5] 순서로 줄을 선다면, 1번 사람은 3분만에 돈을 뽑을 수 있다. 2번 사람은 1번 사람이 돈을 뽑을 때 까지 기다려야 하기 때문에, 3+1 = 4분이 걸리게 된다. 3번 사람은 1번, 2번 사람이 돈을 뽑을 때까지 기다려야 하기 때문에, 총 3+1+4 = 8분이 필요하게 된다. 4번 사람은 3+1+4+3 = 11분, 5번 사람은 3+1+4+3+2 = 13분이 걸리게 된다. 이 경우에 각 사람이 돈을 인출하는데 필요한 시간의 합은 3+4+8+11+13 = 39분이 된다.\n",
    "\n",
    "    - 줄을 [2, 5, 1, 4, 3] 순서로 줄을 서면, 2번 사람은 1분만에, 5번 사람은 1+2 = 3분, 1번 사람은 1+2+3 = 6분, 4번 사람은 1+2+3+3 = 9분, 3번 사람은 1+2+3+3+4 = 13분이 걸리게 된다. 각 사람이 돈을 인출하는데 필요한 시간의 합은 1+3+6+9+13 = 32분이다. 이 방법보다 더 필요한 시간의 합을 최소로 만들 수는 없다.\n",
    "\n",
    "    - 줄을 서 있는 사람의 수 N과 각 사람이 돈을 인출하는데 걸리는 시간 Pi가 주어졌을 때, 각 사람이 돈을 인출하는데 필요한 시간의 합의 최솟값을 구하는 프로그램을 작성하시오.\n",
    "\n",
    "- 입력\n",
    "    - 첫째 줄에 사람의 수 N(1 ≤ N ≤ 1,000)이 주어진다. 둘째 줄에는 각 사람이 돈을 인출하는데 걸리는 시간 Pi가 주어진다. (1 ≤ Pi ≤ 1,000)\n",
    "\n",
    "- 출력\n",
    "    - 첫째 줄에 각 사람이 돈을 인출하는데 필요한 시간의 합의 최솟값을 출력한다."
   ]
  },
  {
   "cell_type": "markdown",
   "id": "3d934b98",
   "metadata": {},
   "source": [
    "#### 풀이 전략\n",
    "시간별로 정렬 한 뒤 사람당 앞의 시간을 모두 더한 값 끼리 더한다"
   ]
  },
  {
   "cell_type": "code",
   "execution_count": 49,
   "id": "900fd99f",
   "metadata": {},
   "outputs": [
    {
     "name": "stdout",
     "output_type": "stream",
     "text": [
      "5\n",
      "3 1 4 3 2\n"
     ]
    }
   ],
   "source": [
    "n = int(input())\n",
    "p = list(map(int,input().split(\" \")))"
   ]
  },
  {
   "cell_type": "code",
   "execution_count": 60,
   "id": "8a8d726a",
   "metadata": {},
   "outputs": [
    {
     "data": {
      "text/plain": [
       "[1, 2, 3, 3, 4]"
      ]
     },
     "execution_count": 60,
     "metadata": {},
     "output_type": "execute_result"
    }
   ],
   "source": [
    "p = sorted(p)\n",
    "p"
   ]
  },
  {
   "cell_type": "code",
   "execution_count": 65,
   "id": "9c0cbcbf",
   "metadata": {},
   "outputs": [
    {
     "name": "stdout",
     "output_type": "stream",
     "text": [
      "5\n",
      "3 1 4 3 2\n",
      "32\n"
     ]
    }
   ],
   "source": [
    "n = int(input())\n",
    "p = list(map(int,input().split(\" \")))\n",
    "\n",
    "p = sorted(p)\n",
    "\n",
    "time = 0\n",
    "psum = 0\n",
    "\n",
    "for i in p:\n",
    "    psum = psum+i\n",
    "    time = time + psum\n",
    "print(time)"
   ]
  },
  {
   "cell_type": "markdown",
   "id": "67b976d4",
   "metadata": {},
   "source": [
    "## 잃어버린 괄호  1541\n",
    "- 문제\n",
    "    - 세준이는 양수와 +, -, 그리고 괄호를 가지고 식을 만들었다. 그리고 나서 세준이는 괄호를 모두 지웠다. 그리고 나서 세준이는 괄호를 적절히 쳐서 이 식의 값을 최소로 만들려고 한다. 괄호를 적절히 쳐서 이 식의 값을 최소로 만드는 프로그램을 작성하시오.\n",
    "\n",
    "- 입력\n",
    "    - 첫째 줄에 식이 주어진다. 식은 ‘0’~‘9’, ‘+’, 그리고 ‘-’만으로 이루어져 있고, 가장 처음과 마지막 문자는 숫자이다. 그리고 연속해서 두 개 이상의 연산자가 나타나지 않고, 5자리보다 많이 연속되는 숫자는 없다. 수는 0으로 시작할 수 있다. 입력으로 주어지는 식의 길이는 50보다 작거나 같다.\n",
    "\n",
    "- 출력\n",
    "    - 첫째 줄에 정답을 출력한다."
   ]
  },
  {
   "cell_type": "markdown",
   "id": "ffdce93a",
   "metadata": {},
   "source": [
    "#### 풀이 전략\n",
    "최소값을 만들기 위해서는 -를 기준으로 괄호를 치는게 유리함"
   ]
  },
  {
   "cell_type": "code",
   "execution_count": 9,
   "id": "3820114f",
   "metadata": {},
   "outputs": [
    {
     "name": "stdout",
     "output_type": "stream",
     "text": [
      "50-50+40\n"
     ]
    }
   ],
   "source": [
    "sik = input().split(\"-\")"
   ]
  },
  {
   "cell_type": "code",
   "execution_count": 35,
   "id": "cca6d6a9",
   "metadata": {
    "scrolled": true
   },
   "outputs": [
    {
     "ename": "TypeError",
     "evalue": "unsupported operand type(s) for +: 'int' and 'str'",
     "output_type": "error",
     "traceback": [
      "\u001b[1;31m---------------------------------------------------------------------------\u001b[0m",
      "\u001b[1;31mTypeError\u001b[0m                                 Traceback (most recent call last)",
      "Input \u001b[1;32mIn [35]\u001b[0m, in \u001b[0;36m<cell line: 4>\u001b[1;34m()\u001b[0m\n\u001b[0;32m      6\u001b[0m     hap \u001b[38;5;241m=\u001b[39m i\u001b[38;5;241m.\u001b[39msplit(\u001b[38;5;124m'\u001b[39m\u001b[38;5;124m+\u001b[39m\u001b[38;5;124m'\u001b[39m)\n\u001b[0;32m      7\u001b[0m     \u001b[38;5;28;01mfor\u001b[39;00m h \u001b[38;5;129;01min\u001b[39;00m hap:\n\u001b[1;32m----> 8\u001b[0m         haphap \u001b[38;5;241m=\u001b[39m \u001b[43mhaphap\u001b[49m\u001b[38;5;241;43m+\u001b[39;49m\u001b[43mh\u001b[49m\n\u001b[0;32m      9\u001b[0m         \u001b[38;5;28mprint\u001b[39m(haphap)\n\u001b[0;32m     10\u001b[0m \u001b[38;5;28;01melse\u001b[39;00m:\n",
      "\u001b[1;31mTypeError\u001b[0m: unsupported operand type(s) for +: 'int' and 'str'"
     ]
    }
   ],
   "source": [
    "minx = 0\n",
    "hap = 0\n",
    "haphap = 0\n",
    "for i in sik:\n",
    "    if '+' in i:\n",
    "        hap = i.split('+')\n",
    "        for h in hap:\n",
    "            haphap = haphap+h\n",
    "            print(haphap)\n",
    "    else:\n",
    "        haphap = int(i)\n",
    "    minx -= haphap"
   ]
  },
  {
   "cell_type": "code",
   "execution_count": 33,
   "id": "3e03d899",
   "metadata": {},
   "outputs": [],
   "source": [
    "a = sik[1].split('+')"
   ]
  },
  {
   "cell_type": "code",
   "execution_count": 28,
   "id": "958affae",
   "metadata": {},
   "outputs": [
    {
     "name": "stdout",
     "output_type": "stream",
     "text": [
      "50\n",
      "90\n"
     ]
    }
   ],
   "source": [
    "sum = 0\n",
    "for i in a:\n",
    "    sum = sum+ int(i)\n",
    "    print(sum)"
   ]
  },
  {
   "cell_type": "code",
   "execution_count": null,
   "id": "1dd93113",
   "metadata": {},
   "outputs": [],
   "source": []
  }
 ],
 "metadata": {
  "kernelspec": {
   "display_name": "Python 3 (ipykernel)",
   "language": "python",
   "name": "python3"
  },
  "language_info": {
   "codemirror_mode": {
    "name": "ipython",
    "version": 3
   },
   "file_extension": ".py",
   "mimetype": "text/x-python",
   "name": "python",
   "nbconvert_exporter": "python",
   "pygments_lexer": "ipython3",
   "version": "3.9.12"
  }
 },
 "nbformat": 4,
 "nbformat_minor": 5
}
