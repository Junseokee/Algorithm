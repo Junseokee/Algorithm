{
  "nbformat": 4,
  "nbformat_minor": 0,
  "metadata": {
    "colab": {
      "name": "220824.ipynb",
      "provenance": [],
      "authorship_tag": "ABX9TyP5lQ6r2lK2/6HS6nWaRB95",
      "include_colab_link": true
    },
    "kernelspec": {
      "name": "python3",
      "display_name": "Python 3"
    },
    "language_info": {
      "name": "python"
    }
  },
  "cells": [
    {
      "cell_type": "markdown",
      "metadata": {
        "id": "view-in-github",
        "colab_type": "text"
      },
      "source": [
        "<a href=\"https://colab.research.google.com/github/Junseokee/Algorithm/blob/main/220824.ipynb\" target=\"_parent\"><img src=\"https://colab.research.google.com/assets/colab-badge.svg\" alt=\"Open In Colab\"/></a>"
      ]
    },
    {
      "cell_type": "markdown",
      "source": [
        "## 2995 생일\n",
        "문제\n",
        "상근이는 생일 선물로 구간 N개를 받았다. 여기서 말하는 구간이란 수의 구간이며, [A, B]와 같은 구간이다. 구간을 어떻게 선물로 받았는 지는 잘 모르겠지만, 진짜로 그 수학에 나오는 구간이다.\n",
        "\n",
        "상근이는 자신이 가지고 있는 구간 중에서 아래와 같은 조건을 만족하는 가장 긴 서로 다른 구간의 수열을 찾으려고 한다.\n",
        "\n",
        "수열에 포함되는 모든 구간은 다음 위치에 있는 구간을 포함해야 한다.\n",
        "\n",
        "가장 긴 수열을 찾는 프로그램을 작성하시오.\n",
        "\n",
        "입력\n",
        "첫째 줄에 구간의 수 N이 주어진다. (1 ≤ N ≤ 100,000)\n",
        "\n",
        "다음 N개 줄에는 각 구간 [A,B]의 정보 A와 B가 주어진다. (1 ≤ A < B ≤ 1,000,000)\n",
        "\n",
        "출력\n",
        "첫째 줄에 수열의 길이 K를 출력한다. 다음 K줄에는 수열에 포함되는 구간을 입력 형식과 같이 한 줄에 하나씩 순서대로 출력한다."
      ],
      "metadata": {
        "id": "WlCTxZ97myXt"
      }
    },
    {
      "cell_type": "markdown",
      "source": [
        "## 5635 생일\n",
        "문제\n",
        "어떤 반에 있는 학생들의 생일이 주어졌을 때, 가장 나이가 적은 사람과 가장 많은 사람을 구하는 프로그램을 작성하시오.\n",
        "\n",
        "입력\n",
        "첫째 줄에 반에 있는 학생의 수 n이 주어진다. (1 ≤ n ≤ 100)\n",
        "\n",
        "다음 n개 줄에는 각 학생의 이름과 생일이 \"이름 dd mm yyyy\"와 같은 형식으로 주어진다. 이름은 그 학생의 이름이며, 최대 15글자로 이루어져 있다. dd mm yyyy는 생일 일, 월, 연도이다. (1990 ≤ yyyy ≤ 2010, 1 ≤ mm ≤ 12, 1 ≤ dd ≤ 31) 주어지는 생일은 올바른 날짜이며, 연, 월 일은 0으로 시작하지 않는다.\n",
        "\n",
        "이름이 같거나, 생일이 같은 사람은 없다.\n",
        "\n",
        "출력\n",
        "첫째 줄에 가장 나이가 적은 사람의 이름, 둘째 줄에 가장 나이가 많은 사람 이름을 출력한다."
      ],
      "metadata": {
        "id": "V1pnLbDtbA0r"
      }
    },
    {
      "cell_type": "code",
      "source": [
        "N = int(input())\n",
        "lst = []\n",
        "for i in range(N):\n",
        "  n, d, m, y = input().split(\" \")\n",
        "\n",
        "  lst.append((int(y),int(m),int(d),n))\n",
        "lst.sort()\n",
        "print(lst[-1][-1]+'\\n'+lst[0][-1])"
      ],
      "metadata": {
        "colab": {
          "base_uri": "https://localhost:8080/"
        },
        "id": "N2s8mh8OcQTi",
        "outputId": "dc13ac04-e1e1-4308-fdc5-32d91df8fd33"
      },
      "execution_count": 25,
      "outputs": [
        {
          "output_type": "stream",
          "name": "stdout",
          "text": [
            "5\n",
            "Mickey 1 10 1991\n",
            "Alice 30 12 1990\n",
            "Tom 15 8 1993\n",
            "Jerry 18 9 1990\n",
            "Garfield 20 9 1990\n",
            "[(1990, 9, 18, 'Jerry'), (1990, 9, 20, 'Garfield'), (1990, 12, 30, 'Alice'), (1991, 10, 1, 'Mickey'), (1993, 8, 15, 'Tom')]\n"
          ]
        }
      ]
    },
    {
      "cell_type": "code",
      "source": [
        "print(lst[-1][-1]+'\\n'+lst[0][-1])"
      ],
      "metadata": {
        "colab": {
          "base_uri": "https://localhost:8080/"
        },
        "id": "qHtHUYLSghuZ",
        "outputId": "5c0e7add-d97c-442a-f239-315954eb30c1"
      },
      "execution_count": 30,
      "outputs": [
        {
          "output_type": "stream",
          "name": "stdout",
          "text": [
            "Tom\n",
            "Jerry\n"
          ]
        }
      ]
    },
    {
      "cell_type": "code",
      "source": [
        "Mickey 1 10 1991\n",
        "Alice 30 12 1990\n",
        "Tom 15 8 1993\n",
        "Jerry 18 9 1990\n",
        "Garfield 20 9 1990"
      ],
      "metadata": {
        "colab": {
          "base_uri": "https://localhost:8080/"
        },
        "id": "s3sacHrwisTs",
        "outputId": "ecb98725-1685-40c0-871e-e8955fb7ea2c"
      },
      "execution_count": 12,
      "outputs": [
        {
          "output_type": "execute_result",
          "data": {
            "text/plain": [
              "1"
            ]
          },
          "metadata": {},
          "execution_count": 12
        }
      ]
    },
    {
      "cell_type": "code",
      "source": [
        ""
      ],
      "metadata": {
        "colab": {
          "base_uri": "https://localhost:8080/"
        },
        "id": "J-BdJpFWhOyJ",
        "outputId": "c718ab43-a6f7-4cae-8277-6b04f8425072"
      },
      "execution_count": 10,
      "outputs": [
        {
          "output_type": "execute_result",
          "data": {
            "text/plain": [
              "['Mickey',\n",
              " '1',\n",
              " '10',\n",
              " '1991',\n",
              " 'Alice',\n",
              " '30',\n",
              " '12',\n",
              " '1990',\n",
              " 'Tom',\n",
              " '15',\n",
              " '8',\n",
              " '1993',\n",
              " 'Jerry',\n",
              " '18',\n",
              " '9',\n",
              " '1990',\n",
              " 'Garfield',\n",
              " '20',\n",
              " '9',\n",
              " '1990']"
            ]
          },
          "metadata": {},
          "execution_count": 10
        }
      ]
    },
    {
      "cell_type": "code",
      "source": [
        "sp_lst[3+2]"
      ],
      "metadata": {
        "colab": {
          "base_uri": "https://localhost:8080/",
          "height": 35
        },
        "id": "kDJRbo40ipML",
        "outputId": "28d8a327-4cd5-433e-adee-2c0533565906"
      },
      "execution_count": 13,
      "outputs": [
        {
          "output_type": "execute_result",
          "data": {
            "text/plain": [
              "'30'"
            ],
            "application/vnd.google.colaboratory.intrinsic+json": {
              "type": "string"
            }
          },
          "metadata": {},
          "execution_count": 13
        }
      ]
    },
    {
      "cell_type": "code",
      "source": [
        ""
      ],
      "metadata": {
        "id": "c_x7UWacjKjF"
      },
      "execution_count": null,
      "outputs": []
    }
  ]
}