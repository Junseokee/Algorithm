{
  "nbformat": 4,
  "nbformat_minor": 0,
  "metadata": {
    "colab": {
      "name": "220823.ipynb",
      "provenance": [],
      "collapsed_sections": [],
      "authorship_tag": "ABX9TyPDTtzVNnqpJMmIxXggW9Hr",
      "include_colab_link": true
    },
    "kernelspec": {
      "name": "python3",
      "display_name": "Python 3"
    },
    "language_info": {
      "name": "python"
    }
  },
  "cells": [
    {
      "cell_type": "markdown",
      "metadata": {
        "id": "view-in-github",
        "colab_type": "text"
      },
      "source": [
        "<a href=\"https://colab.research.google.com/github/Junseokee/Algorithm/blob/main/220823.ipynb\" target=\"_parent\"><img src=\"https://colab.research.google.com/assets/colab-badge.svg\" alt=\"Open In Colab\"/></a>"
      ]
    },
    {
      "cell_type": "markdown",
      "source": [
        "## 1193 분수찾기\n",
        "문제\n",
        "무한히 큰 배열에 다음과 같이 분수들이 적혀있다.\n",
        "\n",
        "1/1\t1/2\t1/3\t1/4\t1/5\t…   \n",
        "2/1\t2/2\t2/3\t2/4\t…\t…   \n",
        "3/1\t3/2\t3/3\t…\t…\t…   \n",
        "4/1\t4/2\t…\t…\t…\t…   \n",
        "5/1\t…\t…\t…\t…\t…   \n",
        "…\t…\t…\t…\t…\t…   \n",
        "이와 같이 나열된 분수들을 1/1 → 1/2 → 2/1 → 3/1 → 2/2 → … 과 같은 지그재그 순서로 차례대로 1번, 2번, 3번, 4번, 5번, … 분수라고 하자.   \n",
        "\n",
        "X가 주어졌을 때, X번째 분수를 구하는    프로그램을 작성하시오.   \n",
        "\n",
        "입력    \n",
        "첫째 줄에 X(1 ≤ X ≤ 10,000,000)가 주어진다.    \n",
        " \n",
        "출력    \n",
        "첫째 줄에 분수를 출력한다."
      ],
      "metadata": {
        "id": "pkzw3yp8o7Qw"
      }
    },
    {
      "cell_type": "code",
      "source": [
        "X = int(input()) "
      ],
      "metadata": {
        "id": "AgouqO3HpM4M"
      },
      "execution_count": null,
      "outputs": []
    },
    {
      "cell_type": "markdown",
      "source": [
        "1/1 - 1   i\n",
        "\n",
        "1/2 - 2    i-1/i\n",
        "2/1 - 3    i-1/i-2 \n",
        "3/1 - 4    i-1/i-3 \n",
        "2/2 - 5    i-3/i-3 \n",
        "\n",
        "1/3 - 6    i-5/i-3 \n",
        "1/4 - 7    i-6/i-3 \n",
        "2/3 - 8    i-6/i-5 \n",
        "3/2 - 9    i-6/i-7 \n",
        "4/1 - 10   i-6/i-9 \n",
        "5/1 - 11   i-6/i-10\n",
        "4/2 - 12   i-8/i-10\n",
        "3/3 - 13   i-10/i-10\n",
        "\n",
        "2/4 - 14   i-12/i-10\n",
        "1/5 - 15   i-14/i-10\n",
        "1/6 - 16   i-15/i-10\n",
        "2/5 - 17   i-15/i-12\n",
        "3/4 - 18   i-15/i-14\n",
        "4/3 - 19   i-15/i-16 \n",
        "5/2 - 20   i-15/i-18 \n",
        "6/1 - 21   i-15/i-20\n",
        "7/1 - 22   i-15/i-21\n",
        "6/2 - 23   i-17/i-21\n",
        "5/3 - 24   i-19/i-21\n",
        "4/4 - 25   i-21/i-21 \n",
        "\n",
        "3/5 - 26   i-23/i-21"
      ],
      "metadata": {
        "id": "FxxxWozwp0wp"
      }
    },
    {
      "cell_type": "code",
      "source": [
        "N = int(input())\n",
        "\n",
        "a = 1\n",
        "b = 1\n",
        "while N>a:\n",
        "  a += 4*b\n",
        "  b += 1\n",
        "print(b)"
      ],
      "metadata": {
        "colab": {
          "base_uri": "https://localhost:8080/"
        },
        "id": "thH3ZMe-rUaT",
        "outputId": "e08c0110-dcb7-40c8-933e-8ae4ff66e604"
      },
      "execution_count": 2,
      "outputs": [
        {
          "output_type": "stream",
          "name": "stdout",
          "text": [
            "13\n",
            "3\n"
          ]
        }
      ]
    },
    {
      "cell_type": "code",
      "source": [
        "x = int(input())\n",
        "num_list = []\n",
        "num = 0\n",
        "num_count = 0\n",
        "\n",
        "while num_count < x:\n",
        "  num = num + 1\n",
        "  num_count = num_count + num\n",
        "\n",
        "num_count = num_count - num\n",
        "\n",
        "if num % 2 == 0:\n",
        "  j = x - num_count\n",
        "  j = num - i + 1\n",
        "else:\n",
        "  j = num - (x - num_count) + 1\n",
        "  j = x - num_count\n",
        "print(f'{i}/{j}')"
      ],
      "metadata": {
        "id": "vCrkeGGXsuZK"
      },
      "execution_count": null,
      "outputs": []
    },
    {
      "cell_type": "code",
      "source": [
        "n = int(input())\n",
        "line = 1\n",
        "\n",
        "while n > line:\n",
        "    n -= line\n",
        "    line += 1\n",
        "\n",
        "if line % 2 == 0:\n",
        "    up = n\n",
        "    down = line - n + 1\n",
        "else:\n",
        "    up = line - n + 1\n",
        "    down = n\n",
        "\n",
        "print(up,'/',down, sep=\"\")"
      ],
      "metadata": {
        "id": "sp_q6OWx15bC"
      },
      "execution_count": null,
      "outputs": []
    }
  ]
}