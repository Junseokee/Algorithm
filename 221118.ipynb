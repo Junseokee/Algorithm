{
  "nbformat": 4,
  "nbformat_minor": 0,
  "metadata": {
    "colab": {
      "provenance": [],
      "authorship_tag": "ABX9TyNsd9n7dfcS21TDEQhc4lqL",
      "include_colab_link": true
    },
    "kernelspec": {
      "name": "python3",
      "display_name": "Python 3"
    },
    "language_info": {
      "name": "python"
    }
  },
  "cells": [
    {
      "cell_type": "markdown",
      "metadata": {
        "id": "view-in-github",
        "colab_type": "text"
      },
      "source": [
        "<a href=\"https://colab.research.google.com/github/Junseokee/Algorithm/blob/main/221118.ipynb\" target=\"_parent\"><img src=\"https://colab.research.google.com/assets/colab-badge.svg\" alt=\"Open In Colab\"/></a>"
      ]
    },
    {
      "cell_type": "markdown",
      "source": [
        "## 소인수분해 11653\n",
        "문제\n",
        "정수 N이 주어졌을 때, 소인수분해하는 프로그램을 작성하시오.\n",
        "\n",
        "입력\n",
        "첫째 줄에 정수 N (1 ≤ N ≤ 10,000,000)이 주어진다.\n",
        "\n",
        "출력\n",
        "N의 소인수분해 결과를 한 줄에 하나씩 오름차순으로 출력한다. N이 1인 경우 아무것도 출력하지 않는다"
      ],
      "metadata": {
        "id": "LSVijGUYC949"
      }
    },
    {
      "cell_type": "code",
      "execution_count": 2,
      "metadata": {
        "id": "9IRnAqMoCZ5d"
      },
      "outputs": [],
      "source": [
        "# 숫자입력 -> 2부터 1씩 올려가며 나머지가 0이 되면 나누기 ->  반복 -> \n",
        "intiger = 72"
      ]
    },
    {
      "cell_type": "code",
      "source": [
        "\n",
        "while intiger != 1:\n",
        "  insu = 2\n",
        "  if intiger%2 ==0:\n",
        "    intiger = intiger/insu\n",
        "  else:\n",
        "    insu +=1\n",
        "  print(intiger, insu)\n",
        "\n",
        "  "
      ],
      "metadata": {
        "id": "Osr0h9DTC9kl"
      },
      "execution_count": null,
      "outputs": []
    },
    {
      "cell_type": "code",
      "source": [
        "intiger = int(input(\"\"))\n",
        "insu = 2\n",
        "if intiger != 1:\n",
        "  while intiger != 1:\n",
        "    \n",
        "    if intiger%insu ==0:\n",
        "      intiger = intiger/insu\n",
        "      print(insu)\n",
        "      insu = 2\n",
        "    else:\n",
        "      insu +=1"
      ],
      "metadata": {
        "colab": {
          "base_uri": "https://localhost:8080/"
        },
        "id": "NlE9AFFcC9es",
        "outputId": "88251f47-11b8-4d7e-dc7e-0bdf4ecb03e9"
      },
      "execution_count": 20,
      "outputs": [
        {
          "name": "stdout",
          "output_type": "stream",
          "text": [
            "1\n"
          ]
        }
      ]
    },
    {
      "cell_type": "code",
      "source": [
        "intiger = 9\n",
        "insu = 3\n",
        "if intiger%insu ==0:\n",
        "  intiger = intiger/insu\n",
        "  print(intiger)"
      ],
      "metadata": {
        "colab": {
          "base_uri": "https://localhost:8080/"
        },
        "id": "al8B6eZVC9cN",
        "outputId": "da18d4af-ea9c-40f9-97fb-78f81c563748"
      },
      "execution_count": 14,
      "outputs": [
        {
          "output_type": "stream",
          "name": "stdout",
          "text": [
            "3.0\n"
          ]
        }
      ]
    },
    {
      "cell_type": "markdown",
      "source": [
        "## 소수 구하기 1929\n",
        "문제\n",
        "M이상 N이하의 소수를 모두 출력하는 프로그램을 작성하시오.\n",
        "\n",
        "입력\n",
        "첫째 줄에 자연수 M과 N이 빈 칸을 사이에 두고 주어진다. (1 ≤ M ≤ N ≤ 1,000,000) M이상 N이하의 소수가 하나 이상 있는 입력만 주어진다.\n",
        "\n",
        "출력\n",
        "한 줄에 하나씩, 증가하는 순서대로 소수를 출력한다."
      ],
      "metadata": {
        "id": "UGtVhMUsJ7Vb"
      }
    },
    {
      "cell_type": "code",
      "source": [
        "import math\n",
        "\n",
        "M, N = map(int,input().split(\" \"))\n",
        "\n",
        "# 소수 판별 함수(에라토스테네스의 체)\n",
        "def prime_number(n):\n",
        "  # 2부터 n까지의 모든 수에 대하여 소수 판별\n",
        "  array = [True for i in range(n+1)]\n",
        "  # 에라토스테네스의 체 (2 부터 n의 제곱근까지의 모든 수 확인)\n",
        "  for i in range(2, int(math.sqrt(n)) + 1):\n",
        "    # i가 소수인 경우\n",
        "    if array[i] == True:\n",
        "      # i를 제외한 i의 모든 배수를 지우기\n",
        "      j = 2\n",
        "      while i * j <= n:\n",
        "        array[i*j] = False\n",
        "        j += 1\n",
        "  return [ i for i in range(2,n+1) if array[i]]\n",
        "\n",
        "lst = prime_number(N)\n",
        "for i in lst:\n",
        "  if i >=M:\n",
        "    print(i)\n"
      ],
      "metadata": {
        "colab": {
          "base_uri": "https://localhost:8080/"
        },
        "id": "AnbYkfl6FKDW",
        "outputId": "85588416-3061-40eb-95b3-92647b092f9f"
      },
      "execution_count": 32,
      "outputs": [
        {
          "name": "stdout",
          "output_type": "stream",
          "text": [
            "15 16\n"
          ]
        }
      ]
    },
    {
      "cell_type": "code",
      "source": [
        "M,N = map(int, input().split(\" \"))\n",
        "print(M,N)"
      ],
      "metadata": {
        "colab": {
          "base_uri": "https://localhost:8080/"
        },
        "id": "Y1bnfSOPKANb",
        "outputId": "1e718baf-9917-4432-a1bd-dee7e717af43"
      },
      "execution_count": 26,
      "outputs": [
        {
          "output_type": "stream",
          "name": "stdout",
          "text": [
            "3 16\n",
            "3 16\n"
          ]
        }
      ]
    },
    {
      "cell_type": "markdown",
      "source": [
        "## 베르트랑 공준 4948\n",
        "문제\n",
        "베르트랑 공준은 임의의 자연수 n에 대하여, n보다 크고, 2n보다 작거나 같은 소수는 적어도 하나 존재한다는 내용을 담고 있다.\n",
        "\n",
        "이 명제는 조제프 베르트랑이 1845년에 추측했고, 파프누티 체비쇼프가 1850년에 증명했다.\n",
        "\n",
        "예를 들어, 10보다 크고, 20보다 작거나 같은 소수는 4개가 있다. (11, 13, 17, 19) 또, 14보다 크고, 28보다 작거나 같은 소수는 3개가 있다. (17,19, 23)\n",
        "\n",
        "자연수 n이 주어졌을 때, n보다 크고, 2n보다 작거나 같은 소수의 개수를 구하는 프로그램을 작성하시오. \n",
        "\n",
        "입력\n",
        "입력은 여러 개의 테스트 케이스로 이루어져 있다. 각 케이스는 n을 포함하는 한 줄로 이루어져 있다.\n",
        "\n",
        "입력의 마지막에는 0이 주어진다.\n",
        "\n",
        "출력\n",
        "각 테스트 케이스에 대해서, n보다 크고, 2n보다 작거나 같은 소수의 개수를 출력한다."
      ],
      "metadata": {
        "id": "Yu4mABh8NVZ9"
      }
    },
    {
      "cell_type": "code",
      "source": [
        "import math\n",
        "\n",
        "# 소수 판별 함수(에라토스테네스의 체)\n",
        "def prime_number(n):\n",
        "  # 2부터 n까지의 모든 수에 대하여 소수 판별\n",
        "  array = [True for i in range(n+1)]\n",
        "  # 에라토스테네스의 체 (2 부터 n의 제곱근까지의 모든 수 확인)\n",
        "  for i in range(2, int(math.sqrt(n)) + 1):\n",
        "    # i가 소수인 경우\n",
        "    if array[i] == True:\n",
        "      # i를 제외한 i의 모든 배수를 지우기\n",
        "      j = 2\n",
        "      while i * j <= n:\n",
        "        array[i*j] = False\n",
        "        j += 1\n",
        "  return [ i for i in range(2,n+1) if array[i]]\n",
        "\n",
        "case = 1\n",
        "Mlst = []\n",
        "while case != 0:\n",
        "  case = int(input())\n",
        "  \n",
        "  lst = prime_number(N)\n",
        "  for i in lst:\n",
        "    if i >=M:\n",
        "      print(i)\n"
      ],
      "metadata": {
        "id": "LPjZLQcoKVOW"
      },
      "execution_count": null,
      "outputs": []
    }
  ]
}