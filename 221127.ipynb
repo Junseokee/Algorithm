{
 "cells": [
  {
   "cell_type": "markdown",
   "id": "38b9bd79",
   "metadata": {},
   "source": [
    "## 2587번 대표값2\n",
    "문제\n",
    "어떤 수들이 있을 때, 그 수들을 대표하는 값으로 가장 흔하게 쓰이는 것은 평균이다. 평균은 주어진 모든 수의 합을 수의 개수로 나눈 것이다. 예를 들어 10, 40, 30, 60, 30의 평균은 (10 + 40 + 30 + 60 + 30) / 5 = 170 / 5 = 34가 된다.\n",
    "\n",
    "평균 이외의 또 다른 대표값으로 중앙값이라는 것이 있다. 중앙값은 주어진 수를 크기 순서대로 늘어 놓았을 때 가장 중앙에 놓인 값이다. 예를 들어 10, 40, 30, 60, 30의 경우, 크기 순서대로 늘어 놓으면\n",
    "\n",
    "10 30 30 40 60\n",
    "\n",
    "이 되고 따라서 중앙값은 30이 된다.\n",
    "\n",
    "다섯 개의 자연수가 주어질 때 이들의 평균과 중앙값을 구하는 프로그램을 작성하시오.\n",
    "\n",
    "입력\n",
    "첫째 줄부터 다섯 번째 줄까지 한 줄에 하나씩 자연수가 주어진다. 주어지는 자연수는 100 보다 작은 10의 배수이다.\n",
    "\n",
    "출력\n",
    "첫째 줄에는 평균을 출력하고, 둘째 줄에는 중앙값을 출력한다. 평균과 중앙값은 모두 자연수이다."
   ]
  },
  {
   "cell_type": "code",
   "execution_count": 2,
   "id": "4b17f78a",
   "metadata": {},
   "outputs": [
    {
     "name": "stdout",
     "output_type": "stream",
     "text": [
      "10\n",
      "30\n",
      "30\n",
      "40\n",
      "60\n",
      "34\n",
      "30\n"
     ]
    }
   ],
   "source": [
    "num = []\n",
    "for i in range(5):\n",
    "    n = int(input())\n",
    "    num.append(n)\n",
    "avg = sum(num)/len(num)\n",
    "print(int(avg))\n",
    "mid = sorted(num)\n",
    "print(mid[2])"
   ]
  },
  {
   "cell_type": "markdown",
   "id": "4128a82d",
   "metadata": {},
   "source": [
    "## 수 정렬하기3 10989\n",
    "문제\n",
    "N개의 수가 주어졌을 때, 이를 오름차순으로 정렬하는 프로그램을 작성하시오.\n",
    "\n",
    "입력\n",
    "첫째 줄에 수의 개수 N(1 ≤ N ≤ 10,000,000)이 주어진다. 둘째 줄부터 N개의 줄에는 수가 주어진다. 이 수는 10,000보다 작거나 같은 자연수이다.\n",
    "\n",
    "출력\n",
    "첫째 줄부터 N개의 줄에 오름차순으로 정렬한 결과를 한 줄에 하나씩 출력한다."
   ]
  },
  {
   "cell_type": "code",
   "execution_count": 12,
   "id": "ec22dae5",
   "metadata": {
    "scrolled": true
   },
   "outputs": [
    {
     "name": "stdout",
     "output_type": "stream",
     "text": [
      "10\n",
      "5\n",
      "2\n",
      "3\n",
      "1\n",
      "4\n",
      "2\n",
      "3\n",
      "5\n",
      "1\n",
      "7\n",
      "1\n",
      "1\n",
      "2\n",
      "2\n",
      "3\n",
      "3\n",
      "4\n",
      "5\n",
      "5\n",
      "7\n"
     ]
    }
   ],
   "source": [
    "N = int(input())\n",
    "num = []\n",
    "\n",
    "def sorting(lst):    \n",
    "    num.sort()\n",
    "    for i in num:\n",
    "        print(i)\n",
    "        \n",
    "for i in range(N):\n",
    "    s = int(input())\n",
    "    num.append(s)\n",
    "sorting(num)"
   ]
  },
  {
   "cell_type": "code",
   "execution_count": 16,
   "id": "0b09656a",
   "metadata": {},
   "outputs": [
    {
     "name": "stdout",
     "output_type": "stream",
     "text": [
      "10\n",
      "5\n",
      "2\n",
      "3\n",
      "1\n",
      "4\n",
      "2\n",
      "3\n",
      "4\n",
      "1\n",
      "7\n",
      "[5, 4, 4, 4, 4, 4, 4, 4, 7, 7]\n"
     ]
    }
   ],
   "source": [
    "N = int(input())\n",
    "\n",
    "n = int(input())\n",
    "num = []\n",
    "num.append(n)\n",
    "        \n",
    "for i in range(N-1):\n",
    "    s = int(input())\n",
    "    num.append(s)\n",
    "    for i in range(len(num)-1):\n",
    "        if num[i] < num[i+1]:\n",
    "            num[i] = num[i+1]\n",
    "            num[i+1] = num[i]\n",
    "        \n",
    "print(num)"
   ]
  },
  {
   "cell_type": "markdown",
   "id": "7e2c1e4e",
   "metadata": {},
   "source": [
    "### 주워온 풀이"
   ]
  },
  {
   "cell_type": "code",
   "execution_count": 18,
   "id": "ae10f878",
   "metadata": {},
   "outputs": [
    {
     "name": "stdout",
     "output_type": "stream",
     "text": [
      "10\n",
      "5\n",
      "2\n",
      "3\n",
      "1\n",
      "4\n",
      "2\n",
      "3\n",
      "5\n",
      "1\n",
      "7\n",
      "1\n",
      "1\n",
      "2\n",
      "2\n",
      "3\n",
      "3\n",
      "4\n",
      "5\n",
      "5\n",
      "7\n"
     ]
    }
   ],
   "source": [
    "n = int(input())\n",
    "num_list = [0] * 10001\n",
    "\n",
    "for _ in range(n):\n",
    "    num_list[int(input())] += 1\n",
    "\n",
    "for i in range(10001):\n",
    "    if num_list[i] != 0:\n",
    "        for j in range(num_list[i]):\n",
    "            print(i)"
   ]
  },
  {
   "cell_type": "code",
   "execution_count": null,
   "id": "c1082aad",
   "metadata": {},
   "outputs": [],
   "source": []
  },
  {
   "cell_type": "code",
   "execution_count": null,
   "id": "02d372c5",
   "metadata": {},
   "outputs": [],
   "source": []
  }
 ],
 "metadata": {
  "kernelspec": {
   "display_name": "Python 3 (ipykernel)",
   "language": "python",
   "name": "python3"
  },
  "language_info": {
   "codemirror_mode": {
    "name": "ipython",
    "version": 3
   },
   "file_extension": ".py",
   "mimetype": "text/x-python",
   "name": "python",
   "nbconvert_exporter": "python",
   "pygments_lexer": "ipython3",
   "version": "3.9.12"
  }
 },
 "nbformat": 4,
 "nbformat_minor": 5
}
