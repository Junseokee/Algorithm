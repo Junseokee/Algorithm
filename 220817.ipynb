{
  "nbformat": 4,
  "nbformat_minor": 0,
  "metadata": {
    "colab": {
      "name": "220817.ipynb",
      "provenance": [],
      "collapsed_sections": [],
      "authorship_tag": "ABX9TyPgUA/fKzug62k1ILKyowx4",
      "include_colab_link": true
    },
    "kernelspec": {
      "name": "python3",
      "display_name": "Python 3"
    },
    "language_info": {
      "name": "python"
    }
  },
  "cells": [
    {
      "cell_type": "markdown",
      "metadata": {
        "id": "view-in-github",
        "colab_type": "text"
      },
      "source": [
        "<a href=\"https://colab.research.google.com/github/Junseokee/Algorithm/blob/main/220817.ipynb\" target=\"_parent\"><img src=\"https://colab.research.google.com/assets/colab-badge.svg\" alt=\"Open In Colab\"/></a>"
      ]
    },
    {
      "cell_type": "markdown",
      "source": [
        "## 1157 단어공부\n",
        "문제\n",
        "알파벳 대소문자로 된 단어가 주어지면, 이 단어에서 가장 많이 사용된 알파벳이 무엇인지 알아내는 프로그램을 작성하시오. 단, 대문자와 소문자를 구분하지 않는다.\n",
        "\n",
        "입력\n",
        "첫째 줄에 알파벳 대소문자로 이루어진 단어가 주어진다. 주어지는 단어의 길이는 1,000,000을 넘지 않는다.\n",
        "\n",
        "출력\n",
        "첫째 줄에 이 단어에서 가장 많이 사용된 알파벳을 대문자로 출력한다. 단, 가장 많이 사용된 알파벳이 여러 개 존재하는 경우에는 ?를 출력한다."
      ],
      "metadata": {
        "id": "qREDx7Zvn1gJ"
      }
    },
    {
      "cell_type": "code",
      "source": [
        "word = input().upper()\n",
        "a= []\n",
        "b= []\n",
        "for i in range(len(word)):\n",
        "  t = word[i]\n",
        "  a.append(t)\n",
        "for i in a:\n",
        "  b.append(a.count(i))\n",
        "for i in b:\n",
        "\n",
        "    \n",
        "    \n",
        "    \n",
        "if count == 1:\n",
        "  print(a[c])\n",
        "else:\n",
        "  print('?')\n"
      ],
      "metadata": {
        "id": "KZ8Kus8bpAOc",
        "colab": {
          "base_uri": "https://localhost:8080/"
        },
        "outputId": "32e8b380-fcd9-4fa8-8d89-82d7a654ded8"
      },
      "execution_count": 60,
      "outputs": [
        {
          "output_type": "stream",
          "name": "stdout",
          "text": [
            "zza\n",
            "?\n"
          ]
        }
      ]
    },
    {
      "cell_type": "code",
      "source": [
        "c = 4\n",
        "print(word,count)"
      ],
      "metadata": {
        "colab": {
          "base_uri": "https://localhost:8080/"
        },
        "id": "eUhj0QljpBCw",
        "outputId": "0b1b50b8-1093-44fa-dd62-92c52a509ed2"
      },
      "execution_count": 61,
      "outputs": [
        {
          "output_type": "execute_result",
          "data": {
            "text/plain": [
              "[2, 2, 1]"
            ]
          },
          "metadata": {},
          "execution_count": 61
        }
      ]
    },
    {
      "cell_type": "code",
      "source": [
        "word = input().upper()\n",
        "lst = list(set(word))\n",
        "\n",
        "cnt = []\n",
        "for i in lst:\n",
        "  count = word.count\n",
        "  cnt.append(count(i))\n",
        "\n",
        "if cnt.count(max(cnt)) > 1:\n",
        "  print(\"?\")\n",
        "else:\n",
        "  print(lst[(cnt.index(max(cnt)))])"
      ],
      "metadata": {
        "colab": {
          "base_uri": "https://localhost:8080/"
        },
        "id": "1kKgQZ-rpBFz",
        "outputId": "7573387f-ddfa-4d16-ba0b-326b7b1b2864"
      },
      "execution_count": 67,
      "outputs": [
        {
          "output_type": "stream",
          "name": "stdout",
          "text": [
            "ZZa\n",
            "Z\n"
          ]
        }
      ]
    },
    {
      "cell_type": "markdown",
      "source": [
        "## 1152 단어의 개수\n",
        "문제\n",
        "영어 대소문자와 공백으로 이루어진 문자열이 주어진다. 이 문자열에는 몇 개의 단어가 있을까? 이를 구하는 프로그램을 작성하시오. 단, 한 단어가 여러 번 등장하면 등장한 횟수만큼 모두 세어야 한다.\n",
        "\n",
        "입력\n",
        "첫 줄에 영어 대소문자와 공백으로 이루어진 문자열이 주어진다. 이 문자열의 길이는 1,000,000을 넘지 않는다. 단어는 공백 한 개로 구분되며, 공백이 연속해서 나오는 경우는 없다. 또한 문자열은 공백으로 시작하거나 끝날 수 있다.\n",
        "\n",
        "출력\n",
        "첫째 줄에 단어의 개수를 출력한다."
      ],
      "metadata": {
        "id": "XEZ8YVKNpBI1"
      }
    },
    {
      "cell_type": "code",
      "source": [
        "word = input()\n",
        "lst = word.split(\" \")\n",
        "print(len(lst))"
      ],
      "metadata": {
        "colab": {
          "base_uri": "https://localhost:8080/"
        },
        "id": "jt2bVuiepBL7",
        "outputId": "beae70b9-c5c1-473e-d172-e5a2085da303"
      },
      "execution_count": 71,
      "outputs": [
        {
          "output_type": "stream",
          "name": "stdout",
          "text": [
            " The first character is a blank\n",
            "1\n"
          ]
        }
      ]
    },
    {
      "cell_type": "code",
      "source": [
        "len(input().split())\n",
        "print(len(a))"
      ],
      "metadata": {
        "colab": {
          "base_uri": "https://localhost:8080/"
        },
        "id": "WlRybXSPpBOa",
        "outputId": "60e276f7-0fb0-4bba-ba93-67f2d3302505"
      },
      "execution_count": 79,
      "outputs": [
        {
          "output_type": "stream",
          "name": "stdout",
          "text": [
            " The first character is a blank\n",
            "6\n"
          ]
        }
      ]
    },
    {
      "cell_type": "code",
      "source": [
        "word"
      ],
      "metadata": {
        "colab": {
          "base_uri": "https://localhost:8080/",
          "height": 35
        },
        "id": "3XAUGMtmpBRc",
        "outputId": "e311099b-39ef-453f-8ff3-74d95b0e60b8"
      },
      "execution_count": 73,
      "outputs": [
        {
          "output_type": "execute_result",
          "data": {
            "text/plain": [
              "' The first character is a blank'"
            ],
            "application/vnd.google.colaboratory.intrinsic+json": {
              "type": "string"
            }
          },
          "metadata": {},
          "execution_count": 73
        }
      ]
    },
    {
      "cell_type": "code",
      "source": [
        "print(len(input().split()))"
      ],
      "metadata": {
        "id": "Ge3prQo8pBUw"
      },
      "execution_count": null,
      "outputs": []
    },
    {
      "cell_type": "markdown",
      "source": [
        "## 2908 상수\n",
        "문제\n",
        "상근이의 동생 상수는 수학을 정말 못한다. 상수는 숫자를 읽는데 문제가 있다. 이렇게 수학을 못하는 상수를 위해서 상근이는 수의 크기를 비교하는 문제를 내주었다. 상근이는 세 자리 수 두 개를 칠판에 써주었다. 그 다음에 크기가 큰 수를 말해보라고 했다.\n",
        "\n",
        "상수는 수를 다른 사람과 다르게 거꾸로 읽는다. 예를 들어, 734와 893을 칠판에 적었다면, 상수는 이 수를 437과 398로 읽는다. 따라서, 상수는 두 수중 큰 수인 437을 큰 수라고 말할 것이다.\n",
        "\n",
        "두 수가 주어졌을 때, 상수의 대답을 출력하는 프로그램을 작성하시오.\n",
        "\n",
        "입력\n",
        "첫째 줄에 상근이가 칠판에 적은 두 수 A와 B가 주어진다. 두 수는 같지 않은 세 자리 수이며, 0이 포함되어 있지 않다.\n",
        "\n",
        "출력\n",
        "첫째 줄에 상수의 대답을 출력한다."
      ],
      "metadata": {
        "id": "FeYa1YzXpBX0"
      }
    },
    {
      "cell_type": "code",
      "source": [
        "a, b = input().split(\" \")\n"
      ],
      "metadata": {
        "colab": {
          "base_uri": "https://localhost:8080/"
        },
        "id": "TMJystcBpBas",
        "outputId": "35322e28-699f-4967-cac0-b3ddc38637c1"
      },
      "execution_count": 82,
      "outputs": [
        {
          "name": "stdout",
          "output_type": "stream",
          "text": [
            "734 893\n"
          ]
        }
      ]
    },
    {
      "cell_type": "code",
      "source": [
        "a_lst = [a[2],a[1],a[0]]\n",
        "a_lst.\n",
        "b_lst = [b[2],b[1],b[0]]\n",
        "b_lst"
      ],
      "metadata": {
        "colab": {
          "base_uri": "https://localhost:8080/"
        },
        "id": "q1N6EPd95KZ1",
        "outputId": "ae32516a-b530-4fb7-b537-7b645e880b9b"
      },
      "execution_count": 86,
      "outputs": [
        {
          "output_type": "execute_result",
          "data": {
            "text/plain": [
              "['3', '9', '8']"
            ]
          },
          "metadata": {},
          "execution_count": 86
        }
      ]
    },
    {
      "cell_type": "code",
      "source": [
        ""
      ],
      "metadata": {
        "id": "NToHua4Z5NG_"
      },
      "execution_count": null,
      "outputs": []
    }
  ]
}