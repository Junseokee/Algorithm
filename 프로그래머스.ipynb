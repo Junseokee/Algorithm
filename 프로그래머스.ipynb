{
  "nbformat": 4,
  "nbformat_minor": 0,
  "metadata": {
    "colab": {
      "provenance": [],
      "authorship_tag": "ABX9TyMEryviCMSJGZupT7xijQ5z",
      "include_colab_link": true
    },
    "kernelspec": {
      "name": "python3",
      "display_name": "Python 3"
    },
    "language_info": {
      "name": "python"
    }
  },
  "cells": [
    {
      "cell_type": "markdown",
      "metadata": {
        "id": "view-in-github",
        "colab_type": "text"
      },
      "source": [
        "<a href=\"https://colab.research.google.com/github/Junseokee/Algorithm/blob/main/%ED%94%84%EB%A1%9C%EA%B7%B8%EB%9E%98%EB%A8%B8%EC%8A%A4.ipynb\" target=\"_parent\"><img src=\"https://colab.research.google.com/assets/colab-badge.svg\" alt=\"Open In Colab\"/></a>"
      ]
    },
    {
      "cell_type": "markdown",
      "source": [
        "코딩테스트 꿀팁"
      ],
      "metadata": {
        "id": "vmclSjjg0yri"
      }
    },
    {
      "cell_type": "code",
      "execution_count": null,
      "metadata": {
        "id": "uRs9gzKXsqyf",
        "colab": {
          "base_uri": "https://localhost:8080/"
        },
        "outputId": "11921f04-48e3-43a9-b8c4-9400eeba1d8d"
      },
      "outputs": [
        {
          "output_type": "stream",
          "name": "stdout",
          "text": [
            "[34, 69, 568, 7, 6, 5, 4, 2, 1]\n",
            "[34, 69, 568, 7, 6, 5, 4, 2, 1]\n"
          ]
        }
      ],
      "source": [
        "# 리스트 거꾸로 출력하는 법 lst[::-1], reverse\n",
        "lst = [1,2,4,5,6,7,568,69,34]\n",
        "print(lst[::-1])\n",
        "lst.reverse()\n",
        "print(lst)"
      ]
    },
    {
      "cell_type": "code",
      "source": [
        "# 배열안에 특정 수 찾기\n",
        "def solution(array, n):\n",
        "    answer = array.count(n)\n",
        "    return answer"
      ],
      "metadata": {
        "id": "DfmqLMMl0pUa"
      },
      "execution_count": null,
      "outputs": []
    },
    {
      "cell_type": "code",
      "source": [
        "# 문자열에서 특정 문자 제거하기 \n",
        "def solution(my_string, letter):\n",
        "    my_string = my_string.replace(letter,'')\n",
        "    return my_string"
      ],
      "metadata": {
        "id": "gdPQ9Hsr1C6X"
      },
      "execution_count": null,
      "outputs": []
    },
    {
      "cell_type": "code",
      "source": [
        "# 문자열에서 join 함수 사용\n",
        "def solution(my_string, n):\n",
        "    s = []\n",
        "    for i in my_string:\n",
        "        s.append(i*n)\n",
        "    answer = ''.join(s)\n",
        "    return answer"
      ],
      "metadata": {
        "id": "t6iIu14n1KQ_"
      },
      "execution_count": null,
      "outputs": []
    },
    {
      "cell_type": "code",
      "source": [
        "# 버림함수\n",
        "import math\n",
        "print(math.floor(-128.59)) # 내림\n",
        "print(math.trunc(-128.59)) # 소수점 버림"
      ],
      "metadata": {
        "id": "qakbhnrKbQJ5",
        "colab": {
          "base_uri": "https://localhost:8080/"
        },
        "outputId": "fea7b61a-d568-49cb-fabd-02bb88fa1cb7"
      },
      "execution_count": null,
      "outputs": [
        {
          "output_type": "stream",
          "name": "stdout",
          "text": [
            "-129\n",
            "-128\n"
          ]
        }
      ]
    },
    {
      "cell_type": "code",
      "source": [
        "# 제곱근 구하는 방법\n",
        "print(math.sqrt(144))\n",
        "print(144**0.5)"
      ],
      "metadata": {
        "colab": {
          "base_uri": "https://localhost:8080/"
        },
        "id": "PpNPTzAJydjb",
        "outputId": "26a5664c-a9d6-494e-bf0f-5328b230cc73"
      },
      "execution_count": null,
      "outputs": [
        {
          "output_type": "stream",
          "name": "stdout",
          "text": [
            "12.0\n",
            "12.0\n"
          ]
        }
      ]
    },
    {
      "cell_type": "code",
      "source": [
        "# if문 간결하게 표현\n",
        "1 if (math.sqrt(104)).is_integer() else 2"
      ],
      "metadata": {
        "colab": {
          "base_uri": "https://localhost:8080/"
        },
        "id": "kb_bdH7Ey65g",
        "outputId": "32609012-455f-4397-9982-8cb6ebbca93f"
      },
      "execution_count": null,
      "outputs": [
        {
          "output_type": "execute_result",
          "data": {
            "text/plain": [
              "2"
            ]
          },
          "metadata": {},
          "execution_count": 36
        }
      ]
    },
    {
      "cell_type": "code",
      "source": [
        "# divmod(num1,num2) # num1을 num2 로 나눈 몫과 나머지를 출력하는 함수\n",
        "def solution(hp):\n",
        "    answer = 0\n",
        "    for ant in [5, 3, 1]:\n",
        "        d, hp = divmod(hp, ant)\n",
        "        answer += d\n",
        "    return answer"
      ],
      "metadata": {
        "id": "gAebjACRzbxv"
      },
      "execution_count": null,
      "outputs": []
    },
    {
      "cell_type": "code",
      "source": [
        "# 문자열에서 숫자인지 확인하는 함수\n",
        "def solution(my_string):\n",
        "    return sum(int(i) for i in my_string if i.isdigit())\n",
        "    \n",
        "a = '1awd120rj01089s'\n",
        "a[0].isdigit()"
      ],
      "metadata": {
        "colab": {
          "base_uri": "https://localhost:8080/"
        },
        "id": "mgIIaJIL4ILC",
        "outputId": "172e7e7a-eff6-4de4-e649-585fd58a822d"
      },
      "execution_count": null,
      "outputs": [
        {
          "output_type": "execute_result",
          "data": {
            "text/plain": [
              "True"
            ]
          },
          "metadata": {},
          "execution_count": 40
        }
      ]
    },
    {
      "cell_type": "code",
      "source": [
        "# 대소문자 판별 islower, isupper\n",
        "def solution(my_string):\n",
        "    answer = []\n",
        "    for i in my_string:\n",
        "        if i.islower():\n",
        "            answer.append(i.upper())\n",
        "        else: answer.append(i.lower())\n",
        "    return ''.join(answer)"
      ],
      "metadata": {
        "id": "iJyv6no54OqT"
      },
      "execution_count": null,
      "outputs": []
    },
    {
      "cell_type": "code",
      "source": [
        "10*8*6 / 27"
      ],
      "metadata": {
        "colab": {
          "base_uri": "https://localhost:8080/"
        },
        "id": "BZm4MWUS2NHm",
        "outputId": "1e672e1f-7e21-4cf4-ead1-b8aebff31dd4"
      },
      "execution_count": null,
      "outputs": [
        {
          "output_type": "execute_result",
          "data": {
            "text/plain": [
              "17.77777777777778"
            ]
          },
          "metadata": {},
          "execution_count": 2
        }
      ]
    },
    {
      "cell_type": "code",
      "source": [
        "# dict 사용\n",
        "def solution(age):\n",
        "    num = [i for i in str(age)]\n",
        "    answer = []\n",
        "    age_lst = {'0':'a','1':'b','2':'c','3':'d','4':'e',\n",
        "           '5':'f','6':'g','7':'h','8':'i','9':'j'}\n",
        "    for i in num:\n",
        "        if i in age_lst.keys():\n",
        "            answer.append(age_lst[i])\n",
        "\n",
        "    return ''.join(answer)"
      ],
      "metadata": {
        "id": "0q1eVUe62O-w"
      },
      "execution_count": null,
      "outputs": []
    },
    {
      "cell_type": "code",
      "source": [
        "# 피자 6조각을 똑같이 나눠먹기\n",
        "\n",
        "def solution(n):\n",
        "    answer = 1\n",
        "    while (answer*6) % n !=0:\n",
        "        answer +=1\n",
        "    return answer"
      ],
      "metadata": {
        "id": "grFXwF1xci8Y"
      },
      "execution_count": null,
      "outputs": []
    },
    {
      "cell_type": "code",
      "source": [
        "# 문자열 인덱스 변경\n",
        "def solution(my_string, num1, num2):\n",
        "    s = list(my_string)\n",
        "    s[num1],s[num2] = s[num2],s[num1]\n",
        "    return ''.join(s)"
      ],
      "metadata": {
        "id": "YQtEn0NdfsUg"
      },
      "execution_count": null,
      "outputs": []
    },
    {
      "cell_type": "code",
      "source": [
        "# 문자열안의 특정 문자 갯수 세기\n",
        "def solution(order):\n",
        "    answer = 0\n",
        "    order = str(order)\n",
        "    return order.count('3') + order.count('6') + order.count('9')"
      ],
      "metadata": {
        "id": "Kx5lA6-v2_BS"
      },
      "execution_count": null,
      "outputs": []
    },
    {
      "cell_type": "code",
      "source": [
        "# 전부 소문자로 바꾸고 정렬\n",
        "def solution(my_string):\n",
        "    return ''.join(sorted(my_string.lower()))"
      ],
      "metadata": {
        "id": "dt1wUff72-_g"
      },
      "execution_count": null,
      "outputs": []
    },
    {
      "cell_type": "code",
      "source": [
        "n = 10\n",
        "m = 10\n",
        "while n:\n",
        "  print(m%n)\n",
        "  n = n-1"
      ],
      "metadata": {
        "colab": {
          "base_uri": "https://localhost:8080/"
        },
        "id": "HZWFVAEY2-6e",
        "outputId": "8ee08854-867a-496b-b41a-5446fd8cf1cf"
      },
      "execution_count": 4,
      "outputs": [
        {
          "output_type": "stream",
          "name": "stdout",
          "text": [
            "0\n",
            "1\n",
            "2\n",
            "3\n",
            "4\n",
            "0\n",
            "2\n",
            "1\n",
            "0\n",
            "0\n"
          ]
        }
      ]
    },
    {
      "cell_type": "code",
      "source": [
        "# 합성수(약수가 3개 이상) 갯수 찾기\n",
        "def solution(n):\n",
        "    output = 0\n",
        "    for i in range(4, n + 1):\n",
        "        for j in range(2, int(i ** 0.5) + 1):\n",
        "            if i % j == 0:\n",
        "                output += 1\n",
        "                break\n",
        "    return output"
      ],
      "metadata": {
        "id": "Zxi_eSFF2-4Q"
      },
      "execution_count": null,
      "outputs": []
    }
  ]
}