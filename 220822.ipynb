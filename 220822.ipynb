{
  "nbformat": 4,
  "nbformat_minor": 0,
  "metadata": {
    "colab": {
      "name": "220822.ipynb",
      "provenance": [],
      "authorship_tag": "ABX9TyMhFjLytxJ9fnhbzEMI+a7Y",
      "include_colab_link": true
    },
    "kernelspec": {
      "name": "python3",
      "display_name": "Python 3"
    },
    "language_info": {
      "name": "python"
    }
  },
  "cells": [
    {
      "cell_type": "markdown",
      "metadata": {
        "id": "view-in-github",
        "colab_type": "text"
      },
      "source": [
        "<a href=\"https://colab.research.google.com/github/Junseokee/Algorithm/blob/main/220822.ipynb\" target=\"_parent\"><img src=\"https://colab.research.google.com/assets/colab-badge.svg\" alt=\"Open In Colab\"/></a>"
      ]
    },
    {
      "cell_type": "markdown",
      "source": [
        "## 2941 크로아티아 알파벳\n",
        "\n",
        "문제\n",
        "예전에는 운영체제에서 크로아티아 알파벳을 입력할 수가 없었다. 따라서, 다음과 같이 크로아티아 알파벳을 변경해서 입력했다.\n",
        "\n",
        "크로아티아 알파벳\t변경\n",
        "č\tc=\n",
        "ć\tc-\n",
        "dž\tdz=\n",
        "đ\td-\n",
        "lj\tlj\n",
        "nj\tnj\n",
        "š\ts=\n",
        "ž\tz=\n",
        "예를 들어, ljes=njak은 크로아티아 알파벳 6개(lj, e, š, nj, a, k)로 이루어져 있다. 단어가 주어졌을 때, 몇 개의 크로아티아 알파벳으로 이루어져 있는지 출력한다.\n",
        "\n",
        "dž는 무조건 하나의 알파벳으로 쓰이고, d와 ž가 분리된 것으로 보지 않는다. lj와 nj도 마찬가지이다. 위 목록에 없는 알파벳은 한 글자씩 센다.\n",
        "\n",
        "입력\n",
        "첫째 줄에 최대 100글자의 단어가 주어진다. 알파벳 소문자와 '-', '='로만 이루어져 있다.\n",
        "\n",
        "단어는 크로아티아 알파벳으로 이루어져 있다. 문제 설명의 표에 나와있는 알파벳은 변경된 형태로 입력된다.\n",
        "\n",
        "출력\n",
        "입력으로 주어진 단어가 몇 개의 크로아티아 알파벳으로 이루어져 있는지 출력한다."
      ],
      "metadata": {
        "id": "MCmNXKifKXJq"
      }
    },
    {
      "cell_type": "code",
      "execution_count": 1,
      "metadata": {
        "colab": {
          "base_uri": "https://localhost:8080/"
        },
        "id": "XZdrkvFZJ66v",
        "outputId": "2c7de846-2c48-4276-8805-bda1ca4d99d2"
      },
      "outputs": [
        {
          "name": "stdout",
          "output_type": "stream",
          "text": [
            "ljes=njak\n"
          ]
        }
      ],
      "source": [
        "word = input()\n",
        "\n"
      ]
    },
    {
      "cell_type": "code",
      "source": [
        "mateo = []\n",
        "Luka = [\"c=\",'c=','dz=','d-','lj','nj','s=','z=']\n",
        "\n",
        "for i in Luka:\n",
        "  if i in word:\n",
        "    print(i)\n",
        "    mateo.append([i])\n",
        "    print(mateo)\n"
      ],
      "metadata": {
        "colab": {
          "base_uri": "https://localhost:8080/"
        },
        "outputId": "1dc84b99-40d0-45e2-c8fd-e2c51dcc1bd7",
        "id": "XrgRaL6xXwuw"
      },
      "execution_count": 2,
      "outputs": [
        {
          "output_type": "stream",
          "name": "stdout",
          "text": [
            "lj\n",
            "[['lj']]\n",
            "nj\n",
            "[['lj'], ['nj']]\n",
            "s=\n",
            "[['lj'], ['nj'], ['s=']]\n"
          ]
        }
      ]
    },
    {
      "cell_type": "code",
      "source": [
        "for i in range(len(word)):\n",
        "  mateo.append(word[i])\n",
        "print(mateo)"
      ],
      "metadata": {
        "colab": {
          "base_uri": "https://localhost:8080/"
        },
        "outputId": "1aed427f-f958-412a-b1ab-aad09b45c0bb",
        "id": "-FKTeHlWXwuy"
      },
      "execution_count": null,
      "outputs": [
        {
          "output_type": "stream",
          "name": "stdout",
          "text": [
            "['l', 'j', 'e', 's', '=', 'n', 'j', 'a', 'k']\n"
          ]
        }
      ]
    },
    {
      "cell_type": "code",
      "source": [
        "string = ''"
      ],
      "metadata": {
        "id": "iJfr8pZaZl3K"
      },
      "execution_count": 16,
      "outputs": []
    },
    {
      "cell_type": "code",
      "source": [
        "for i in mateo:\n",
        "  string = ''\n",
        "  string = \"\".join(i)\n",
        "  if string in word:\n",
        "    word = word.replace(string,'')\n",
        "    print(string, word)"
      ],
      "metadata": {
        "colab": {
          "base_uri": "https://localhost:8080/"
        },
        "id": "rzDvltrSXwux",
        "outputId": "ef2501bd-2ae6-42de-c2a5-d95bd9666928"
      },
      "execution_count": 20,
      "outputs": [
        {
          "output_type": "stream",
          "name": "stdout",
          "text": [
            "lj es=njak\n",
            "nj es=ak\n",
            "s= eak\n"
          ]
        }
      ]
    },
    {
      "cell_type": "code",
      "source": [
        "if string in word:\n",
        "  print('a')\n"
      ],
      "metadata": {
        "colab": {
          "base_uri": "https://localhost:8080/"
        },
        "outputId": "29e5ba4f-f75c-4c77-c75b-6d4cb7c85275",
        "id": "BdaTM0zyXwux"
      },
      "execution_count": 13,
      "outputs": [
        {
          "output_type": "stream",
          "name": "stdout",
          "text": [
            "a\n"
          ]
        }
      ]
    },
    {
      "cell_type": "code",
      "source": [
        "word = input()\n",
        "Luka = [\"c=\",'c-','dz=','d-','lj','nj','s=','z=']\n",
        "\n",
        "for i in Luka:\n",
        "  string = ''\n",
        "  string = \"\".join(i)\n",
        "  if string in word:\n",
        "    word = word.replace(string,' ')\n",
        "print(len(word))"
      ],
      "metadata": {
        "colab": {
          "base_uri": "https://localhost:8080/"
        },
        "outputId": "7912acd7-25c6-4873-d7d9-9b32954a473b",
        "id": "ECpKARERXwux"
      },
      "execution_count": 36,
      "outputs": [
        {
          "output_type": "stream",
          "name": "stdout",
          "text": [
            "c==c\n",
            "3\n"
          ]
        }
      ]
    },
    {
      "cell_type": "markdown",
      "source": [
        "## 1316 그룹단어체커\n",
        "문제\n",
        "그룹 단어란 단어에 존재하는 모든 문자에 대해서, 각 문자가 연속해서 나타나는 경우만을 말한다. 예를 들면, ccazzzzbb는 c, a, z, b가 모두 연속해서 나타나고, kin도 k, i, n이 연속해서 나타나기 때문에 그룹 단어이지만, aabbbccb는 b가 떨어져서 나타나기 때문에 그룹 단어가 아니다.\n",
        "\n",
        "단어 N개를 입력으로 받아 그룹 단어의 개수를 출력하는 프로그램을 작성하시오.\n",
        "\n",
        "입력\n",
        "첫째 줄에 단어의 개수 N이 들어온다. N은 100보다 작거나 같은 자연수이다. 둘째 줄부터 N개의 줄에 단어가 들어온다. 단어는 알파벳 소문자로만 되어있고 중복되지 않으며, 길이는 최대 100이다.\n",
        "\n",
        "출력\n",
        "첫째 줄에 그룹 단어의 개수를 출력한다."
      ],
      "metadata": {
        "id": "S6uzTawSaH2-"
      }
    },
    {
      "cell_type": "code",
      "source": [
        "N = int(input())\n",
        "\n",
        "for i in range(N):\n",
        "  word = input()\n",
        "  for j in range(len(word-1)):\n",
        "    if word[j] == word[j-1]\n",
        "    \n",
        "  # word_lst = list(dord.split(\" \"))\n",
        "  # print(word_lst)"
      ],
      "metadata": {
        "colab": {
          "base_uri": "https://localhost:8080/"
        },
        "id": "hKj57HqccYqp",
        "outputId": "99a30a07-15b1-4dab-ff23-adf09ac22eae"
      },
      "execution_count": 50,
      "outputs": [
        {
          "output_type": "stream",
          "name": "stdout",
          "text": [
            "3\n",
            "happy\n",
            " appy\n",
            "h ppy\n",
            "ha  y\n",
            "ha  y\n",
            "happ \n",
            "new\n",
            " ew\n",
            "n w\n",
            "ne \n",
            "year\n",
            " ear\n",
            "y ar\n",
            "ye r\n",
            "yea \n"
          ]
        }
      ]
    },
    {
      "cell_type": "code",
      "source": [
        "for i in word:\n",
        "  dord = word.replace(i,\" \")\n",
        "  print(dord)"
      ],
      "metadata": {
        "colab": {
          "base_uri": "https://localhost:8080/"
        },
        "id": "vEtJ2FW0dA6b",
        "outputId": "73758f21-d78b-493f-ddc7-1926b938df85"
      },
      "execution_count": 40,
      "outputs": [
        {
          "output_type": "stream",
          "name": "stdout",
          "text": [
            " bc bc\n",
            "a ca c\n",
            "ab ab \n",
            " bc bc\n",
            "a ca c\n",
            "ab ab \n"
          ]
        }
      ]
    },
    {
      "cell_type": "code",
      "source": [
        "n = 0\n",
        "for i in range(int(input())):\n",
        "    word = input()\n",
        "    if list(word) == sorted(word, key=word.find): #x.find = 먼저등장하는게 우선순위\n",
        "        n+=1\n",
        "print(n)"
      ],
      "metadata": {
        "id": "_ne9vsyi0F5X"
      },
      "execution_count": null,
      "outputs": []
    },
    {
      "cell_type": "code",
      "source": [
        "word = 'aacdefaaa'\n",
        "a = list(word)\n",
        "b = sorted(word,key=word.find) #x.find = 먼저등장하는게 우선순위\n",
        "print(b)"
      ],
      "metadata": {
        "colab": {
          "base_uri": "https://localhost:8080/"
        },
        "id": "dPoJNUg5dA-p",
        "outputId": "cca1df4c-4177-450d-8e38-f56c8d8ad87e"
      },
      "execution_count": 59,
      "outputs": [
        {
          "output_type": "stream",
          "name": "stdout",
          "text": [
            "['a', 'a', 'a', 'a', 'a', 'c', 'd', 'e', 'f']\n"
          ]
        }
      ]
    },
    {
      "cell_type": "code",
      "source": [
        "# sorted() # 정렬함수 이터러블 데이터를 정렬된 리스트로 반환 (옵션 key=입력값을 기준으로 정렬, reverse=True 내림차순)\n",
        "# 리스트.sort() => 본체리스트 정리, sorted는 새로운 리스트 반환\n",
        "sorted(word)"
      ],
      "metadata": {
        "colab": {
          "base_uri": "https://localhost:8080/"
        },
        "id": "WBxt91jRdBCX",
        "outputId": "3443b4e9-a4c3-46f8-eecb-e70698513fa8"
      },
      "execution_count": 58,
      "outputs": [
        {
          "output_type": "execute_result",
          "data": {
            "text/plain": [
              "['a', 'a', 'a', 'a', 'a', 'c', 'd', 'e', 'f']"
            ]
          },
          "metadata": {},
          "execution_count": 58
        }
      ]
    },
    {
      "cell_type": "markdown",
      "source": [
        "## 1712 손익분기점\n",
        "문제\n",
        "월드전자는 노트북을 제조하고 판매하는 회사이다. 노트북 판매 대수에 상관없이 매년 임대료, 재산세, 보험료, 급여 등 A만원의 고정 비용이 들며, 한 대의 노트북을 생산하는 데에는 재료비와 인건비 등 총 B만원의 가변 비용이 든다고 한다.\n",
        "\n",
        "예를 들어 A=1,000, B=70이라고 하자. 이 경우 노트북을 한 대 생산하는 데는 총 1,070만원이 들며, 열 대 생산하는 데는 총 1,700만원이 든다.\n",
        "\n",
        "노트북 가격이 C만원으로 책정되었다고 한다. 일반적으로 생산 대수를 늘려 가다 보면 어느 순간 총 수입(판매비용)이 총 비용(=고정비용+가변비용)보다 많아지게 된다. 최초로 총 수입이 총 비용보다 많아져 이익이 발생하는 지점을 손익분기점(BREAK-EVEN POINT)이라고 한다.\n",
        "\n",
        "A, B, C가 주어졌을 때, 손익분기점을 구하는 프로그램을 작성하시오.\n",
        "\n",
        "입력\n",
        "첫째 줄에 A, B, C가 빈 칸을 사이에 두고 순서대로 주어진다. A, B, C는 21억 이하의 자연수이다.\n",
        "\n",
        "출력\n",
        "첫 번째 줄에 손익분기점 즉 최초로 이익이 발생하는 판매량을 출력한다. 손익분기점이 존재하지 않으면 -1을 출력한다."
      ],
      "metadata": {
        "id": "g2f2RgO8zqFK"
      }
    },
    {
      "cell_type": "code",
      "source": [
        "A, B, C = map(int,input().split(\" \"))"
      ],
      "metadata": {
        "colab": {
          "base_uri": "https://localhost:8080/"
        },
        "id": "Uqsihgkf3Z6-",
        "outputId": "070776f5-bc5a-49b7-e9e2-4f070b297c69"
      },
      "execution_count": 76,
      "outputs": [
        {
          "name": "stdout",
          "output_type": "stream",
          "text": [
            "2100000000 9 10\n"
          ]
        }
      ]
    },
    {
      "cell_type": "code",
      "source": [
        "A, B, C = map(int,input().split(\" \"))\n",
        "if C>B:\n",
        "  aws = int(A/(C-B)+1)\n",
        "  print(aws)\n",
        "else:\n",
        "  print(-1)"
      ],
      "metadata": {
        "colab": {
          "base_uri": "https://localhost:8080/"
        },
        "id": "Sdo8IxE43ahU",
        "outputId": "a02b80c3-172a-4e12-a8d5-6edaaf3ff614"
      },
      "execution_count": 82,
      "outputs": [
        {
          "output_type": "stream",
          "name": "stdout",
          "text": [
            "1000 70 170\n",
            "11\n"
          ]
        }
      ]
    },
    {
      "cell_type": "code",
      "source": [
        "(x*C) > A+(B*x)\n",
        "x = A/C-B\n",
        "print(x)"
      ],
      "metadata": {
        "colab": {
          "base_uri": "https://localhost:8080/",
          "height": 211
        },
        "id": "59YW872R3bau",
        "outputId": "ac15ea8b-8ce4-4071-91e6-bcdbbfcbdcb7"
      },
      "execution_count": 79,
      "outputs": [
        {
          "output_type": "error",
          "ename": "NameError",
          "evalue": "ignored",
          "traceback": [
            "\u001b[0;31m---------------------------------------------------------------------------\u001b[0m",
            "\u001b[0;31mNameError\u001b[0m                                 Traceback (most recent call last)",
            "\u001b[0;32m<ipython-input-79-66864f7dd935>\u001b[0m in \u001b[0;36m<module>\u001b[0;34m\u001b[0m\n\u001b[0;32m----> 1\u001b[0;31m \u001b[0;34m(\u001b[0m\u001b[0mx\u001b[0m\u001b[0;34m*\u001b[0m\u001b[0mC\u001b[0m\u001b[0;34m)\u001b[0m \u001b[0;34m>\u001b[0m \u001b[0mA\u001b[0m\u001b[0;34m+\u001b[0m\u001b[0;34m(\u001b[0m\u001b[0mB\u001b[0m\u001b[0;34m*\u001b[0m\u001b[0mx\u001b[0m\u001b[0;34m)\u001b[0m\u001b[0;34m\u001b[0m\u001b[0;34m\u001b[0m\u001b[0m\n\u001b[0m\u001b[1;32m      2\u001b[0m \u001b[0mx\u001b[0m \u001b[0;34m=\u001b[0m \u001b[0mA\u001b[0m\u001b[0;34m/\u001b[0m\u001b[0mC\u001b[0m\u001b[0;34m-\u001b[0m\u001b[0mB\u001b[0m\u001b[0;34m\u001b[0m\u001b[0;34m\u001b[0m\u001b[0m\n\u001b[1;32m      3\u001b[0m \u001b[0mprint\u001b[0m\u001b[0;34m(\u001b[0m\u001b[0mx\u001b[0m\u001b[0;34m)\u001b[0m\u001b[0;34m\u001b[0m\u001b[0;34m\u001b[0m\u001b[0m\n",
            "\u001b[0;31mNameError\u001b[0m: name 'x' is not defined"
          ]
        }
      ]
    },
    {
      "cell_type": "code",
      "source": [
        "a = int(1.8)\n",
        "a"
      ],
      "metadata": {
        "colab": {
          "base_uri": "https://localhost:8080/"
        },
        "id": "rK-NN9_L3bdc",
        "outputId": "08b7a8a6-a366-4631-85a2-3085a2074341"
      },
      "execution_count": 83,
      "outputs": [
        {
          "output_type": "execute_result",
          "data": {
            "text/plain": [
              "1"
            ]
          },
          "metadata": {},
          "execution_count": 83
        }
      ]
    },
    {
      "cell_type": "markdown",
      "source": [
        "## 2292 벌집\n",
        "위의 그림과 같이 육각형으로 이루어진 벌집이 있다. 그림에서 보는 바와 같이 중앙의 방 1부터 시작해서 이웃하는 방에 돌아가면서 1씩 증가하는 번호를 주소로 매길 수 있다. 숫자 N이 주어졌을 때, 벌집의 중앙 1에서 N번 방까지 최소 개수의 방을 지나서 갈 때 몇 개의 방을 지나가는지(시작과 끝을 포함하여)를 계산하는 프로그램을 작성하시오. 예를 들면, 13까지는 3개, 58까지는 5개를 지난다.\n",
        "\n",
        "입력\n",
        "첫째 줄에 N(1 ≤ N ≤ 1,000,000,000)이 주어진다.\n",
        "\n",
        "출력\n",
        "입력으로 주어진 방까지 최소 개수의 방을 지나서 갈 때 몇 개의 방을 지나는지 출력한다."
      ],
      "metadata": {
        "id": "4g21PLYD3bgA"
      }
    },
    {
      "cell_type": "code",
      "source": [
        "N = int(input())\n",
        "a = N/6\n",
        "print(a)\n",
        "1 + 6\n",
        "7 + 12\n",
        "19 + 18\n",
        "37 + 24\n",
        "61 + 30\n",
        "91\n"
      ],
      "metadata": {
        "colab": {
          "base_uri": "https://localhost:8080/"
        },
        "id": "pJYbYyvG3bih",
        "outputId": "ec9a8a48-80a8-4ef6-df71-08bf72769df4"
      },
      "execution_count": 87,
      "outputs": [
        {
          "output_type": "stream",
          "name": "stdout",
          "text": [
            "58\n",
            "10\n"
          ]
        }
      ]
    },
    {
      "cell_type": "code",
      "source": [
        "N = int(input())\n",
        "a = 0 \n",
        "b = 1\n",
        "while True:\n",
        "  b += 6*a\n",
        "  a += 1\n",
        "  if b >=N:\n",
        "    break\n",
        "print(a)"
      ],
      "metadata": {
        "colab": {
          "base_uri": "https://localhost:8080/"
        },
        "id": "KxbnGCjN3bkx",
        "outputId": "c5cc19a1-b8cb-4d8a-dc33-136fd74431b9"
      },
      "execution_count": 150,
      "outputs": [
        {
          "output_type": "stream",
          "name": "stdout",
          "text": [
            "7\n",
            "2\n"
          ]
        }
      ]
    },
    {
      "cell_type": "code",
      "source": [
        "N = int(input())\n",
        "\n",
        "a = 1\n",
        "b = 1\n",
        "while N>a:\n",
        "  a += 6*b\n",
        "  b += 1\n",
        "print(b)"
      ],
      "metadata": {
        "colab": {
          "base_uri": "https://localhost:8080/"
        },
        "id": "tPthc26vAryn",
        "outputId": "3ad66979-108a-43db-c524-c27d66b8ea65"
      },
      "execution_count": 154,
      "outputs": [
        {
          "output_type": "stream",
          "name": "stdout",
          "text": [
            "6\n",
            "2\n"
          ]
        }
      ]
    },
    {
      "cell_type": "code",
      "source": [
        ""
      ],
      "metadata": {
        "id": "GDOWaop_FZNb"
      },
      "execution_count": null,
      "outputs": []
    }
  ]
}