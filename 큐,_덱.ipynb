{
  "nbformat": 4,
  "nbformat_minor": 0,
  "metadata": {
    "colab": {
      "provenance": [],
      "authorship_tag": "ABX9TyOX8aRFlo2LIqeBWBv80GmK",
      "include_colab_link": true
    },
    "kernelspec": {
      "name": "python3",
      "display_name": "Python 3"
    },
    "language_info": {
      "name": "python"
    }
  },
  "cells": [
    {
      "cell_type": "markdown",
      "metadata": {
        "id": "view-in-github",
        "colab_type": "text"
      },
      "source": [
        "<a href=\"https://colab.research.google.com/github/Junseokee/Algorithm/blob/main/%ED%81%90%2C_%EB%8D%B1.ipynb\" target=\"_parent\"><img src=\"https://colab.research.google.com/assets/colab-badge.svg\" alt=\"Open In Colab\"/></a>"
      ]
    },
    {
      "cell_type": "markdown",
      "source": [
        "## 18528 큐 2\n",
        "\n",
        "#### 문제\n",
        "정수를 저장하는 큐를 구현한 다음, 입력으로 주어지는 명령을 처리하는 프로그램을 작성하시오.\n",
        "\n",
        "명령은 총 여섯 가지이다.\n",
        "\n",
        "- push X: 정수 X를 큐에 넣는 연산이다.\n",
        "- pop: 큐에서 가장 앞에 있는 정수를 빼고, 그 수를 출력한다. 만약 큐에 들어있는 정수가 없는 경우에는 -1을 출력한다.\n",
        "- size: 큐에 들어있는 정수의 개수를 출력한다.\n",
        "- empty: 큐가 비어있으면 1, 아니면 0을 출력한다.\n",
        "- front: 큐의 가장 앞에 있는 정수를 출력한다. 만약 큐에 들어있는 정수가 없는 경우에는 -1을 출력한다.\n",
        "- back: 큐의 가장 뒤에 있는 정수를 출력한다. 만약 큐에 들어있는 정수가 없는 경우에는 -1을 출력한다.\n",
        "#### 입력\n",
        "첫째 줄에 주어지는 명령의 수 N (1 ≤ N ≤ 2,000,000)이 주어진다. 둘째 줄부터 N개의 줄에는 명령이 하나씩 주어진다. 주어지는 정수는 1보다 크거나 같고, 100,000보다 작거나 같다. 문제에 나와있지 않은 명령이 주어지는 경우는 없다.\n",
        "\n",
        "#### 출력\n",
        "출력해야하는 명령이 주어질 때마다, 한 줄에 하나씩 출력한다."
      ],
      "metadata": {
        "id": "lcwJEuPqwWC2"
      }
    },
    {
      "cell_type": "code",
      "source": [
        "from collections import deque\n",
        "\n",
        "import sys\n",
        "n = int(sys.stdin.readline())\n",
        "queue = deque()\n",
        "stack=[]\n",
        "for i in range(n):\n",
        "    command = sys.stdin.readline().split()\n",
        "    \n",
        "    if command[0] == 'push':\n",
        "      queue.append(command[1])\n",
        "    elif command[0] == 'pop':\n",
        "      if len(queue) == 0:\n",
        "        print(-1)\n",
        "      else:\n",
        "        print(queue.popleft())\n",
        "    elif command[0] == 'size':\n",
        "      print(len(queue))\n",
        "    elif command[0] == 'empty':\n",
        "      if len(queue) == 0:\n",
        "        print(1)\n",
        "      else:\n",
        "        print(0)\n",
        "    elif command[0] == \"front\":\n",
        "      if len(queue) == 0:\n",
        "        print(-1)\n",
        "      else:\n",
        "        print(queue[0])\n",
        "    elif command[0] == \"back\":\n",
        "      if len(queue) == 0:\n",
        "        print(-1)\n",
        "      else:\n",
        "        print(queue[-1])"
      ],
      "metadata": {
        "colab": {
          "base_uri": "https://localhost:8080/"
        },
        "id": "qW2-NwrAZbYE",
        "outputId": "7453b421-96b4-47bd-b576-5c2a165e9696"
      },
      "execution_count": null,
      "outputs": [
        {
          "output_type": "execute_result",
          "data": {
            "text/plain": [
              "[1, 2, 3, 4]"
            ]
          },
          "metadata": {},
          "execution_count": 5
        }
      ]
    },
    {
      "cell_type": "code",
      "source": [
        "from collections import deque\n",
        "queue = deque()\n",
        "\n",
        "stack=[]\n",
        "for i in range(15):\n",
        "    command = input().split()\n",
        "\n",
        "    if command[0] == 'push':\n",
        "      queue.append(command[1])\n",
        "    elif command[0] == 'pop':\n",
        "      if len(queue) == 0:\n",
        "        print(-1)\n",
        "      else:\n",
        "        print(queue.popleft())\n",
        "    elif command[0] == 'size':\n",
        "      print(len(queue))\n",
        "    elif command[0] == 'empty':\n",
        "      if len(queue) == 0:\n",
        "        print(1)\n",
        "      else:\n",
        "        print(0)\n",
        "    elif command[0] == \"front\":\n",
        "      if len(queue) == 0:\n",
        "        print(-1)\n",
        "      else:\n",
        "        print(queue[0])\n",
        "    elif command[0] == \"back\":\n",
        "      if len(queue) == 0:\n",
        "        print(-1)\n",
        "      else:\n",
        "        print(queue[-1])"
      ],
      "metadata": {
        "colab": {
          "base_uri": "https://localhost:8080/"
        },
        "id": "HD_nZrbCZdG4",
        "outputId": "73cdcb1d-4ffb-4228-832c-b035a6af09a9"
      },
      "execution_count": null,
      "outputs": [
        {
          "output_type": "stream",
          "name": "stdout",
          "text": [
            "push 1\n",
            "push 2\n",
            "front\n",
            "1\n",
            "back\n",
            "2\n",
            "size\n",
            "2\n",
            "empty\n",
            "0\n",
            "pop\n",
            "1\n",
            "pop\n",
            "2\n",
            "pop\n",
            "-1\n",
            "size\n",
            "0\n",
            "empty\n",
            "1\n",
            "pop\n",
            "-1\n",
            "push 3\n",
            "empty\n",
            "0\n",
            "front\n",
            "3\n"
          ]
        }
      ]
    },
    {
      "cell_type": "markdown",
      "source": [
        "## 2164 카드2\n",
        "\n",
        "#### 문제\n",
        "N장의 카드가 있다. 각각의 카드는 차례로 1부터 N까지의 번호가 붙어 있으며, 1번 카드가 제일 위에, N번 카드가 제일 아래인 상태로 순서대로 카드가 놓여 있다.\n",
        "\n",
        "이제 다음과 같은 동작을 카드가 한 장 남을 때까지 반복하게 된다. 우선, 제일 위에 있는 카드를 바닥에 버린다. 그 다음, 제일 위에 있는 카드를 제일 아래에 있는 카드 밑으로 옮긴다.\n",
        "\n",
        "예를 들어 N=4인 경우를 생각해 보자. 카드는 제일 위에서부터 1234 의 순서로 놓여있다. 1을 버리면 234가 남는다. 여기서 2를 제일 아래로 옮기면 342가 된다. 3을 버리면 42가 되고, 4를 밑으로 옮기면 24가 된다. 마지막으로 2를 버리고 나면, 남는 카드는 4가 된다.\n",
        "\n",
        "N이 주어졌을 때, 제일 마지막에 남게 되는 카드를 구하는 프로그램을 작성하시오.\n",
        "\n",
        "#### 입력\n",
        "첫째 줄에 정수 N(1 ≤ N ≤ 500,000)이 주어진다.\n",
        "\n",
        "#### 출력\n",
        "첫째 줄에 남게 되는 카드의 번호를 출력한다."
      ],
      "metadata": {
        "id": "YK6OrmXceK2x"
      }
    },
    {
      "cell_type": "code",
      "source": [
        "from collections import deque\n",
        "queue = deque()\n",
        "\n",
        "N = int(input())\n",
        "\n",
        "card = [queue.append(i) for i in range(1,N+1)]\n",
        "while len(queue) !=1:\n",
        "  queue.popleft()\n",
        "  queue.append(queue.popleft())\n",
        "print(queue[0])"
      ],
      "metadata": {
        "colab": {
          "base_uri": "https://localhost:8080/"
        },
        "id": "DMcvf_yiZfPz",
        "outputId": "5231ebde-b3db-4e8d-f7fe-bc9976b4f754"
      },
      "execution_count": null,
      "outputs": [
        {
          "output_type": "stream",
          "name": "stdout",
          "text": [
            "4\n",
            "4\n"
          ]
        }
      ]
    },
    {
      "cell_type": "code",
      "source": [
        "card = [queue.append(i) for i in range(1,N+1)]\n",
        "print(queue)\n",
        "while len(queue) !=1:\n",
        "  queue.popleft()\n",
        "  queue.append(queue.popleft())\n",
        "  print(queue)\n"
      ],
      "metadata": {
        "colab": {
          "base_uri": "https://localhost:8080/"
        },
        "id": "xrbeHqDoejwa",
        "outputId": "7b81b8c0-f9f4-4463-fae7-df2e686f2a9a"
      },
      "execution_count": null,
      "outputs": [
        {
          "output_type": "stream",
          "name": "stdout",
          "text": [
            "deque([1, 2, 3, 4])\n",
            "deque([3, 4, 2])\n",
            "deque([2, 4])\n",
            "deque([4])\n"
          ]
        }
      ]
    },
    {
      "cell_type": "code",
      "source": [
        "queue.appendleft(queue.pop())"
      ],
      "metadata": {
        "id": "gcQFrEYqe07D"
      },
      "execution_count": null,
      "outputs": []
    },
    {
      "cell_type": "code",
      "source": [
        "queue"
      ],
      "metadata": {
        "colab": {
          "base_uri": "https://localhost:8080/"
        },
        "id": "AkvsS2Nufozu",
        "outputId": "c424e5b2-694f-4d0e-db37-b1f9e9136dd2"
      },
      "execution_count": null,
      "outputs": [
        {
          "output_type": "execute_result",
          "data": {
            "text/plain": [
              "deque([4, 1, 2, 3])"
            ]
          },
          "metadata": {},
          "execution_count": 32
        }
      ]
    },
    {
      "cell_type": "markdown",
      "source": [
        "## 15828 Router\n",
        "\n",
        "#### 문제\n",
        "인터넷을 사용하기 위해서는 컴퓨터에 인터넷 회선을 연결하거나 Wi-Fi를 연결해야 한다. 이렇게 연결된 네트워크를 통해 컴퓨터에는 통신이 가능하다. 마음에 드는 노래나 동영상이 있는 곳에 파일을 전송해달라는 요청을 보내고 파일을 받는 식으로 말이다.\n",
        "\n",
        "우리가 보낸 요청은 어떻게 목적지까지 도달하는 것일까? 컴퓨터에서는 패킷이라고 하는 형태로 정보를 주고 받는다. 네트워크의 유저들은 1:1로 연결되어 있지 않으므로, 일반적으로 패킷은 라우터라는 장비를 여러 번 거친다. 그러면 라우터에서는 패킷을 다른 라우터로 보내거나, 만약 목적지와 직접적으로 연결되어 있다면 그곳으로 보낼 수도 있다. 즉, 택배 회사의 물류 센터와 비슷한 역할을 한다고 보면 된다.\n",
        "\n",
        "\n",
        "라우터 내부를 들여다보면 처리해야 할 패킷을 임시적으로 보관하기 위한 버퍼가 존재한다. 이 버퍼에는 라우터에 입력으로 들어온 패킷들이 순서대로 위치하고, 라우터에서는 먼저 온 패킷부터 하나씩 처리한 후 버퍼에서 제거한다. 만약 라우터가 패킷을 처리하는 속도보다 패킷이 들어오는 속도가 더 빠를경우 버퍼가 꽉 차거나 넘쳐버릴 것이다. 그렇게 되면 버퍼에 공간이 생길 때까지 입력받는 패킷은 모두 버려진다.\n",
        "\n",
        "통신의 원리를 배웠으니까 간단하게 라우터의 작동 원리를 구현해보자. 물론 하나의 라우터만 존재한다고 가정하며, 우리가 다룰 부분은 라우터의 입출력이 주어졌을 때 버퍼의 상태가 어떻게 변하는가이다. 그러니까 라우터가 패킷을 구체적으로 어떤 방식으로 처리하고, 어디로 보내고 이런 것들은 생각하지 말자.\n",
        "\n",
        "#### 입력\n",
        "첫 줄에는 라우터 내부에 존재하는 버퍼의 크기를 나타내는 자연수 N이 주어진다.\n",
        "\n",
        "둘째 줄부터 한 줄에 하나씩 라우터가 처리해야 할 정보가 주어진다. 모든 정보는 발생한 시간순으로 주어졌다고 가정한다. 양의 정수는 해당하는 번호의 패킷이 입력으로 들어왔다는 것을 의미하고, 0은 라우터가 패킷 하나를 처리했다는 것을 의미한다. 이때, 버퍼가 비어있을때는 0이 입력으로 들어오지 않는다. -1은 입력의 끝을 나타낸다.\n",
        "\n",
        "#### 출력\n",
        "라우터에 남아있는 패킷을 앞에서부터 순서대로 공백으로 구분해서 출력하면 된다. 만약 비어있을 경우 empty라고 출력한다."
      ],
      "metadata": {
        "id": "jr-rVNh2fyky"
      }
    },
    {
      "cell_type": "code",
      "source": [
        "from collections import deque\n",
        "router = deque()\n",
        "N = int(input())\n",
        "while True:\n",
        "  pk = int(input())\n",
        "  if pk == -1:\n",
        "    break\n",
        "  elif pk == 0:\n",
        "    router.popleft()\n",
        "  else:\n",
        "    if len(router) < N:\n",
        "      router.append(pk)    \n",
        "\n",
        "if len(router) == 0:\n",
        "  print('empty')\n",
        "else:\n",
        "  while router:\n",
        "    print(router.popleft(), end=' ')"
      ],
      "metadata": {
        "colab": {
          "base_uri": "https://localhost:8080/"
        },
        "id": "Chu38CaFg7G6",
        "outputId": "1a8a563c-8081-4768-acec-ac32cb06b1e3"
      },
      "execution_count": null,
      "outputs": [
        {
          "output_type": "stream",
          "name": "stdout",
          "text": [
            "5\n",
            "1\n",
            "2\n",
            "0\n",
            "3\n",
            "4\n",
            "0\n",
            "5\n",
            "6\n",
            "0\n",
            "0\n",
            "-1\n",
            "5 6 "
          ]
        }
      ]
    },
    {
      "cell_type": "markdown",
      "source": [
        "## 11866 요세푸스 문제 O\n",
        "\n",
        "#### 문제\n",
        "요세푸스 문제는 다음과 같다.\n",
        "\n",
        "1번부터 N번까지 N명의 사람이 원을 이루면서 앉아있고, 양의 정수 K(≤ N)가 주어진다. 이제 순서대로 K번째 사람을 제거한다. 한 사람이 제거되면 남은 사람들로 이루어진 원을 따라 이 과정을 계속해 나간다. 이 과정은 N명의 사람이 모두 제거될 때까지 계속된다. 원에서 사람들이 제거되는 순서를 (N, K)-요세푸스 순열이라고 한다. 예를 들어 (7, 3)-요세푸스 순열은 <3, 6, 2, 7, 5, 1, 4>이다.\n",
        "\n",
        "N과 K가 주어지면 (N, K)-요세푸스 순열을 구하는 프로그램을 작성하시오.\n",
        "\n",
        "#### 입력\n",
        "첫째 줄에 N과 K가 빈 칸을 사이에 두고 순서대로 주어진다. (1 ≤ K ≤ N ≤ 1,000)\n",
        "\n",
        "#### 출력\n",
        "예제와 같이 요세푸스 순열을 출력한다.\n"
      ],
      "metadata": {
        "id": "1suEcnpFjjAH"
      }
    },
    {
      "cell_type": "code",
      "source": [
        "from collections import deque\n",
        "N, K = map(int,input().split(' '))"
      ],
      "metadata": {
        "colab": {
          "base_uri": "https://localhost:8080/"
        },
        "id": "MIFRGSZBEgUM",
        "outputId": "b129c8c1-95b0-4b26-d9be-b8cda177cc02"
      },
      "execution_count": 65,
      "outputs": [
        {
          "name": "stdout",
          "output_type": "stream",
          "text": [
            "7 3\n"
          ]
        }
      ]
    },
    {
      "cell_type": "code",
      "source": [
        "num_lst = [i for i in range(1,N+1)]\n",
        "yose = []\n",
        "pop_list = []\n",
        "while num_lst:\n",
        "  for i in num_lst:\n",
        "    print(i)\n",
        "    if len(yose) < K:\n",
        "      yose.append(i)\n",
        "      print(yose,'ap')\n",
        "    else:\n",
        "      p = yose.pop()\n",
        "      pop_list.append(p-1)\n",
        "      num_lst.remove(p-1)\n",
        "      yose.pop()\n",
        "      yose.pop()\n",
        "      yose.append(i)\n",
        "      print(yose,'ap')"
      ],
      "metadata": {
        "colab": {
          "base_uri": "https://localhost:8080/",
          "height": 707
        },
        "id": "_FJAcqQyE1zZ",
        "outputId": "2b371ce5-9b3a-455a-b9bc-60153f5d9dee"
      },
      "execution_count": 66,
      "outputs": [
        {
          "output_type": "stream",
          "name": "stdout",
          "text": [
            "1\n",
            "[1] ap\n",
            "2\n",
            "[1, 2] ap\n",
            "3\n",
            "[1, 2, 3] ap\n",
            "4\n",
            "[4] ap\n",
            "6\n",
            "[4, 6] ap\n",
            "7\n",
            "[4, 6, 7] ap\n",
            "1\n",
            "[1] ap\n",
            "3\n",
            "[1, 3] ap\n",
            "4\n",
            "[1, 3, 4] ap\n",
            "5\n",
            "[5] ap\n",
            "1\n",
            "[5, 1] ap\n",
            "4\n",
            "[5, 1, 4] ap\n",
            "5\n"
          ]
        },
        {
          "output_type": "error",
          "ename": "ValueError",
          "evalue": "ignored",
          "traceback": [
            "\u001b[0;31m---------------------------------------------------------------------------\u001b[0m",
            "\u001b[0;31mValueError\u001b[0m                                Traceback (most recent call last)",
            "\u001b[0;32m<ipython-input-66-2630c037fc1d>\u001b[0m in \u001b[0;36m<module>\u001b[0;34m\u001b[0m\n\u001b[1;32m     11\u001b[0m       \u001b[0mp\u001b[0m \u001b[0;34m=\u001b[0m \u001b[0myose\u001b[0m\u001b[0;34m.\u001b[0m\u001b[0mpop\u001b[0m\u001b[0;34m(\u001b[0m\u001b[0;34m)\u001b[0m\u001b[0;34m\u001b[0m\u001b[0;34m\u001b[0m\u001b[0m\n\u001b[1;32m     12\u001b[0m       \u001b[0mpop_list\u001b[0m\u001b[0;34m.\u001b[0m\u001b[0mappend\u001b[0m\u001b[0;34m(\u001b[0m\u001b[0mp\u001b[0m\u001b[0;34m-\u001b[0m\u001b[0;36m1\u001b[0m\u001b[0;34m)\u001b[0m\u001b[0;34m\u001b[0m\u001b[0;34m\u001b[0m\u001b[0m\n\u001b[0;32m---> 13\u001b[0;31m       \u001b[0mnum_lst\u001b[0m\u001b[0;34m.\u001b[0m\u001b[0mremove\u001b[0m\u001b[0;34m(\u001b[0m\u001b[0mp\u001b[0m\u001b[0;34m-\u001b[0m\u001b[0;36m1\u001b[0m\u001b[0;34m)\u001b[0m\u001b[0;34m\u001b[0m\u001b[0;34m\u001b[0m\u001b[0m\n\u001b[0m\u001b[1;32m     14\u001b[0m       \u001b[0myose\u001b[0m\u001b[0;34m.\u001b[0m\u001b[0mpop\u001b[0m\u001b[0;34m(\u001b[0m\u001b[0;34m)\u001b[0m\u001b[0;34m\u001b[0m\u001b[0;34m\u001b[0m\u001b[0m\n\u001b[1;32m     15\u001b[0m       \u001b[0myose\u001b[0m\u001b[0;34m.\u001b[0m\u001b[0mpop\u001b[0m\u001b[0;34m(\u001b[0m\u001b[0;34m)\u001b[0m\u001b[0;34m\u001b[0m\u001b[0;34m\u001b[0m\u001b[0m\n",
            "\u001b[0;31mValueError\u001b[0m: list.remove(x): x not in list"
          ]
        }
      ]
    },
    {
      "cell_type": "code",
      "source": [
        "num_lst = [i for i in range(1,N+1)]\n",
        "num_lst\n",
        "num_lst.pop()"
      ],
      "metadata": {
        "colab": {
          "base_uri": "https://localhost:8080/"
        },
        "id": "A2_26JS6E6SF",
        "outputId": "bf69350e-64cd-4110-cd95-17684e0684a6"
      },
      "execution_count": null,
      "outputs": [
        {
          "output_type": "execute_result",
          "data": {
            "text/plain": [
              "7"
            ]
          },
          "metadata": {},
          "execution_count": 64
        }
      ]
    },
    {
      "cell_type": "code",
      "source": [
        "a = [1,2,3]\n",
        "b = [1,2,3]\n",
        "c = [1,2,3]\n",
        "d = int(c.pop())\n",
        "b.append(d)\n",
        "a.remove(d)\n",
        "print(a,b,c)"
      ],
      "metadata": {
        "colab": {
          "base_uri": "https://localhost:8080/"
        },
        "id": "4qgQA8prForR",
        "outputId": "68a4d4bf-84ec-4adf-cc5f-bf2ee6a7772a"
      },
      "execution_count": null,
      "outputs": [
        {
          "output_type": "stream",
          "name": "stdout",
          "text": [
            "[1, 2] [1, 2, 3, 3] [1, 2]\n"
          ]
        }
      ]
    },
    {
      "cell_type": "code",
      "source": [
        "b = a.remove(2)\n",
        "b"
      ],
      "metadata": {
        "id": "z2CrzetZOERB"
      },
      "execution_count": null,
      "outputs": []
    },
    {
      "cell_type": "code",
      "source": [],
      "metadata": {
        "id": "6KPheAgMRFJh"
      },
      "execution_count": null,
      "outputs": []
    }
  ]
}