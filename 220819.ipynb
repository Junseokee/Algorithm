{
  "nbformat": 4,
  "nbformat_minor": 0,
  "metadata": {
    "colab": {
      "name": "220819.ipynb",
      "provenance": [],
      "collapsed_sections": [],
      "authorship_tag": "ABX9TyNQEGtTjYpmuPrOLXOlZW0p",
      "include_colab_link": true
    },
    "kernelspec": {
      "name": "python3",
      "display_name": "Python 3"
    },
    "language_info": {
      "name": "python"
    }
  },
  "cells": [
    {
      "cell_type": "markdown",
      "metadata": {
        "id": "view-in-github",
        "colab_type": "text"
      },
      "source": [
        "<a href=\"https://colab.research.google.com/github/Junseokee/Algorithm/blob/main/220819.ipynb\" target=\"_parent\"><img src=\"https://colab.research.google.com/assets/colab-badge.svg\" alt=\"Open In Colab\"/></a>"
      ]
    },
    {
      "cell_type": "markdown",
      "source": [
        "## 2941 크로아티아 알파벳\n",
        "\n",
        "문제\n",
        "예전에는 운영체제에서 크로아티아 알파벳을 입력할 수가 없었다. 따라서, 다음과 같이 크로아티아 알파벳을 변경해서 입력했다.\n",
        "\n",
        "크로아티아 알파벳\t변경\n",
        "č\tc=\n",
        "ć\tc-\n",
        "dž\tdz=\n",
        "đ\td-\n",
        "lj\tlj\n",
        "nj\tnj\n",
        "š\ts=\n",
        "ž\tz=\n",
        "예를 들어, ljes=njak은 크로아티아 알파벳 6개(lj, e, š, nj, a, k)로 이루어져 있다. 단어가 주어졌을 때, 몇 개의 크로아티아 알파벳으로 이루어져 있는지 출력한다.\n",
        "\n",
        "dž는 무조건 하나의 알파벳으로 쓰이고, d와 ž가 분리된 것으로 보지 않는다. lj와 nj도 마찬가지이다. 위 목록에 없는 알파벳은 한 글자씩 센다.\n",
        "\n",
        "입력\n",
        "첫째 줄에 최대 100글자의 단어가 주어진다. 알파벳 소문자와 '-', '='로만 이루어져 있다.\n",
        "\n",
        "단어는 크로아티아 알파벳으로 이루어져 있다. 문제 설명의 표에 나와있는 알파벳은 변경된 형태로 입력된다.\n",
        "\n",
        "출력\n",
        "입력으로 주어진 단어가 몇 개의 크로아티아 알파벳으로 이루어져 있는지 출력한다."
      ],
      "metadata": {
        "id": "MCmNXKifKXJq"
      }
    },
    {
      "cell_type": "code",
      "execution_count": 31,
      "metadata": {
        "colab": {
          "base_uri": "https://localhost:8080/"
        },
        "id": "XZdrkvFZJ66v",
        "outputId": "407a0dda-8f19-4fcc-a91a-d48ceb0afc20"
      },
      "outputs": [
        {
          "name": "stdout",
          "output_type": "stream",
          "text": [
            "ljes=njak\n"
          ]
        }
      ],
      "source": [
        "word = input()\n",
        "\n"
      ]
    },
    {
      "cell_type": "code",
      "source": [
        "mateo = []\n",
        "Luka = [\"c=\",'c=','dz=','d-','lj','nj','s=','z=']\n",
        "\n",
        "for i in Luka:\n",
        "  if i in word:\n",
        "    print(i)\n",
        "    mateo.append([i])\n",
        "    print(mateo)\n"
      ],
      "metadata": {
        "colab": {
          "base_uri": "https://localhost:8080/"
        },
        "id": "-48ne5RdKWoW",
        "outputId": "a84ca296-1a6f-440d-f0c3-ce6140902d48"
      },
      "execution_count": 32,
      "outputs": [
        {
          "output_type": "stream",
          "name": "stdout",
          "text": [
            "lj\n",
            "[['lj']]\n",
            "nj\n",
            "[['lj'], ['nj']]\n",
            "s=\n",
            "[['lj'], ['nj'], ['s=']]\n"
          ]
        }
      ]
    },
    {
      "cell_type": "code",
      "source": [
        "for i in mateo:\n",
        "  if str(i) in word:\n",
        "    word.replace([i],\"\")\n",
        "    print(word)"
      ],
      "metadata": {
        "id": "qfOQI_JNOjMJ"
      },
      "execution_count": 41,
      "outputs": []
    },
    {
      "cell_type": "code",
      "source": [
        "word.replace(str(mateo[0]),\"\")\n",
        "print(word)"
      ],
      "metadata": {
        "colab": {
          "base_uri": "https://localhost:8080/"
        },
        "id": "eZXR4r81P69X",
        "outputId": "de6188f2-5748-4c7c-8c4f-755c44dc7429"
      },
      "execution_count": 50,
      "outputs": [
        {
          "output_type": "stream",
          "name": "stdout",
          "text": [
            "ljes=njak\n"
          ]
        }
      ]
    },
    {
      "cell_type": "code",
      "source": [
        "word.replace(str(s) for s in mateo,\"\")"
      ],
      "metadata": {
        "colab": {
          "base_uri": "https://localhost:8080/",
          "height": 136
        },
        "id": "Z5qcNcjrOyQA",
        "outputId": "7cd80c8f-15d1-4d5b-d02a-8cc466d55e28"
      },
      "execution_count": 51,
      "outputs": [
        {
          "output_type": "error",
          "ename": "SyntaxError",
          "evalue": "ignored",
          "traceback": [
            "\u001b[0;36m  File \u001b[0;32m\"<ipython-input-51-2714f796e504>\"\u001b[0;36m, line \u001b[0;32m1\u001b[0m\n\u001b[0;31m    word.replace(str(s) for s in mateo,\"\")\u001b[0m\n\u001b[0m                ^\u001b[0m\n\u001b[0;31mSyntaxError\u001b[0m\u001b[0;31m:\u001b[0m Generator expression must be parenthesized\n"
          ]
        }
      ]
    },
    {
      "cell_type": "code",
      "source": [
        "for i in range(len(word)):\n",
        "  mateo.append(word[i])\n",
        "print(mateo)"
      ],
      "metadata": {
        "colab": {
          "base_uri": "https://localhost:8080/"
        },
        "id": "uIQuj3TVLWuK",
        "outputId": "1aed427f-f958-412a-b1ab-aad09b45c0bb"
      },
      "execution_count": null,
      "outputs": [
        {
          "output_type": "stream",
          "name": "stdout",
          "text": [
            "['l', 'j', 'e', 's', '=', 'n', 'j', 'a', 'k']\n"
          ]
        }
      ]
    }
  ]
}