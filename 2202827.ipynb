{
  "nbformat": 4,
  "nbformat_minor": 0,
  "metadata": {
    "colab": {
      "name": "2202827.ipynb",
      "provenance": [],
      "authorship_tag": "ABX9TyPxl2D2wgQsmn1Jrm/hZtuo",
      "include_colab_link": true
    },
    "kernelspec": {
      "name": "python3",
      "display_name": "Python 3"
    },
    "language_info": {
      "name": "python"
    }
  },
  "cells": [
    {
      "cell_type": "markdown",
      "metadata": {
        "id": "view-in-github",
        "colab_type": "text"
      },
      "source": [
        "<a href=\"https://colab.research.google.com/github/Junseokee/Algorithm/blob/main/2202827.ipynb\" target=\"_parent\"><img src=\"https://colab.research.google.com/assets/colab-badge.svg\" alt=\"Open In Colab\"/></a>"
      ]
    },
    {
      "cell_type": "markdown",
      "source": [
        "## 10250 ACM 호텔\n",
        "\n",
        "문제\n",
        "ACM 호텔 매니저 지우는 손님이 도착하는 대로 빈 방을 배정하고 있다. 고객 설문조사에 따르면 손님들은 호텔 정문으로부터 걸어서 가장 짧은 거리에 있는 방을 선호한다고 한다. 여러분은 지우를 도와 줄 프로그램을 작성하고자 한다. 즉 설문조사 결과 대로 호텔 정문으로부터 걷는 거리가 가장 짧도록 방을 배정하는 프로그램을 작성하고자 한다.\n",
        "\n",
        "문제를 단순화하기 위해서 호텔은 직사각형 모양이라고 가정하자. 각 층에 W 개의 방이 있는 H 층 건물이라고 가정하자 (1 ≤ H, W ≤ 99). 그리고 엘리베이터는 가장 왼쪽에 있다고 가정하자(그림 1 참고). 이런 형태의 호텔을 H × W 형태 호텔이라고 부른다. 호텔 정문은 일층 엘리베이터 바로 앞에 있는데, 정문에서 엘리베이터까지의 거리는 무시한다. 또 모든 인접한 두 방 사이의 거리는 같은 거리(거리 1)라고 가정하고 호텔의 정면 쪽에만 방이 있다고 가정한다.\n",
        "\n",
        "\n",
        "\n",
        "그림 1. H = 6 이고 W = 12 인 H × W 호텔을 간략하게 나타낸 그림\n",
        "\n",
        "방 번호는 YXX 나 YYXX 형태인데 여기서 Y 나 YY 는 층 수를 나타내고 XX 는 엘리베이터에서부터 세었을 때의 번호를 나타낸다. 즉, 그림 1 에서 빗금으로 표시한 방은 305 호가 된다.\n",
        "\n",
        "손님은 엘리베이터를 타고 이동하는 거리는 신경 쓰지 않는다. 다만 걷는 거리가 같을 때에는 아래층의 방을 더 선호한다. 예를 들면 102 호 방보다는 301 호 방을 더 선호하는데, 102 호는 거리 2 만큼 걸어야 하지만 301 호는 거리 1 만큼만 걸으면 되기 때문이다. 같은 이유로 102 호보다 2101 호를 더 선호한다.\n",
        "\n",
        "여러분이 작성할 프로그램은 초기에 모든 방이 비어있다고 가정하에 이 정책에 따라 N 번째로 도착한 손님에게 배정될 방 번호를 계산하는 프로그램이다. 첫 번째 손님은 101 호, 두 번째 손님은 201 호 등과 같이 배정한다. 그림 1 의 경우를 예로 들면, H = 6이므로 10 번째 손님은 402 호에 배정해야 한다.\n",
        "\n",
        "입력\n",
        "프로그램은 표준 입력에서 입력 데이터를 받는다. 프로그램의 입력은 T 개의 테스트 데이터로 이루어져 있는데 T 는 입력의 맨 첫 줄에 주어진다. 각 테스트 데이터는 한 행으로서 H, W, N, 세 정수를 포함하고 있으며 각각 호텔의 층 수, 각 층의 방 수, 몇 번째 손님인지를 나타낸다(1 ≤ H, W ≤ 99, 1 ≤ N ≤ H × W). \n",
        "\n",
        "출력\n",
        "프로그램은 표준 출력에 출력한다. 각 테스트 데이터마다 정확히 한 행을 출력하는데, 내용은 N 번째 손님에게 배정되어야 하는 방 번호를 출력한다.1"
      ],
      "metadata": {
        "id": "64-8zlI1N1Xb"
      }
    },
    {
      "cell_type": "code",
      "source": [
        "T = int(input())\n",
        "for i in range(T):\n",
        "  H,W,N = map(int,input().split(\" \"))"
      ],
      "metadata": {
        "colab": {
          "base_uri": "https://localhost:8080/"
        },
        "id": "2agIai9pOebH",
        "outputId": "6b6b2b4e-a505-44a8-bc5d-f9dca9b8aa7c"
      },
      "execution_count": 1,
      "outputs": [
        {
          "name": "stdout",
          "output_type": "stream",
          "text": [
            "2\n",
            "6 12 10\n",
            "30 50 72\n"
          ]
        }
      ]
    },
    {
      "cell_type": "code",
      "source": [
        "# H = 층,  W = 방수, N = 손님수\n",
        "N = 72\n",
        "cnt = 1\n",
        "while True:\n",
        "  if N > H:\n",
        "    cnt += 1\n",
        "    N = N-H\n",
        "    print(N, cnt)\n",
        "  else:\n",
        "    break\n",
        "if cnt < 10:\n",
        "  num = '0'+str(cnt)\n",
        "else:\n",
        "  num = str(cnt)\n",
        "\n",
        "print(str(N)+num)"
      ],
      "metadata": {
        "colab": {
          "base_uri": "https://localhost:8080/"
        },
        "id": "qWaW_J2BOxW1",
        "outputId": "a7c2ed2f-7ae7-4bc8-8317-c0701e1bd99f"
      },
      "execution_count": 11,
      "outputs": [
        {
          "output_type": "stream",
          "name": "stdout",
          "text": [
            "42 2\n",
            "12 3\n",
            "1203\n"
          ]
        }
      ]
    },
    {
      "cell_type": "code",
      "source": [
        "T = int(input())\n",
        "for i in range(T):\n",
        "  H,W,N = map(int,input().split(\" \"))\n",
        "  cnt = 1\n",
        "  while True:\n",
        "    if N > H:\n",
        "      cnt += 1\n",
        "      N = N-H\n",
        "    else:\n",
        "      break\n",
        "  if cnt < 10:\n",
        "    num = '0'+str(cnt)\n",
        "  else:\n",
        "    num = str(cnt)\n",
        "\n",
        "  print(str(N)+num)"
      ],
      "metadata": {
        "colab": {
          "base_uri": "https://localhost:8080/"
        },
        "id": "PtKcs7yfO5z8",
        "outputId": "e5ee50d0-8e85-449c-c953-1c131ff13d4d"
      },
      "execution_count": 13,
      "outputs": [
        {
          "output_type": "stream",
          "name": "stdout",
          "text": [
            "2\n",
            "6 12 10\n",
            "402\n",
            "30 50 72\n",
            "1203\n"
          ]
        }
      ]
    },
    {
      "cell_type": "markdown",
      "source": [
        "## 2839 설탕 배달\n",
        "\n",
        "문제\n",
        "상근이는 요즘 설탕공장에서 설탕을 배달하고 있다. 상근이는 지금 사탕가게에 설탕을 정확하게 N킬로그램을 배달해야 한다. 설탕공장에서 만드는 설탕은 봉지에 담겨져 있다. 봉지는 3킬로그램 봉지와 5킬로그램 봉지가 있다.\n",
        "\n",
        "상근이는 귀찮기 때문에, 최대한 적은 봉지를 들고 가려고 한다. 예를 들어, 18킬로그램 설탕을 배달해야 할 때, 3킬로그램 봉지 6개를 가져가도 되지만, 5킬로그램 3개와 3킬로그램 1개를 배달하면, 더 적은 개수의 봉지를 배달할 수 있다.\n",
        "\n",
        "상근이가 설탕을 정확하게 N킬로그램 배달해야 할 때, 봉지 몇 개를 가져가면 되는지 그 수를 구하는 프로그램을 작성하시오.\n",
        "\n",
        "입력\n",
        "첫째 줄에 N이 주어진다. (3 ≤ N ≤ 5000)\n",
        "\n",
        "출력\n",
        "상근이가 배달하는 봉지의 최소 개수를 출력한다. 만약, 정확하게 N킬로그램을 만들 수 없다면 -1을 출력한다"
      ],
      "metadata": {
        "id": "XTrf21DUQ9d8"
      }
    },
    {
      "cell_type": "code",
      "source": [
        "T = int(input())"
      ],
      "metadata": {
        "id": "4Y5ta1O7ToxN"
      },
      "execution_count": null,
      "outputs": []
    },
    {
      "cell_type": "code",
      "source": [
        "T = int(input())\n",
        "cnt = 1\n",
        "while True:\n",
        "  if T-5 >=0:\n",
        "    cnt += 1\n",
        "    T = T-5\n",
        "    print(T)\n",
        "  elif T-3 >= 0:\n",
        "    cnt += 1\n",
        "    T = T-3\n",
        "    print(T)\n",
        "  elif T == 0:\n",
        "    print(T)\n",
        "    break\n",
        "  else:\n",
        "    print(-1)\n",
        "    break\n",
        "  \n"
      ],
      "metadata": {
        "colab": {
          "base_uri": "https://localhost:8080/"
        },
        "id": "RcjIsgNWT4L3",
        "outputId": "bd540462-3d06-4664-ff8d-968737f4a24d"
      },
      "execution_count": 18,
      "outputs": [
        {
          "output_type": "stream",
          "name": "stdout",
          "text": [
            "6\n",
            "1\n",
            "-1\n"
          ]
        }
      ]
    },
    {
      "cell_type": "code",
      "source": [
        "T = 6\n",
        "for i in range(3):\n",
        "  if T%5 > T%3:\n",
        "    T = T-5\n",
        "  elif T%5 < T%3:\n",
        "    T = T-3 \n",
        "  print(T)"
      ],
      "metadata": {
        "colab": {
          "base_uri": "https://localhost:8080/"
        },
        "id": "ukYuxwK4UXoh",
        "outputId": "383b6d02-876e-4a6f-9cbd-b2d0cde47008"
      },
      "execution_count": 24,
      "outputs": [
        {
          "output_type": "stream",
          "name": "stdout",
          "text": [
            "1\n",
            "1\n",
            "1\n"
          ]
        }
      ]
    },
    {
      "cell_type": "code",
      "source": [],
      "metadata": {
        "id": "SHJLJbmhU6ec"
      },
      "execution_count": null,
      "outputs": []
    }
  ]
}