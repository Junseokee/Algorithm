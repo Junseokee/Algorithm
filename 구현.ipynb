{
 "cells": [
  {
   "cell_type": "markdown",
   "id": "3815e06f",
   "metadata": {},
   "source": [
    "- 구현이란, 머리속에 있는 알고리즘을 소스코드로 바꾸는 과정입니다.\n",
    "- 흔히 풀이를 떠올리기는 것은 쉽지만 소스코드로 옮기기 어려운 문제\n",
    "- 구현 유형의 예시는 다음과 같다\n",
    "    - 알고리즘은 간단한데 코드가 지나치게 긴 문제\n",
    "    - 실수 연산을 다루고, 특정 소수점 자리까지 출력하는 문제\n",
    "    - 문자열을 특정한 기준에 따라서 끊어 처리해야 하는 문제\n",
    "    - 적절한 라이브러리를 찾아서 사용해야하는 문제 ( ex) itertools library )\n",
    "    "
   ]
  },
  {
   "cell_type": "code",
   "execution_count": 1,
   "id": "9ebb37e1",
   "metadata": {},
   "outputs": [
    {
     "name": "stdout",
     "output_type": "stream",
     "text": [
      "( 0 , 0 ) ( 0 , 1 ) ( 0 , 2 ) ( 0 , 3 ) ( 0 , 4 ) \n",
      "( 1 , 0 ) ( 1 , 1 ) ( 1 , 2 ) ( 1 , 3 ) ( 1 , 4 ) \n",
      "( 2 , 0 ) ( 2 , 1 ) ( 2 , 2 ) ( 2 , 3 ) ( 2 , 4 ) \n",
      "( 3 , 0 ) ( 3 , 1 ) ( 3 , 2 ) ( 3 , 3 ) ( 3 , 4 ) \n",
      "( 4 , 0 ) ( 4 , 1 ) ( 4 , 2 ) ( 4 , 3 ) ( 4 , 4 ) \n"
     ]
    }
   ],
   "source": [
    "# 일반적으로 알고리즘 문제에서의 2차원 공간은 행렬의 의미로 사용\n",
    "for i in range(5):\n",
    "    for j in range(5):\n",
    "        print('(',i,',',j,')',end = ' ')\n",
    "    print()"
   ]
  },
  {
   "cell_type": "code",
   "execution_count": 2,
   "id": "e2761ce3",
   "metadata": {},
   "outputs": [
    {
     "name": "stdout",
     "output_type": "stream",
     "text": [
      "2 3\n",
      "1 2\n",
      "2 1\n",
      "3 2\n"
     ]
    }
   ],
   "source": [
    "# 시뮬레이션 및 완전 탐색 문제에서는 2차원 공간에서의 방향 벡터가 자주 사용 됨\n",
    "# 동, 북, 서, 남\n",
    "dx = [0, -1, 0, 1]\n",
    "dy = [1, 0, -1, 0]\n",
    "\n",
    "# 현재위치\n",
    "x,y = 2,2 \n",
    "\n",
    "for i in range(4):\n",
    "    # 다음 위치\n",
    "    nx = x + dx[i]\n",
    "    ny = y + dy[i]\n",
    "    print(nx,ny)"
   ]
  },
  {
   "cell_type": "markdown",
   "id": "6692faeb",
   "metadata": {},
   "source": [
    "#### 예시 문제 상화좌우 문제설명\n",
    "- 여행가 A는 N x N 크기의 정사각형 공간 위에 서 있습니다. 이 공간은 1 x 1 크기의 정사각형으로 나누어져 있습니다. 가장 왼쪽 위 좌표는 (1,1) 이며, 가장 오른쪽 아래 좌표는 (N,N)에 해당합니다. 여행가 A는 상, 하, 좌, 우 방향으로 이동할 수 있으며, 시작 좌표는 항상 (1,1)입니다. 우리 앞에는 여행가 A가 이동할 계획이 적힌 계획서가 놓여 있습니다.\n",
    "- 계획서에는 하나의 죽에 띄어쓰기를 기준으로 하여 L,R,U,D 중 하나의 문자가 반복적으로 적혀 있습니다\n",
    "- 이때 여행가 a가 n x n 크기의 정사각형 공간을 벗어나는 움직임은 무시됩니다. 예를 들어 (1,1)의 위치에서 L 혹은 U를 만나면 무시됩니다. 다음은 N=5인 지도와 계획서입니다."
   ]
  },
  {
   "cell_type": "code",
   "execution_count": 8,
   "id": "be0c3733",
   "metadata": {},
   "outputs": [
    {
     "name": "stdout",
     "output_type": "stream",
     "text": [
      "5\n",
      "R R R U D D\n"
     ]
    },
    {
     "data": {
      "text/plain": [
       "[[0, 0, 0, 0, 0],\n",
       " [0, 0, 0, 0, 0],\n",
       " [0, 0, 0, 0, 0],\n",
       " [0, 0, 0, 0, 0],\n",
       " [0, 0, 0, 0, 0]]"
      ]
     },
     "execution_count": 8,
     "metadata": {},
     "output_type": "execute_result"
    }
   ],
   "source": [
    "# 혼자 해보기\n",
    "n = int(input())\n",
    "move = list(input().split(\" \"))\n",
    "array = [[0] * n for _ in range(n)]\n",
    "array"
   ]
  },
  {
   "cell_type": "code",
   "execution_count": 14,
   "id": "eda43204",
   "metadata": {},
   "outputs": [
    {
     "name": "stdout",
     "output_type": "stream",
     "text": [
      "[3, 4]\n"
     ]
    }
   ],
   "source": [
    "point = [1,1]\n",
    "for i in move:\n",
    "    if i == 'L' and point[1] != 1:\n",
    "        point[1] += 1\n",
    "    elif i == 'R' and point[1] != n:\n",
    "        point[1] += 1\n",
    "    elif i == 'U' and point[0] != 1:\n",
    "        point[0] += 1\n",
    "    elif i == 'D' and point[0] != n:\n",
    "        point[0] += 1\n",
    "print(point)"
   ]
  },
  {
   "cell_type": "code",
   "execution_count": 12,
   "id": "c1170d2f",
   "metadata": {},
   "outputs": [
    {
     "data": {
      "text/plain": [
       "1"
      ]
     },
     "execution_count": 12,
     "metadata": {},
     "output_type": "execute_result"
    }
   ],
   "source": [
    "point[1]"
   ]
  },
  {
   "cell_type": "markdown",
   "id": "91247747",
   "metadata": {},
   "source": [
    "- 문제 해결 아이디어\n",
    "- 명령에 따라 개체를 차례대로 이동시킨다는 점에서 시뮬레이션 유형으로도 분류됨\n",
    "    - 다만 코딩 테스트에서 시뮬레이션 유형, 구현 유형, 완전 탐색 유형은 서로 유사한 점이 많다\n",
    "    "
   ]
  },
  {
   "cell_type": "code",
   "execution_count": null,
   "id": "47920bd6",
   "metadata": {},
   "outputs": [],
   "source": [
    "# 정답 예시\n",
    "\n",
    "n = int(input())\n",
    "x, y = 1,1\n",
    "plans = input().split()\n",
    "\n",
    "# L,R,U,D에 따른 이동 방향\n",
    "dx = [0, 0, -1, 1]\n",
    "dy = [-1, 1, 0, 0]\n",
    "move_types = ['L', 'R', 'U','D']\n",
    "\n",
    "# 이동 계획을 하나씩 확인하기\n",
    "for plan in plans:\n",
    "    # 이동 후 좌표 구하기\n",
    "    for i in range(len(move_types)):\n",
    "        if plan == move_types[i]:\n",
    "            nx = x + dx[i]\n",
    "            ny = y + dy[i]\n",
    "    #공간을 벗어나는 경우 무시\n",
    "    if nx < 1 or ny < 1 or nx > n or ny > n:\n",
    "        continue\n",
    "    # 이동 수행\n",
    "    x,y = nx, ny\n",
    "    \n",
    "print(x,y)"
   ]
  },
  {
   "cell_type": "markdown",
   "id": "a37cb0aa",
   "metadata": {},
   "source": [
    "#### 시각 문제\n",
    "- 정수 N이 입력되면 00시 00분 00초부터 N시 59분 59초까지의 모든 시각 중에서 3이 하나라도 포함되는 모든 경우의 수를 구하는 프로그램을 작성하세여. 예를 들어 1을 입력했을 때 다음은 3이 하나라도 포함되어 있으므로 세어야 하는 시각입니다.\n",
    "    - 00시 00분 03초\n",
    "    - 00시 13분 30초\n",
    "- 반면에 다음은 3이 하나도 포함되어 있지 않으므로 세면 안되는 시각입니다.\n",
    "    - 00시 02분 55초\n",
    "    - 01시 27분 45초\n"
   ]
  },
  {
   "cell_type": "code",
   "execution_count": null,
   "id": "56aca97f",
   "metadata": {},
   "outputs": [],
   "source": []
  },
  {
   "cell_type": "code",
   "execution_count": null,
   "id": "f7bb3674",
   "metadata": {},
   "outputs": [],
   "source": []
  },
  {
   "cell_type": "code",
   "execution_count": null,
   "id": "9dc23df4",
   "metadata": {},
   "outputs": [],
   "source": []
  }
 ],
 "metadata": {
  "kernelspec": {
   "display_name": "Python 3 (ipykernel)",
   "language": "python",
   "name": "python3"
  },
  "language_info": {
   "codemirror_mode": {
    "name": "ipython",
    "version": 3
   },
   "file_extension": ".py",
   "mimetype": "text/x-python",
   "name": "python",
   "nbconvert_exporter": "python",
   "pygments_lexer": "ipython3",
   "version": "3.9.12"
  }
 },
 "nbformat": 4,
 "nbformat_minor": 5
}
