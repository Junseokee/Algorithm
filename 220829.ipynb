{
  "nbformat": 4,
  "nbformat_minor": 0,
  "metadata": {
    "colab": {
      "name": "220829.ipynb",
      "provenance": [],
      "authorship_tag": "ABX9TyMkYZ5Zfn109tGQgMvRlOOj",
      "include_colab_link": true
    },
    "kernelspec": {
      "name": "python3",
      "display_name": "Python 3"
    },
    "language_info": {
      "name": "python"
    }
  },
  "cells": [
    {
      "cell_type": "markdown",
      "metadata": {
        "id": "view-in-github",
        "colab_type": "text"
      },
      "source": [
        "<a href=\"https://colab.research.google.com/github/Junseokee/Algorithm/blob/main/220829.ipynb\" target=\"_parent\"><img src=\"https://colab.research.google.com/assets/colab-badge.svg\" alt=\"Open In Colab\"/></a>"
      ]
    },
    {
      "cell_type": "markdown",
      "source": [
        "## 10757 큰 수 A+B\n",
        "문제\n",
        "두 정수 A와 B를 입력받은 다음, A+B를 출력하는 프로그램을 작성하시오.\n",
        "\n",
        "입력\n",
        "첫째 줄에 A와 B가 주어진다. (0 < A,B < 1010000)\n",
        "\n",
        "출력\n",
        "첫째 줄에 A+B를 출력한다."
      ],
      "metadata": {
        "id": "dJY0hyziiGnJ"
      }
    },
    {
      "cell_type": "code",
      "execution_count": 4,
      "metadata": {
        "colab": {
          "base_uri": "https://localhost:8080/",
          "height": 54
        },
        "id": "BAjHvse2hDb3",
        "outputId": "4d0eef9d-7595-4c25-cfe0-6f0a21f9e2c3"
      },
      "outputs": [
        {
          "name": "stdout",
          "output_type": "stream",
          "text": [
            "9223372036854775807 9223372036854775808\n"
          ]
        },
        {
          "output_type": "execute_result",
          "data": {
            "text/plain": [
              "'9223372036854775807'"
            ],
            "application/vnd.google.colaboratory.intrinsic+json": {
              "type": "string"
            }
          },
          "metadata": {},
          "execution_count": 4
        }
      ],
      "source": [
        "a, b = input().split(\" \")\n",
        "c = int(a)+int(b)\n",
        "print(c)"
      ]
    },
    {
      "cell_type": "code",
      "source": [
        "c = int(a)+int(b)\n",
        "print(c)"
      ],
      "metadata": {
        "colab": {
          "base_uri": "https://localhost:8080/"
        },
        "id": "dckwgb7yhh7p",
        "outputId": "595bd0dd-f572-4b28-f4ec-75b33f4086be"
      },
      "execution_count": 7,
      "outputs": [
        {
          "output_type": "stream",
          "name": "stdout",
          "text": [
            "18446744073709551615\n"
          ]
        }
      ]
    },
    {
      "cell_type": "markdown",
      "source": [
        "## 1978 소수 찾기\n",
        "문제\n",
        "주어진 수 N개 중에서 소수가 몇 개인지 찾아서 출력하는 프로그램을 작성하시오.\n",
        "\n",
        "입력\n",
        "첫 줄에 수의 개수 N이 주어진다. N은 100이하이다. 다음으로 N개의 수가 주어지는데 수는 1,000 이하의 자연수이다.\n",
        "\n",
        "출력\n",
        "주어진 수들 중 소수의 개수를 출력한다.\n"
      ],
      "metadata": {
        "id": "f8McJF6thzHS"
      }
    },
    {
      "cell_type": "code",
      "source": [
        "T = int(input())\n",
        "x = list(map(int,input().split()))\n",
        "for i in x:\n",
        "  print(i)"
      ],
      "metadata": {
        "colab": {
          "base_uri": "https://localhost:8080/"
        },
        "id": "WCeQXCaziRrp",
        "outputId": "e2342572-0784-4d81-e335-f39a6093512b"
      },
      "execution_count": 42,
      "outputs": [
        {
          "output_type": "stream",
          "name": "stdout",
          "text": [
            "4\n",
            "2 4 8 10\n",
            "2\n",
            "4\n",
            "8\n",
            "10\n"
          ]
        }
      ]
    },
    {
      "cell_type": "code",
      "source": [
        "count = T\n",
        "for i in x:\n",
        "  if i == 1:\n",
        "    i = 0\n",
        "    count -= 1\n",
        "  for j in range(2,i):\n",
        "    print('i =',i)\n",
        "    print(j)\n",
        "    if j%i == 0:\n",
        "      count -= 1\n",
        "print(count)"
      ],
      "metadata": {
        "id": "xHTDLMdWjOLK"
      },
      "execution_count": null,
      "outputs": []
    },
    {
      "cell_type": "code",
      "source": [
        "T = int(input())\n",
        "x = list(map(int,input().split()))\n",
        "cnt = 0\n",
        "for j in x:\n",
        "  error = 0\n",
        "  if j > 1:\n",
        "    for i in range(2,j):\n",
        "      if j%i == 0:\n",
        "        error += 1\n",
        "    if error ==0:\n",
        "      cnt += 1\n",
        "\n",
        "print(cnt)"
      ],
      "metadata": {
        "colab": {
          "base_uri": "https://localhost:8080/"
        },
        "id": "h5crMPIgjcdH",
        "outputId": "98c5089c-172a-43bd-e4fb-92d4c9db7530"
      },
      "execution_count": 96,
      "outputs": [
        {
          "output_type": "stream",
          "name": "stdout",
          "text": [
            "4\n",
            "2 4 6 8\n",
            "1\n"
          ]
        }
      ]
    },
    {
      "cell_type": "code",
      "source": [
        "T"
      ],
      "metadata": {
        "colab": {
          "base_uri": "https://localhost:8080/"
        },
        "id": "wlukNw-qjeFm",
        "outputId": "d09d893d-24ee-46af-e457-449bec283291"
      },
      "execution_count": 93,
      "outputs": [
        {
          "output_type": "execute_result",
          "data": {
            "text/plain": [
              "4"
            ]
          },
          "metadata": {},
          "execution_count": 93
        }
      ]
    },
    {
      "cell_type": "code",
      "source": [],
      "metadata": {
        "id": "uz-czNoroWjt"
      },
      "execution_count": null,
      "outputs": []
    }
  ]
}