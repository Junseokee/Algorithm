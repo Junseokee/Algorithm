{
  "nbformat": 4,
  "nbformat_minor": 0,
  "metadata": {
    "colab": {
      "provenance": [],
      "authorship_tag": "ABX9TyMrYRE4XmzexAa2YElqFTLA",
      "include_colab_link": true
    },
    "kernelspec": {
      "name": "python3",
      "display_name": "Python 3"
    },
    "language_info": {
      "name": "python"
    }
  },
  "cells": [
    {
      "cell_type": "markdown",
      "metadata": {
        "id": "view-in-github",
        "colab_type": "text"
      },
      "source": [
        "<a href=\"https://colab.research.google.com/github/Junseokee/Algorithm/blob/main/221111.ipynb\" target=\"_parent\"><img src=\"https://colab.research.google.com/assets/colab-badge.svg\" alt=\"Open In Colab\"/></a>"
      ]
    },
    {
      "cell_type": "markdown",
      "source": [
        "## 10807\n",
        "문제\n",
        "총 N개의 정수가 주어졌을 때, 정수 v가 몇 개인지 구하는 프로그램을 작성하시오.\n",
        "\n",
        "입력\n",
        "첫째 줄에 정수의 개수 N(1 ≤ N ≤ 100)이 주어진다. 둘째 줄에는 정수가 공백으로 구분되어져있다. 셋째 줄에는 찾으려고 하는 정수 v가 주어진다. 입력으로 주어지는 정수와 v는 -100보다 크거나 같으며, 100보다 작거나 같다.\n",
        "\n",
        "출력\n",
        "첫째 줄에 입력으로 주어진 N개의 정수 중에 v가 몇 개인지 출력한다."
      ],
      "metadata": {
        "id": "bJcVDgnbJI6j"
      }
    },
    {
      "cell_type": "code",
      "execution_count": 12,
      "metadata": {
        "colab": {
          "base_uri": "https://localhost:8080/"
        },
        "id": "gausLxWVHLde",
        "outputId": "f8622917-e366-4717-e19a-f93da768f441"
      },
      "outputs": [
        {
          "name": "stdout",
          "output_type": "stream",
          "text": [
            "11\n",
            "1 4 1 2 4 2 4 2 3 4 4\n",
            "5\n"
          ]
        },
        {
          "output_type": "execute_result",
          "data": {
            "text/plain": [
              "0"
            ]
          },
          "metadata": {},
          "execution_count": 12
        }
      ],
      "source": [
        "N = int(input())\n",
        "num = list(map(int,input().split(\" \")))\n",
        "sh = int(input())\n",
        "print(num.count(sh))"
      ]
    },
    {
      "cell_type": "code",
      "source": [
        "count = 0\n",
        "for i in num:\n",
        "  if i == sh:\n",
        "    count += 1\n",
        "count    "
      ],
      "metadata": {
        "id": "MiDoCmIPHoZT"
      },
      "execution_count": 18,
      "outputs": []
    },
    {
      "cell_type": "code",
      "source": [
        "sh"
      ],
      "metadata": {
        "colab": {
          "base_uri": "https://localhost:8080/"
        },
        "id": "wptNYpD2HzWJ",
        "outputId": "f35477d6-7a3a-407c-91ea-156116580264"
      },
      "execution_count": 17,
      "outputs": [
        {
          "output_type": "execute_result",
          "data": {
            "text/plain": [
              "5"
            ]
          },
          "metadata": {},
          "execution_count": 17
        }
      ]
    },
    {
      "cell_type": "markdown",
      "source": [
        "## 과제 안 내신 분..? 5597\n",
        "문제\n",
        "X대학 M교수님은 프로그래밍 수업을 맡고 있다. 교실엔 학생이 30명이 있는데, 학생 명부엔 각 학생별로 1번부터 30번까지 출석번호가 붙어 있다.\n",
        "\n",
        "교수님이 내준 특별과제를 28명이 제출했는데, 그 중에서 제출 안 한 학생 2명의 출석번호를 구하는 프로그램을 작성하시오.\n",
        "\n",
        "입력\n",
        "입력은 총 28줄로 각 제출자(학생)의 출석번호 n(1 ≤ n ≤ 30)가 한 줄에 하나씩 주어진다. 출석번호에 중복은 없다.\n",
        "\n",
        "출력\n",
        "출력은 2줄이다. 1번째 줄엔 제출하지 않은 학생의 출석번호 중 가장 작은 것을 출력하고, 2번째 줄에선 그 다음 출석번호를 출력한다."
      ],
      "metadata": {
        "id": "qj2fN7g_Py82"
      }
    },
    {
      "cell_type": "code",
      "source": [
        "a = [1,2,3,4,5,6,7,8,9,10,11,12,13,14,15,16,17,18,19,20,21,22,23,24,25,26,27,28,29,30]\n",
        "b = []\n",
        "c = []\n",
        "for i in range(1,29):\n",
        "  b.append(int(input()))\n",
        "\n",
        "for i in a:\n",
        "  if i not in b:\n",
        "    c.append(i)\n",
        "c.sort()\n",
        "for i in c:\n",
        "  print(i)"
      ],
      "metadata": {
        "colab": {
          "base_uri": "https://localhost:8080/"
        },
        "id": "W_vFapwRKASg",
        "outputId": "ba64e904-acc8-4771-c42d-89ed903785b5"
      },
      "execution_count": 32,
      "outputs": [
        {
          "output_type": "stream",
          "name": "stdout",
          "text": [
            "9\n",
            "30\n",
            "6\n",
            "12\n",
            "10\n",
            "20\n",
            "21\n",
            "11\n",
            "7\n",
            "5\n",
            "28\n",
            "4\n",
            "18\n",
            "29\n",
            "17\n",
            "19\n",
            "27\n",
            "13\n",
            "16\n",
            "26\n",
            "14\n",
            "23\n",
            "22\n",
            "15\n",
            "3\n",
            "1\n",
            "24\n",
            "25\n",
            "[2, 8]\n"
          ]
        }
      ]
    },
    {
      "cell_type": "code",
      "source": [
        "c.sort()\n",
        "c"
      ],
      "metadata": {
        "colab": {
          "base_uri": "https://localhost:8080/"
        },
        "id": "KLn6Kjx3RYYU",
        "outputId": "5b85a006-c826-417b-b4e4-4a6d0f52175b"
      },
      "execution_count": 33,
      "outputs": [
        {
          "output_type": "execute_result",
          "data": {
            "text/plain": [
              "[2, 8]"
            ]
          },
          "metadata": {},
          "execution_count": 33
        }
      ]
    },
    {
      "cell_type": "code",
      "source": [
        "c.sort()\n",
        "for i in c:\n",
        "  print(i)"
      ],
      "metadata": {
        "colab": {
          "base_uri": "https://localhost:8080/"
        },
        "id": "BmBbDCpfRYhs",
        "outputId": "b871cb72-62ee-42b7-ba4c-756f12776c11"
      },
      "execution_count": 34,
      "outputs": [
        {
          "output_type": "stream",
          "name": "stdout",
          "text": [
            "2\n",
            "8\n"
          ]
        }
      ]
    },
    {
      "cell_type": "markdown",
      "source": [
        "## 소수 2581\n",
        "문제\n",
        "자연수 M과 N이 주어질 때 M이상 N이하의 자연수 중 소수인 것을 모두 골라 이들 소수의 합과 최솟값을 찾는 프로그램을 작성하시오.\n",
        "\n",
        "예를 들어 M=60, N=100인 경우 60이상 100이하의 자연수 중 소수는 61, 67, 71, 73, 79, 83, 89, 97 총 8개가 있으므로, 이들 소수의 합은 620이고, 최솟값은 61이 된다.\n",
        "\n",
        "입력\n",
        "입력의 첫째 줄에 M이, 둘째 줄에 N이 주어진다.\n",
        "\n",
        "M과 N은 10,000이하의 자연수이며, M은 N보다 작거나 같다.\n",
        "\n",
        "출력\n",
        "M이상 N이하의 자연수 중 소수인 것을 모두 찾아 첫째 줄에 그 합을, 둘째 줄에 그 중 최솟값을 출력한다. \n",
        "\n",
        "단, M이상 N이하의 자연수 중 소수가 없을 경우는 첫째 줄에 -1을 출력한다."
      ],
      "metadata": {
        "id": "Hl4yRVJvV34t"
      }
    },
    {
      "cell_type": "code",
      "source": [
        "M = int(input())\n",
        "N = int(input())\n"
      ],
      "metadata": {
        "colab": {
          "base_uri": "https://localhost:8080/"
        },
        "id": "Q9IG3qbhRYk9",
        "outputId": "04c4a51e-c453-4a34-d58d-736db7c4f101"
      },
      "execution_count": 35,
      "outputs": [
        {
          "name": "stdout",
          "output_type": "stream",
          "text": [
            "60\n",
            "100\n"
          ]
        }
      ]
    },
    {
      "cell_type": "code",
      "source": [
        "import math\n",
        "\n",
        "M = int(input())\n",
        "N = int(input())\n",
        "\n",
        "# 소수 판별 함수(에라토스테네스의 체)\n",
        "def prime_number(n):\n",
        "  # 2부터 n까지의 모든 수에 대하여 소수 판별\n",
        "  array = [True for i in range(n+1)]\n",
        "  # 에라토스테네스의 체 (2 부터 n의 제곱근까지의 모든 수 확인)\n",
        "  for i in range(2, int(math.sqrt(n)) + 1):\n",
        "    # i가 소수인 경우\n",
        "    if array[i] == True:\n",
        "      # i를 제외한 i의 모든 배수를 지우기\n",
        "      j = 2\n",
        "      while i * j <= n:\n",
        "        array[i*j] = False\n",
        "        j += 1\n",
        "  return [ i for i in range(2,n+1) if array[i]]\n",
        "\n",
        "lst = prime_number(N)\n",
        "Mlst = []\n",
        "for i in lst:\n",
        "  if i >=M:\n",
        "    Mlst.append(i)\n",
        "if len(Mlst)!=0:\n",
        "  print(sum(Mlst))\n",
        "  print(min(Mlst))  \n",
        "else:\n",
        "  print(-1)\n"
      ],
      "metadata": {
        "colab": {
          "base_uri": "https://localhost:8080/"
        },
        "id": "JNA-jjlWRYn9",
        "outputId": "be45df9a-0c12-4b49-cfeb-adc5d2e1ee59"
      },
      "execution_count": 66,
      "outputs": [
        {
          "output_type": "stream",
          "name": "stdout",
          "text": [
            "64\n",
            "65\n",
            "-1\n"
          ]
        }
      ]
    },
    {
      "cell_type": "code",
      "source": [
        "import math\n",
        "\n",
        "n = 100\n",
        "m = 60\n",
        "array = [True for i in range(n+1)]\n",
        "# 에라토스테네스의 체 (2 부터 n의 제곱근까지의 모든 수 확인)\n",
        "for i in range(2, int(math.sqrt(n)) + 1):\n",
        "  # i가 소수인 경우\n",
        "  if array[i] == True:\n",
        "    # i를 제외한 i의 모든 배수를 지우기\n",
        "    j = 2\n",
        "    while i * j <= n:\n",
        "      array[i*j] = False\n",
        "      j += 1\n",
        "    [ i for i in range(2,n+1) if array[i]]"
      ],
      "metadata": {
        "colab": {
          "base_uri": "https://localhost:8080/",
          "height": 136
        },
        "id": "5bohX8a-RYqz",
        "outputId": "0193ed91-4b34-43d0-e65a-d0990b8e5e9c"
      },
      "execution_count": 48,
      "outputs": [
        {
          "output_type": "error",
          "ename": "SyntaxError",
          "evalue": "ignored",
          "traceback": [
            "\u001b[0;36m  File \u001b[0;32m\"<ipython-input-48-baa6bb2d070a>\"\u001b[0;36m, line \u001b[0;32m15\u001b[0m\n\u001b[0;31m    print(if [ i for i in range(2,n+1) if array[i]] <= 60)\u001b[0m\n\u001b[0m           ^\u001b[0m\n\u001b[0;31mSyntaxError\u001b[0m\u001b[0;31m:\u001b[0m invalid syntax\n"
          ]
        }
      ]
    },
    {
      "cell_type": "code",
      "source": [
        "M = 100\n",
        "N = 60\n",
        "lst = prime_number(M)\n",
        "Mlst = []\n",
        "for i in lst:\n",
        "  if i >=N:\n",
        "    Mlst.append(i)\n",
        "print(sum(Mlst))\n",
        "print(min(Mlst))"
      ],
      "metadata": {
        "colab": {
          "base_uri": "https://localhost:8080/"
        },
        "id": "Vwpt5800ZOZC",
        "outputId": "722ce1b3-b6b8-4473-bfc3-47e90ca6c82c"
      },
      "execution_count": 63,
      "outputs": [
        {
          "output_type": "stream",
          "name": "stdout",
          "text": [
            "620\n",
            "61\n"
          ]
        }
      ]
    },
    {
      "cell_type": "code",
      "source": [],
      "metadata": {
        "colab": {
          "base_uri": "https://localhost:8080/"
        },
        "id": "Y1_RR-WoePDB",
        "outputId": "c21f36ec-981a-4638-89e8-9ca959feea4e"
      },
      "execution_count": 61,
      "outputs": [
        {
          "output_type": "execute_result",
          "data": {
            "text/plain": [
              "620"
            ]
          },
          "metadata": {},
          "execution_count": 61
        }
      ]
    },
    {
      "cell_type": "code",
      "source": [],
      "metadata": {
        "id": "z-ZZO8tdkAQN"
      },
      "execution_count": null,
      "outputs": []
    }
  ]
}