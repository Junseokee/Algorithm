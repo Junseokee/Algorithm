{
  "nbformat": 4,
  "nbformat_minor": 0,
  "metadata": {
    "colab": {
      "provenance": [],
      "authorship_tag": "ABX9TyNQf5sQsdfPqM1Tuw4AxrYq",
      "include_colab_link": true
    },
    "kernelspec": {
      "name": "python3",
      "display_name": "Python 3"
    },
    "language_info": {
      "name": "python"
    }
  },
  "cells": [
    {
      "cell_type": "markdown",
      "metadata": {
        "id": "view-in-github",
        "colab_type": "text"
      },
      "source": [
        "<a href=\"https://colab.research.google.com/github/Junseokee/Algorithm/blob/main/%EC%8A%A4%ED%83%9D.ipynb\" target=\"_parent\"><img src=\"https://colab.research.google.com/assets/colab-badge.svg\" alt=\"Open In Colab\"/></a>"
      ]
    },
    {
      "cell_type": "markdown",
      "source": [
        "## 10828번\n",
        "#### 문제\n",
        "정수를 저장하는 스택을 구현한 다음, 입력으로 주어지는 명령을 처리하는 프로그램을 작성하시오.\n",
        "\n",
        "명령은 총 다섯 가지이다.\n",
        "\n",
        "- push X: 정수 X를 스택에 넣는 연산이다.\n",
        "- pop: 스택에서 가장 위에 있는 정수를 빼고, 그 수를 출력한다. 만약 스택에 들어있는 정수가 없는 경우에는 -1을 출력한다.\n",
        "- size: 스택에 들어있는 정수의 개수를 출력한다.\n",
        "- empty: 스택이 비어있으면 1, 아니면 0을 출력한다.\n",
        "- top: 스택의 가장 위에 있는 정수를 출력한다. 만약 스택에 들어있는 정수가 없는 경우에는 -1을 출력한다.\n",
        "#### 입력\n",
        "첫째 줄에 주어지는 명령의 수 N (1 ≤ N ≤ 10,000)이 주어진다. 둘째 줄부터 N개의 줄에는 명령이 하나씩 주어진다. 주어지는 정수는 1보다 크거나 같고, 100,000보다 작거나 같다. 문제에 나와있지 않은 명령이 주어지는 경우는 없다.\n",
        "\n",
        "#### 출력\n",
        "출력해야하는 명령이 주어질 때마다, 한 줄에 하나씩 출력한다."
      ],
      "metadata": {
        "id": "GkkJKVinkdRu"
      }
    },
    {
      "cell_type": "code",
      "source": [
        "def order_stack(order):\n",
        "  if order[0] in 'push':\n",
        "    stack.append(int(order[1]))\n",
        "  elif order[0] in 'pop':\n",
        "    if len(stack) == 0:\n",
        "      print(-1)\n",
        "    else:\n",
        "      print(stack[-1])\n",
        "      stack.pop()\n",
        "  elif order[0] in 'size':\n",
        "    print(len(stack))\n",
        "  elif order[0] in 'empty':\n",
        "    if len(stack) ==0:\n",
        "      print('1')\n",
        "    else:\n",
        "      print('0')\n",
        "  elif order[0] in 'top':\n",
        "    if len(stack) ==0:\n",
        "      print('-1')\n",
        "    else:\n",
        "      print(stack[-1])\n",
        "  else:\n",
        "    pass"
      ],
      "metadata": {
        "id": "ZUHf9uJsoj57"
      },
      "execution_count": 8,
      "outputs": []
    },
    {
      "cell_type": "code",
      "execution_count": 6,
      "metadata": {
        "colab": {
          "base_uri": "https://localhost:8080/"
        },
        "id": "N8qrEoXSkXAs",
        "outputId": "60beb774-2248-4cd2-e583-667c87439ac3"
      },
      "outputs": [
        {
          "output_type": "stream",
          "name": "stdout",
          "text": [
            "14\n",
            "pop\n",
            "-1\n",
            "push 1\n",
            "push 2\n",
            "top\n",
            "2\n",
            "size\n",
            "2\n",
            "empty\n",
            "0\n",
            "pop\n",
            "2\n",
            "pop\n",
            "1\n",
            "pop\n",
            "-1\n",
            "size\n",
            "0\n",
            "empty\n",
            "1\n",
            "pop\n",
            "-1\n",
            "push 3\n",
            "empty\n",
            "0\n"
          ]
        }
      ],
      "source": [
        "N = int(input())\n",
        "stack = []\n",
        "for i in range(N):\n",
        "  a = input().split(' ')\n",
        "  order_stack(a)"
      ]
    },
    {
      "cell_type": "code",
      "source": [
        "N = int(input())\n",
        "stack = []\n",
        "for i in range(N):\n",
        "  order = input().split(' ')\n",
        "  if order[0] in 'push':\n",
        "    stack.append(int(order[1]))\n",
        "  elif order[0] in 'pop':\n",
        "    if len(stack) == 0:\n",
        "      print(-1)\n",
        "    else:\n",
        "      print(stack[-1])\n",
        "      stack.pop()\n",
        "  elif order[0] in 'size':\n",
        "    print(len(stack))\n",
        "  elif order[0] in 'empty':\n",
        "    if len(stack) ==0:\n",
        "      print('1')\n",
        "    else:\n",
        "      print('0')\n",
        "  elif order[0] in 'top':\n",
        "    if len(stack) ==0:\n",
        "      print('-1')\n",
        "    else:\n",
        "      print(stack[-1])"
      ],
      "metadata": {
        "colab": {
          "base_uri": "https://localhost:8080/"
        },
        "id": "1u2eI1rOlnOI",
        "outputId": "72b9774e-b0c4-4cec-87af-cea83fe7e18c"
      },
      "execution_count": 14,
      "outputs": [
        {
          "output_type": "stream",
          "name": "stdout",
          "text": [
            "7\n",
            "pop\n",
            "-1\n",
            "top\n",
            "-1\n",
            "push 123\n",
            "-1\n",
            "top\n",
            "-1\n",
            "pop\n",
            "-1\n",
            "top\n",
            "-1\n",
            "pop\n",
            "-1\n"
          ]
        }
      ]
    },
    {
      "cell_type": "markdown",
      "source": [
        "##"
      ],
      "metadata": {
        "id": "lJSRaY0Hu8oL"
      }
    },
    {
      "cell_type": "code",
      "source": [],
      "metadata": {
        "id": "Mv85MchkmZFx"
      },
      "execution_count": null,
      "outputs": []
    }
  ]
}