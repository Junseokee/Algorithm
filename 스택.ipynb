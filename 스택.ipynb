{
  "nbformat": 4,
  "nbformat_minor": 0,
  "metadata": {
    "colab": {
      "provenance": [],
      "authorship_tag": "ABX9TyOe5SQd5lm+5YksaiaZh8zI",
      "include_colab_link": true
    },
    "kernelspec": {
      "name": "python3",
      "display_name": "Python 3"
    },
    "language_info": {
      "name": "python"
    }
  },
  "cells": [
    {
      "cell_type": "markdown",
      "metadata": {
        "id": "view-in-github",
        "colab_type": "text"
      },
      "source": [
        "<a href=\"https://colab.research.google.com/github/Junseokee/Algorithm/blob/main/%EC%8A%A4%ED%83%9D.ipynb\" target=\"_parent\"><img src=\"https://colab.research.google.com/assets/colab-badge.svg\" alt=\"Open In Colab\"/></a>"
      ]
    },
    {
      "cell_type": "markdown",
      "source": [
        "## 10828번\n",
        "#### 문제\n",
        "정수를 저장하는 스택을 구현한 다음, 입력으로 주어지는 명령을 처리하는 프로그램을 작성하시오.\n",
        "\n",
        "명령은 총 다섯 가지이다.\n",
        "\n",
        "- push X: 정수 X를 스택에 넣는 연산이다.\n",
        "- pop: 스택에서 가장 위에 있는 정수를 빼고, 그 수를 출력한다. 만약 스택에 들어있는 정수가 없는 경우에는 -1을 출력한다.\n",
        "- size: 스택에 들어있는 정수의 개수를 출력한다.\n",
        "- empty: 스택이 비어있으면 1, 아니면 0을 출력한다.\n",
        "- top: 스택의 가장 위에 있는 정수를 출력한다. 만약 스택에 들어있는 정수가 없는 경우에는 -1을 출력한다.\n",
        "#### 입력\n",
        "첫째 줄에 주어지는 명령의 수 N (1 ≤ N ≤ 10,000)이 주어진다. 둘째 줄부터 N개의 줄에는 명령이 하나씩 주어진다. 주어지는 정수는 1보다 크거나 같고, 100,000보다 작거나 같다. 문제에 나와있지 않은 명령이 주어지는 경우는 없다.\n",
        "\n",
        "#### 출력\n",
        "출력해야하는 명령이 주어질 때마다, 한 줄에 하나씩 출력한다."
      ],
      "metadata": {
        "id": "GkkJKVinkdRu"
      }
    },
    {
      "cell_type": "code",
      "source": [
        "def order_stack(order):\n",
        "  if order[0] in 'push':\n",
        "    stack.append(int(order[1]))\n",
        "  elif order[0] in 'pop':\n",
        "    if len(stack) == 0:\n",
        "      print(-1)\n",
        "    else:\n",
        "      print(stack[-1])\n",
        "      stack.pop()\n",
        "  elif order[0] in 'size':\n",
        "    print(len(stack))\n",
        "  elif order[0] in 'empty':\n",
        "    if len(stack) ==0:\n",
        "      print('1')\n",
        "    else:\n",
        "      print('0')\n",
        "  elif order[0] in 'top':\n",
        "    if len(stack) ==0:\n",
        "      print('-1')\n",
        "    else:\n",
        "      print(stack[-1])\n",
        "  else:\n",
        "    pass"
      ],
      "metadata": {
        "id": "ZUHf9uJsoj57"
      },
      "execution_count": null,
      "outputs": []
    },
    {
      "cell_type": "code",
      "execution_count": null,
      "metadata": {
        "colab": {
          "base_uri": "https://localhost:8080/"
        },
        "id": "N8qrEoXSkXAs",
        "outputId": "60beb774-2248-4cd2-e583-667c87439ac3"
      },
      "outputs": [
        {
          "output_type": "stream",
          "name": "stdout",
          "text": [
            "14\n",
            "pop\n",
            "-1\n",
            "push 1\n",
            "push 2\n",
            "top\n",
            "2\n",
            "size\n",
            "2\n",
            "empty\n",
            "0\n",
            "pop\n",
            "2\n",
            "pop\n",
            "1\n",
            "pop\n",
            "-1\n",
            "size\n",
            "0\n",
            "empty\n",
            "1\n",
            "pop\n",
            "-1\n",
            "push 3\n",
            "empty\n",
            "0\n"
          ]
        }
      ],
      "source": [
        "N = int(input())\n",
        "stack = []\n",
        "for i in range(N):\n",
        "  a = input().split(' ')\n",
        "  order_stack(a)"
      ]
    },
    {
      "cell_type": "code",
      "source": [
        "N = int(input())\n",
        "stack = []\n",
        "for i in range(N):\n",
        "  order = input().split(' ')\n",
        "  if order[0] in 'push':\n",
        "    stack.append(int(order[1]))\n",
        "  elif order[0] in 'pop':\n",
        "    if len(stack) == 0:\n",
        "      print(-1)\n",
        "    else:\n",
        "      print(stack[-1])\n",
        "      stack.pop()\n",
        "  elif order[0] in 'size':\n",
        "    print(len(stack))\n",
        "  elif order[0] in 'empty':\n",
        "    if len(stack) ==0:\n",
        "      print('1')\n",
        "    else:\n",
        "      print('0')\n",
        "  elif order[0] in 'top':\n",
        "    if len(stack) ==0:\n",
        "      print('-1')\n",
        "    else:\n",
        "      print(stack[-1])"
      ],
      "metadata": {
        "colab": {
          "base_uri": "https://localhost:8080/"
        },
        "id": "1u2eI1rOlnOI",
        "outputId": "72b9774e-b0c4-4cec-87af-cea83fe7e18c"
      },
      "execution_count": null,
      "outputs": [
        {
          "output_type": "stream",
          "name": "stdout",
          "text": [
            "7\n",
            "pop\n",
            "-1\n",
            "top\n",
            "-1\n",
            "push 123\n",
            "-1\n",
            "top\n",
            "-1\n",
            "pop\n",
            "-1\n",
            "top\n",
            "-1\n",
            "pop\n",
            "-1\n"
          ]
        }
      ]
    },
    {
      "cell_type": "markdown",
      "source": [
        "## 10773 제로\n",
        "#### 문제\n",
        "나코더 기장 재민이는 동아리 회식을 준비하기 위해서 장부를 관리하는 중이다.\n",
        "\n",
        "재현이는 재민이를 도와서 돈을 관리하는 중인데, 애석하게도 항상 정신없는 재현이는 돈을 실수로 잘못 부르는 사고를 치기 일쑤였다.\n",
        "\n",
        "재현이는 잘못된 수를 부를 때마다 0을 외쳐서, 가장 최근에 재민이가 쓴 수를 지우게 시킨다.\n",
        "\n",
        "재민이는 이렇게 모든 수를 받아 적은 후 그 수의 합을 알고 싶어 한다. 재민이를 도와주자!\n",
        "\n",
        "#### 입력\n",
        "첫 번째 줄에 정수 K가 주어진다. (1 ≤ K ≤ 100,000)\n",
        "\n",
        "이후 K개의 줄에 정수가 1개씩 주어진다. 정수는 0에서 1,000,000 사이의 값을 가지며, 정수가 \"0\" 일 경우에는 가장 최근에 쓴 수를 지우고, 아닐 경우 해당 수를 쓴다.\n",
        "\n",
        "정수가 \"0\"일 경우에 지울 수 있는 수가 있음을 보장할 수 있다.\n",
        "\n",
        "#### 출력\n",
        "재민이가 최종적으로 적어 낸 수의 합을 출력한다. 최종적으로 적어낸 수의 합은 231-1보다 작거나 같은 정수이다."
      ],
      "metadata": {
        "id": "lJSRaY0Hu8oL"
      }
    },
    {
      "cell_type": "code",
      "source": [
        "K = int(input())\n",
        "num = []\n",
        "for i in range(K):\n",
        "  n = int(input())\n",
        "  if n == 0:\n",
        "    num.pop()\n",
        "  else:\n",
        "    num.append(n)\n",
        "print(sum(num))"
      ],
      "metadata": {
        "id": "Mv85MchkmZFx",
        "colab": {
          "base_uri": "https://localhost:8080/"
        },
        "outputId": "ca3c5c24-08df-49fd-b0a7-3f95f4986d77"
      },
      "execution_count": 2,
      "outputs": [
        {
          "output_type": "stream",
          "name": "stdout",
          "text": [
            "10\n",
            "1\n",
            "3\n",
            "5\n",
            "4\n",
            "0\n",
            "0\n",
            "7\n",
            "0\n",
            "0\n",
            "6\n",
            "7\n"
          ]
        }
      ]
    },
    {
      "cell_type": "markdown",
      "source": [
        "## 9012번 괄호\n",
        "\n",
        "#### 문제\n",
        "괄호 문자열(Parenthesis String, PS)은 두 개의 괄호 기호인 ‘(’ 와 ‘)’ 만으로 구성되어 있는 문자열이다. 그 중에서 괄호의 모양이 바르게 구성된 문자열을 올바른 괄호 문자열(Valid PS, VPS)이라고 부른다. 한 쌍의 괄호 기호로 된 “( )” 문자열은 기본 VPS 이라고 부른다. 만일 x 가 VPS 라면 이것을 하나의 괄호에 넣은 새로운 문자열 “(x)”도 VPS 가 된다. 그리고 두 VPS x 와 y를 접합(concatenation)시킨 새로운 문자열 xy도 VPS 가 된다. 예를 들어 “(())()”와 “((()))” 는 VPS 이지만 “(()(”, “(())()))” , 그리고 “(()” 는 모두 VPS 가 아닌 문자열이다. \n",
        "\n",
        "여러분은 입력으로 주어진 괄호 문자열이 VPS 인지 아닌지를 판단해서 그 결과를 YES 와 NO 로 나타내어야 한다. \n",
        "\n",
        "#### 입력\n",
        "입력 데이터는 표준 입력을 사용한다. 입력은 T개의 테스트 데이터로 주어진다. 입력의 첫 번째 줄에는 입력 데이터의 수를 나타내는 정수 T가 주어진다. 각 테스트 데이터의 첫째 줄에는 괄호 문자열이 한 줄에 주어진다. 하나의 괄호 문자열의 길이는 2 이상 50 이하이다. \n",
        "\n",
        "#### 출력\n",
        "출력은 표준 출력을 사용한다. 만일 입력 괄호 문자열이 올바른 괄호 문자열(VPS)이면 “YES”, 아니면 “NO”를 한 줄에 하나씩 차례대로 출력해야 한다. "
      ],
      "metadata": {
        "id": "dz4-4VomBcIk"
      }
    },
    {
      "cell_type": "code",
      "source": [],
      "metadata": {
        "id": "7MuQq26fA_sv"
      },
      "execution_count": null,
      "outputs": []
    }
  ]
}