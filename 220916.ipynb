{
  "nbformat": 4,
  "nbformat_minor": 0,
  "metadata": {
    "colab": {
      "provenance": [],
      "authorship_tag": "ABX9TyOZzk4uRQkbWEsOtmtP+pQt",
      "include_colab_link": true
    },
    "kernelspec": {
      "name": "python3",
      "display_name": "Python 3"
    },
    "language_info": {
      "name": "python"
    }
  },
  "cells": [
    {
      "cell_type": "markdown",
      "metadata": {
        "id": "view-in-github",
        "colab_type": "text"
      },
      "source": [
        "<a href=\"https://colab.research.google.com/github/Junseokee/Algorithm/blob/main/220916.ipynb\" target=\"_parent\"><img src=\"https://colab.research.google.com/assets/colab-badge.svg\" alt=\"Open In Colab\"/></a>"
      ]
    },
    {
      "cell_type": "markdown",
      "source": [
        "## 2750 수 정렬하기\n",
        "\n",
        "  문제\n",
        "N개의 수가 주어졌을 때, 이를 오름차순으로 정렬하는 프로그램을 작성하시오.\n",
        "\n",
        "입력\n",
        "첫째 줄에 수의 개수 N(1 ≤ N ≤ 1,000)이 주어진다. 둘째 줄부터 N개의 줄에는 수 주어진다. 이 수는 절댓값이 1,000보다 작거나 같은 정수이다. 수는 중복되지 않는다.\n",
        "\n",
        "출력\n",
        "첫째 줄부터 N개의 줄에 오름차순으로 정렬한 결과를 한 줄에 하나씩 출력한다."
      ],
      "metadata": {
        "id": "PEytNp3tG5zb"
      }
    },
    {
      "cell_type": "code",
      "source": [
        "N = int(input())\n",
        "A = []\n",
        "for i in range(N):\n",
        "  A.append(int(input()))\n",
        "  A = sorted(A)\n",
        "for a in A:\n",
        "  print(a)"
      ],
      "metadata": {
        "colab": {
          "base_uri": "https://localhost:8080/"
        },
        "id": "FGNcY5akH7vW",
        "outputId": "c4acc88a-dcd8-402a-a077-1aeffc859d34"
      },
      "execution_count": 10,
      "outputs": [
        {
          "output_type": "stream",
          "name": "stdout",
          "text": [
            "5\n",
            "4\n",
            "3\n",
            "2\n",
            "1\n",
            "1\n",
            "2\n",
            "3\n",
            "4\n",
            "5\n"
          ]
        }
      ]
    },
    {
      "cell_type": "code",
      "source": [
        "A = sorted(A)"
      ],
      "metadata": {
        "colab": {
          "base_uri": "https://localhost:8080/"
        },
        "id": "lTgwycBcHf7h",
        "outputId": "9a67fe97-9ffd-49df-a554-bac851bbe788"
      },
      "execution_count": 9,
      "outputs": [
        {
          "output_type": "execute_result",
          "data": {
            "text/plain": [
              "[1, 2, 3, 4, 5]"
            ]
          },
          "metadata": {},
          "execution_count": 9
        }
      ]
    },
    {
      "cell_type": "markdown",
      "source": [
        "## 2751 수 정렬하기 2\n",
        "\n",
        "문제\n",
        "N개의 수가 주어졌을 때, 이를 오름차순으로 정렬하는 프로그램을 작성하시오.\n",
        "\n",
        "입력\n",
        "첫째 줄에 수의 개수 N(1 ≤ N ≤ 1,000,000)이 주어진다. 둘째 줄부터 N개의 줄에는 수가 주어진다. 이 수는 절댓값이 1,000,000보다 작거나 같은 정수이다. 수는 중복되지 않는다.\n",
        "\n",
        "출력\n",
        "첫째 줄부터 N개의 줄에 오름차순으로 정렬한 결과를 한 줄에 하나씩 출력한다."
      ],
      "metadata": {
        "id": "ZfZOAEwwIJAM"
      }
    },
    {
      "cell_type": "code",
      "source": [
        "N = int(input())\n",
        "A = []\n",
        "for i in range(N):\n",
        "  A.append(int(input()))\n",
        "A.sort()\n",
        "for a in A:\n",
        "  print(a)"
      ],
      "metadata": {
        "id": "_Mr-ja-4JH8G"
      },
      "execution_count": null,
      "outputs": []
    },
    {
      "cell_type": "code",
      "source": [
        "def merge_sort(array):\n",
        "  if len(array)<=1:\n",
        "    return array\n",
        "  mid = len(array)//2\n",
        "\n",
        "  #left는 array리스트의 인덱스 0부터 mid전까지\n",
        "  left = merge_sort(array[:mid]) \n",
        "\n",
        "  #right은 array리스트의 인덱스 mid부터 끝까지\n",
        "  right = merge_sort(array[mid:])\n",
        "\n",
        "  i, j, k = 0, 0, 0\n",
        "  arr = []\n",
        "  \n",
        "  #둘중 하나조건에 부합하지 않을경우 while문 빠져나감 \n",
        "  while i < len(left) and j < len(right): \n",
        "    if left[i] < right[j]:\n",
        "      arr.append(left[i])\n",
        "      i+=1\n",
        "    else:\n",
        "      arr.append(right[j])\n",
        "      j+=1\n",
        "\n",
        "#while문 빠져 나온 후, left혹은 right에 남은 요소들 arr에 넣어주기\n",
        "  arr += left[i:] \n",
        "  arr += right[j:]\n",
        " \n",
        "  return arr\n",
        "\n",
        "N = int(input())\n",
        "arr=[]\n",
        "\n",
        "for _ in range(N):\n",
        "  arr.append(int(input()))\n",
        "\n",
        "arr = merge_sort(arr)\n",
        "\n",
        "for i in arr:\n",
        "  print(i)"
      ],
      "metadata": {
        "id": "_YLtFK7nLQXJ"
      },
      "execution_count": null,
      "outputs": []
    },
    {
      "cell_type": "markdown",
      "source": [
        "## 25305 커트라인\n",
        "\n",
        "문제\n",
        "2022 연세대학교 미래캠퍼스 슬기로운 코딩생활에 $N$명의 학생들이 응시했다.\n",
        "\n",
        "이들 중 점수가 가장 높은 $k$명은 상을 받을 것이다. 이 때, 상을 받는 커트라인이 몇 점인지 구하라.\n",
        "\n",
        "커트라인이란 상을 받는 사람들 중 점수가 가장 가장 낮은 사람의 점수를 말한다.\n",
        "\n",
        "입력\n",
        "첫째 줄에는 응시자의 수 $N$과 상을 받는 사람의 수 $k$가 공백을 사이에 두고 주어진다.\n",
        "\n",
        "둘째 줄에는 각 학생의 점수 $x$가 공백을 사이에 두고 주어진다.\n",
        "\n",
        "출력\n",
        "상을 받는 커트라인을 출력하라."
      ],
      "metadata": {
        "id": "1WYzj_l7L21Z"
      }
    },
    {
      "cell_type": "code",
      "source": [
        "N, k = map(int,input().split(' '))\n",
        "print(N,k)"
      ],
      "metadata": {
        "colab": {
          "base_uri": "https://localhost:8080/"
        },
        "id": "vAR6uvldMQBB",
        "outputId": "f19cd489-6006-4fb0-ab72-c8ba3b0feb99"
      },
      "execution_count": 14,
      "outputs": [
        {
          "output_type": "stream",
          "name": "stdout",
          "text": [
            "5 2\n",
            "5 2\n"
          ]
        }
      ]
    },
    {
      "cell_type": "code",
      "source": [
        "score = []\n",
        "for i in range(N):\n",
        "  score.append(int(input()))"
      ],
      "metadata": {
        "colab": {
          "base_uri": "https://localhost:8080/"
        },
        "id": "abyHicReMXzb",
        "outputId": "1fa043f9-8d1d-463a-ab33-8b0fb1917c63"
      },
      "execution_count": 15,
      "outputs": [
        {
          "name": "stdout",
          "output_type": "stream",
          "text": [
            "100\n",
            "76\n",
            "85\n",
            "93\n",
            "98\n"
          ]
        }
      ]
    },
    {
      "cell_type": "code",
      "source": [
        "score.sort(reverse=True)"
      ],
      "metadata": {
        "id": "xss2qU54MxJW"
      },
      "execution_count": 28,
      "outputs": []
    },
    {
      "cell_type": "code",
      "source": [
        "print(score[k-1])"
      ],
      "metadata": {
        "colab": {
          "base_uri": "https://localhost:8080/"
        },
        "id": "zZx0poMSM0cQ",
        "outputId": "e64f5e1e-97cc-42f9-fddc-a9f054dbb567"
      },
      "execution_count": 30,
      "outputs": [
        {
          "output_type": "stream",
          "name": "stdout",
          "text": [
            "98\n"
          ]
        }
      ]
    },
    {
      "cell_type": "code",
      "source": [
        "N, k = map(int,input().split(' '))\n",
        "print(N,k)\n",
        "score = []\n",
        "\n",
        "score.sort(reverse=True)\n",
        "print(score[k-1])"
      ],
      "metadata": {
        "colab": {
          "base_uri": "https://localhost:8080/",
          "height": 263
        },
        "id": "rthLjp16M9OY",
        "outputId": "e5d7303f-8a84-449f-940d-b9816e95102b"
      },
      "execution_count": 32,
      "outputs": [
        {
          "name": "stdout",
          "output_type": "stream",
          "text": [
            "5 2\n",
            "5 2\n",
            "100 76 85 93 98\n"
          ]
        },
        {
          "output_type": "error",
          "ename": "IndexError",
          "evalue": "ignored",
          "traceback": [
            "\u001b[0;31m---------------------------------------------------------------------------\u001b[0m",
            "\u001b[0;31mIndexError\u001b[0m                                Traceback (most recent call last)",
            "\u001b[0;32m<ipython-input-32-7bdb81f29ab9>\u001b[0m in \u001b[0;36m<module>\u001b[0;34m\u001b[0m\n\u001b[1;32m      4\u001b[0m \u001b[0mscore\u001b[0m\u001b[0;34m.\u001b[0m\u001b[0mappend\u001b[0m\u001b[0;34m(\u001b[0m\u001b[0mmap\u001b[0m\u001b[0;34m(\u001b[0m\u001b[0mint\u001b[0m\u001b[0;34m,\u001b[0m\u001b[0minput\u001b[0m\u001b[0;34m(\u001b[0m\u001b[0;34m)\u001b[0m\u001b[0;34m.\u001b[0m\u001b[0msplit\u001b[0m\u001b[0;34m(\u001b[0m\u001b[0;34m' '\u001b[0m\u001b[0;34m)\u001b[0m\u001b[0;34m)\u001b[0m\u001b[0;34m)\u001b[0m\u001b[0;34m\u001b[0m\u001b[0;34m\u001b[0m\u001b[0m\n\u001b[1;32m      5\u001b[0m \u001b[0mscore\u001b[0m\u001b[0;34m.\u001b[0m\u001b[0msort\u001b[0m\u001b[0;34m(\u001b[0m\u001b[0mreverse\u001b[0m\u001b[0;34m=\u001b[0m\u001b[0;32mTrue\u001b[0m\u001b[0;34m)\u001b[0m\u001b[0;34m\u001b[0m\u001b[0;34m\u001b[0m\u001b[0m\n\u001b[0;32m----> 6\u001b[0;31m \u001b[0mprint\u001b[0m\u001b[0;34m(\u001b[0m\u001b[0mscore\u001b[0m\u001b[0;34m[\u001b[0m\u001b[0mk\u001b[0m\u001b[0;34m-\u001b[0m\u001b[0;36m1\u001b[0m\u001b[0;34m]\u001b[0m\u001b[0;34m)\u001b[0m\u001b[0;34m\u001b[0m\u001b[0;34m\u001b[0m\u001b[0m\n\u001b[0m",
            "\u001b[0;31mIndexError\u001b[0m: list index out of range"
          ]
        }
      ]
    },
    {
      "cell_type": "code",
      "source": [
        "scr = input().split(' ')\n"
      ],
      "metadata": {
        "colab": {
          "base_uri": "https://localhost:8080/"
        },
        "id": "8yWOXBf4NU71",
        "outputId": "374e2c6b-584a-4a2f-c0a6-7ca56b933a18"
      },
      "execution_count": 38,
      "outputs": [
        {
          "name": "stdout",
          "output_type": "stream",
          "text": [
            "100 76 85 93 98\n"
          ]
        }
      ]
    },
    {
      "cell_type": "code",
      "source": [
        "N, k = map(int,input().split(' '))\n",
        "score = []\n",
        "scr = input().split(' ')\n",
        "for i in scr:\n",
        "  score.append(int(i))\n",
        "score.sort(reverse=True)\n",
        "print(score[k-1])"
      ],
      "metadata": {
        "colab": {
          "base_uri": "https://localhost:8080/"
        },
        "id": "w4eij7ARNrYF",
        "outputId": "5e4aae95-113b-46fe-e1e4-30b4fd14eec2"
      },
      "execution_count": 43,
      "outputs": [
        {
          "output_type": "stream",
          "name": "stdout",
          "text": [
            "5 2\n",
            "100 76 85 93 98\n",
            "98\n"
          ]
        }
      ]
    },
    {
      "cell_type": "code",
      "source": [],
      "metadata": {
        "id": "xLrlE2aVUBf8"
      },
      "execution_count": null,
      "outputs": []
    }
  ]
}