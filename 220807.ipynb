{
  "nbformat": 4,
  "nbformat_minor": 0,
  "metadata": {
    "colab": {
      "name": "220807.ipynb",
      "provenance": [],
      "authorship_tag": "ABX9TyNLRyGIn6LHXkNoeB7ftemf",
      "include_colab_link": true
    },
    "kernelspec": {
      "name": "python3",
      "display_name": "Python 3"
    },
    "language_info": {
      "name": "python"
    }
  },
  "cells": [
    {
      "cell_type": "markdown",
      "metadata": {
        "id": "view-in-github",
        "colab_type": "text"
      },
      "source": [
        "<a href=\"https://colab.research.google.com/github/Junseokee/Algorithm/blob/main/220807.ipynb\" target=\"_parent\"><img src=\"https://colab.research.google.com/assets/colab-badge.svg\" alt=\"Open In Colab\"/></a>"
      ]
    },
    {
      "cell_type": "markdown",
      "source": [
        "## 1000\n",
        "문제\n",
        "두 정수 A와 B를 입력받은 다음, A+B를 출력하는 프로그램을 작성하시오.\n",
        "\n",
        "입력\n",
        "첫째 줄에 A와 B가 주어진다. (0 < A, B < 10)\n",
        "\n",
        "출력\n",
        "첫째 줄에 A+B를 출력한다."
      ],
      "metadata": {
        "id": "6frnFKQTiU7n"
      }
    },
    {
      "cell_type": "code",
      "source": [
        "a,b = map(int, input().split(\" \"))\n",
        "print(a+b)"
      ],
      "metadata": {
        "colab": {
          "base_uri": "https://localhost:8080/"
        },
        "id": "Qk5VWgGgiclr",
        "outputId": "a71ae8e6-e6c0-4aa2-ee90-ebc0782762c7"
      },
      "execution_count": 4,
      "outputs": [
        {
          "output_type": "stream",
          "name": "stdout",
          "text": [
            "12312 1231\n",
            "13543\n"
          ]
        }
      ]
    },
    {
      "cell_type": "markdown",
      "source": [
        "## 1001\n",
        "문제\n",
        "두 정수 A와 B를 입력받은 다음, A-B를 출력하는 프로그램을 작성하시오.\n",
        "\n",
        "입력\n",
        "첫째 줄에 A와 B가 주어진다. (0 < A, B < 10)\n",
        "\n",
        "출력\n",
        "첫째 줄에 A-B를 출력한다."
      ],
      "metadata": {
        "id": "cWi5gMH5icjN"
      }
    },
    {
      "cell_type": "code",
      "source": [
        "a,b = map(int, input().split(\" \"))\n",
        "print(a-b)"
      ],
      "metadata": {
        "colab": {
          "base_uri": "https://localhost:8080/"
        },
        "id": "vJmEpw_Uicg1",
        "outputId": "ba00d979-b6e3-4a7b-924f-fef9f75098c2"
      },
      "execution_count": 5,
      "outputs": [
        {
          "output_type": "stream",
          "name": "stdout",
          "text": [
            "10 4\n",
            "6\n"
          ]
        }
      ]
    },
    {
      "cell_type": "markdown",
      "source": [
        "## 10998"
      ],
      "metadata": {
        "id": "5BiEg1G0iceg"
      }
    },
    {
      "cell_type": "code",
      "source": [
        "a,b = map(int, input().split(\" \"))\n",
        "print(a*b)"
      ],
      "metadata": {
        "id": "POvpq4gCiccQ"
      },
      "execution_count": null,
      "outputs": []
    },
    {
      "cell_type": "markdown",
      "source": [
        "# 1008"
      ],
      "metadata": {
        "id": "5eMGjFyOicZz"
      }
    },
    {
      "cell_type": "code",
      "source": [
        "a,b = map(int, input().split(\" \"))\n",
        "print(a/b)"
      ],
      "metadata": {
        "colab": {
          "base_uri": "https://localhost:8080/"
        },
        "id": "yPyN3wUbicVE",
        "outputId": "65b15c4f-109b-44e9-91dc-73af7a2448d3"
      },
      "execution_count": 6,
      "outputs": [
        {
          "output_type": "stream",
          "name": "stdout",
          "text": [
            "1 3\n",
            "0.3333333333333333\n"
          ]
        }
      ]
    },
    {
      "cell_type": "markdown",
      "source": [
        "## 10869 사칙연산\n",
        "문제\n",
        "두 자연수 A와 B가 주어진다. 이때, A+B, A-B, A*B, A/B(몫), A%B(나머지)를 출력하는 프로그램을 작성하시오. \n",
        "\n",
        "입력\n",
        "두 자연수 A와 B가 주어진다. (1 ≤ A, B ≤ 10,000)\n",
        "\n",
        "출력\n",
        "첫째 줄에 A+B, 둘째 줄에 A-B, 셋째 줄에 A*B, 넷째 줄에 A/B, 다섯째 줄에 A%B를 출력한다."
      ],
      "metadata": {
        "id": "nvF2p84gicTE"
      }
    },
    {
      "cell_type": "code",
      "source": [
        "a,b = map(int, input().split(\" \"))\n",
        "print(a+b)\n",
        "print(a-b)\n",
        "print(a*b)\n",
        "print(a//b)\n",
        "print(a%b)"
      ],
      "metadata": {
        "colab": {
          "base_uri": "https://localhost:8080/"
        },
        "id": "C4SQR11LicQh",
        "outputId": "afc11ec2-b6b4-4cdb-ddc8-1444ffd9459a"
      },
      "execution_count": 8,
      "outputs": [
        {
          "output_type": "stream",
          "name": "stdout",
          "text": [
            "7 3\n",
            "10\n",
            "4\n",
            "21\n",
            "2\n",
            "1\n"
          ]
        }
      ]
    },
    {
      "cell_type": "markdown",
      "source": [
        "## 10926 ??!\n",
        "문제\n",
        "준하는 사이트에 회원가입을 하다가 joonas라는 아이디가 이미 존재하는 것을 보고 놀랐다. 준하는 놀람을 ??!로 표현한다. 준하가 가입하려고 하는 사이트에 이미 존재하는 아이디가 주어졌을 때, 놀람을 표현하는 프로그램을 작성하시오.\n",
        "\n",
        "입력\n",
        "첫째 줄에 준하가 가입하려고 하는 사이트에 이미 존재하는 아이디가 주어진다. 아이디는 알파벳 소문자로만 이루어져 있으며, 길이는 50자를 넘지 않는다.\n",
        "\n",
        "출력\n",
        "첫째 줄에 준하의 놀람을 출력한다. 놀람은 아이디 뒤에 ??!를 붙여서 나타낸다."
      ],
      "metadata": {
        "id": "9xbQ-bpqicNz"
      }
    },
    {
      "cell_type": "code",
      "source": [
        "a = input()\n",
        "print('{0}??!'.format(a))"
      ],
      "metadata": {
        "colab": {
          "base_uri": "https://localhost:8080/"
        },
        "id": "Ohg9JAA3icLD",
        "outputId": "7fc29d06-ea26-49eb-9235-fdc2127198e7"
      },
      "execution_count": 11,
      "outputs": [
        {
          "output_type": "stream",
          "name": "stdout",
          "text": [
            "joonas\n",
            "joonas??!\n"
          ]
        }
      ]
    },
    {
      "cell_type": "markdown",
      "source": [
        "## 18108 1998년생인 내가 태국에서는 2541년생?!\n",
        "문제\n",
        "ICPC Bangkok Regional에 참가하기 위해 수완나품 국제공항에 막 도착한 팀 레드시프트 일행은 눈을 믿을 수 없었다. 공항의 대형 스크린에 올해가 2562년이라고 적혀 있던 것이었다.\n",
        "\n",
        "불교 국가인 태국은 불멸기원(佛滅紀元), 즉 석가모니가 열반한 해를 기준으로 연도를 세는 불기를 사용한다. 반면, 우리나라는 서기 연도를 사용하고 있다. 불기 연도가 주어질 때 이를 서기 연도로 바꿔 주는 프로그램을 작성하시오.\n",
        "\n",
        "입력\n",
        "서기 연도를 알아보고 싶은 불기 연도 y가 주어진다. (1000 ≤ y ≤ 3000)\n",
        "\n",
        "출력\n",
        "불기 연도를 서기 연도로 변환한 결과를 출력한다."
      ],
      "metadata": {
        "id": "CSV1m1HvicIQ"
      }
    },
    {
      "cell_type": "code",
      "source": [
        "a = int(input())\n",
        "print(a-543)"
      ],
      "metadata": {
        "colab": {
          "base_uri": "https://localhost:8080/"
        },
        "id": "1nBUItKGicF3",
        "outputId": "71ed9819-8c73-48e6-c7bd-215b8de7b731"
      },
      "execution_count": 16,
      "outputs": [
        {
          "output_type": "stream",
          "name": "stdout",
          "text": [
            "2541\n",
            "1998\n"
          ]
        }
      ]
    },
    {
      "cell_type": "code",
      "source": [
        "2541-1998"
      ],
      "metadata": {
        "colab": {
          "base_uri": "https://localhost:8080/"
        },
        "id": "3rBpMHT6icDf",
        "outputId": "1db00c04-db7d-4c4a-a77d-c5d12f2775a1"
      },
      "execution_count": 14,
      "outputs": [
        {
          "output_type": "execute_result",
          "data": {
            "text/plain": [
              "543"
            ]
          },
          "metadata": {},
          "execution_count": 14
        }
      ]
    },
    {
      "cell_type": "markdown",
      "source": [
        "## 3003\n",
        "문제\n",
        "동혁이는 오래된 창고를 뒤지다가 낡은 체스판과 피스를 발견했다.\n",
        "\n",
        "체스판의 먼지를 털어내고 걸레로 닦으니 그럭저럭 쓸만한 체스판이 되었다. 하지만, 검정색 피스는 모두 있었으나, 흰색 피스는 개수가 올바르지 않았다.\n",
        "\n",
        "체스는 총 16개의 피스를 사용하며, 킹 1개, 퀸 1개, 룩 2개, 비숍 2개, 나이트 2개, 폰 8개로 구성되어 있다.\n",
        "\n",
        "동혁이가 발견한 흰색 피스의 개수가 주어졌을 때, 몇 개를 더하거나 빼야 올바른 세트가 되는지 구하는 프로그램을 작성하시오.\n",
        "\n",
        "입력\n",
        "첫째 줄에 동혁이가 찾은 흰색 킹, 퀸, 룩, 비숍, 나이트, 폰의 개수가 주어진다. 이 값은 0보다 크거나 같고 10보다 작거나 같은 정수이다.\n",
        "\n",
        "출력\n",
        "첫째 줄에 입력에서 주어진 순서대로 몇 개의 피스를 더하거나 빼야 되는지를 출력한다. 만약 수가 양수라면 동혁이는 그 개수 만큼 피스를 더해야 하는 것이고, 음수라면 제거해야 하는 것이다."
      ],
      "metadata": {
        "id": "fkz_qQiXicA-"
      }
    },
    {
      "cell_type": "code",
      "source": [
        "a =  list(map(int,input().split(\" \")))\n",
        "print(1-a[0],1-a[1],2-a[2],2-a[3],2-a[4],8-a[5])"
      ],
      "metadata": {
        "colab": {
          "base_uri": "https://localhost:8080/"
        },
        "id": "3bR603CRibvr",
        "outputId": "711b06ca-cffe-4487-a033-05319f2178dd"
      },
      "execution_count": 20,
      "outputs": [
        {
          "output_type": "stream",
          "name": "stdout",
          "text": [
            "2 1 2 1 2 1\n",
            "-1 0 0 1 0 7\n"
          ]
        }
      ]
    },
    {
      "cell_type": "markdown",
      "source": [
        "## 10430\n",
        "문제\n",
        "(A+B)%C는 ((A%C) + (B%C))%C 와 같을까?\n",
        "\n",
        "(A×B)%C는 ((A%C) × (B%C))%C 와 같을까?\n",
        "\n",
        "세 수 A, B, C가 주어졌을 때, 위의 네 가지 값을 구하는 프로그램을 작성하시오.\n",
        "\n",
        "입력\n",
        "첫째 줄에 A, B, C가 순서대로 주어진다. (2 ≤ A, B, C ≤ 10000)\n",
        "\n",
        "출력\n",
        "첫째 줄에 (A+B)%C, 둘째 줄에 ((A%C) + (B%C))%C, 셋째 줄에 (A×B)%C, 넷째 줄에 ((A%C) × (B%C))%C를 출력한다."
      ],
      "metadata": {
        "id": "vd_NnrJ5nrVm"
      }
    },
    {
      "cell_type": "code",
      "source": [
        "a,b,c = map(int, input().split(\" \"))\n",
        "print((a+b)%c)\n",
        "print(((a%c)+(b%c))%c)\n",
        "print((a*b)%c)\n",
        "print(((a%c)*(b%c))%c)"
      ],
      "metadata": {
        "colab": {
          "base_uri": "https://localhost:8080/"
        },
        "id": "JKNqxeoHnrT5",
        "outputId": "92c2ac78-45d6-4338-b2c7-ce4c00a31c90"
      },
      "execution_count": 22,
      "outputs": [
        {
          "output_type": "stream",
          "name": "stdout",
          "text": [
            "5 8 4\n",
            "1\n",
            "1\n",
            "0\n",
            "0\n"
          ]
        }
      ]
    },
    {
      "cell_type": "markdown",
      "source": [
        "# 2588\n",
        "\n",
        "문제\n",
        "(세 자리 수) × (세 자리 수)는 다음과 같은 과정을 통하여 이루어진다.\n",
        "\n",
        "\n",
        "\n",
        "(1)과 (2)위치에 들어갈 세 자리 자연수가 주어질 때 (3), (4), (5), (6)위치에 들어갈 값을 구하는 프로그램을 작성하시오.\n",
        "\n",
        "입력\n",
        "첫째 줄에 (1)의 위치에 들어갈 세 자리 자연수가, 둘째 줄에 (2)의 위치에 들어갈 세자리 자연수가 주어진다.\n",
        "\n",
        "출력\n",
        "첫째 줄부터 넷째 줄까지 차례대로 (3), (4), (5), (6)에 들어갈 값을 출력한다."
      ],
      "metadata": {
        "id": "iNzw0mYDnrRa"
      }
    },
    {
      "cell_type": "code",
      "source": [
        "a = int(input())\n",
        "b = input()\n",
        "print(a*int(b[2]))\n",
        "print(a*int(b[1]))\n",
        "print(a*int(b[0]))\n",
        "print(a*int(b))"
      ],
      "metadata": {
        "colab": {
          "base_uri": "https://localhost:8080/"
        },
        "id": "mr1PT7gwnrO6",
        "outputId": "ef282a30-a399-4b1b-ad7d-31f6d1e55ac1"
      },
      "execution_count": 25,
      "outputs": [
        {
          "output_type": "stream",
          "name": "stdout",
          "text": [
            "472\n",
            "385\n",
            "2360\n",
            "3776\n",
            "1416\n",
            "181720\n"
          ]
        }
      ]
    },
    {
      "cell_type": "markdown",
      "source": [
        "## 10171 고양이"
      ],
      "metadata": {
        "id": "L4qGdrqnnrMV"
      }
    },
    {
      "cell_type": "code",
      "source": [
        "print('\\\\    /\\\\')\n",
        "print(\" )  ( ')\")\n",
        "print(\"(  /  )\")\n",
        "print(\" \\\\(__)|\")\n"
      ],
      "metadata": {
        "colab": {
          "base_uri": "https://localhost:8080/"
        },
        "id": "ETJ8QRdonrJ8",
        "outputId": "16b9c605-f7b1-44fa-8f4b-5402c009acae"
      },
      "execution_count": 27,
      "outputs": [
        {
          "output_type": "stream",
          "name": "stdout",
          "text": [
            "\\    /\\\n",
            " )  ( ')\n",
            "(  /  )\n",
            " \\(__)|\n"
          ]
        }
      ]
    },
    {
      "cell_type": "markdown",
      "source": [
        "## 10172 개"
      ],
      "metadata": {
        "id": "_k5F9VRanrHm"
      }
    },
    {
      "cell_type": "code",
      "source": [
        "print(\"|\\\\_/|\")\n",
        "print(\"|q p|   /}\")\n",
        "print('( 0 )\"\"\"\\\\')\n",
        "print('|\"^\"`    |')\n",
        "print('||_/=\\\\\\\\__|')"
      ],
      "metadata": {
        "colab": {
          "base_uri": "https://localhost:8080/"
        },
        "id": "O7j9cVn0nrFL",
        "outputId": "73e2a7e3-922d-45fa-d0d6-abf224d0071e"
      },
      "execution_count": 28,
      "outputs": [
        {
          "output_type": "stream",
          "name": "stdout",
          "text": [
            "\n",
            "\n",
            "\n",
            "\n",
            "\n",
            "\n"
          ]
        }
      ]
    },
    {
      "cell_type": "markdown",
      "source": [
        "## 25083 새싹"
      ],
      "metadata": {
        "id": "7jIEWRjXnrDA"
      }
    },
    {
      "cell_type": "code",
      "source": [
        "print(\"\"\"         ,r'\"7\"\"\")\n",
        "print(\"r`-_   ,'  ,/\")\n",
        "print(\"\"\" \\. \". L_r'\"\"\")\n",
        "print(\"   `~\\\\/\")\n",
        "print('      |')\n",
        "print('      |')"
      ],
      "metadata": {
        "colab": {
          "base_uri": "https://localhost:8080/"
        },
        "id": "Io_Hb9JynrAo",
        "outputId": "45162395-d49a-4129-cace-239745d46584"
      },
      "execution_count": 29,
      "outputs": [
        {
          "output_type": "stream",
          "name": "stdout",
          "text": [
            "         ,r'\"7\n",
            "r`-_   ,'  ,/\n",
            " \\. \". L_r'\n",
            "   `~\\/\n",
            "      |\n",
            "      |\n"
          ]
        }
      ]
    },
    {
      "cell_type": "code",
      "source": [
        ""
      ],
      "metadata": {
        "id": "8Gv-bxgVnq65"
      },
      "execution_count": null,
      "outputs": []
    },
    {
      "cell_type": "markdown",
      "source": [
        "## 1065 한수\n",
        "문제\n",
        "어떤 양의 정수 X의 각 자리가 등차수열을 이룬다면, 그 수를 한수라고 한다. 등차수열은 연속된 두 개의 수의 차이가 일정한 수열을 말한다. N이 주어졌을 때, 1보다 크거나 같고, N보다 작거나 같은 한수의 개수를 출력하는 프로그램을 작성하시오. \n",
        "\n",
        "입력\n",
        "첫째 줄에 1,000보다 작거나 같은 자연수 N이 주어진다.\n",
        "\n",
        "출력\n",
        "첫째 줄에 1보다 크거나 같고, N보다 작거나 같은 한수의 개수를 출력한다."
      ],
      "metadata": {
        "id": "XGC2_m_bgE8k"
      }
    },
    {
      "cell_type": "code",
      "source": [
        ""
      ],
      "metadata": {
        "id": "2m3_7VcsgLhq"
      },
      "execution_count": null,
      "outputs": []
    }
  ]
}